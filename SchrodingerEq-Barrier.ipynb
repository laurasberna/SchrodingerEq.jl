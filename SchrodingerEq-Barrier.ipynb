{
 "cells": [
  {
   "cell_type": "markdown",
   "metadata": {},
   "source": [
    "# SchrodingerEq.jl\n",
    "\n",
    "A project for the Computational Physics UW course (module III), by Laura Sberna."
   ]
  },
  {
   "cell_type": "markdown",
   "metadata": {},
   "source": [
    "We upload the necessary packages and set some parameters:"
   ]
  },
  {
   "cell_type": "code",
   "execution_count": 1,
   "metadata": {},
   "outputs": [],
   "source": [
    "using LinearAlgebra\n",
    "using Plots"
   ]
  },
  {
   "cell_type": "code",
   "execution_count": 58,
   "metadata": {},
   "outputs": [
    {
     "data": {
      "text/plain": [
       "0.0"
      ]
     },
     "execution_count": 58,
     "metadata": {},
     "output_type": "execute_result"
    }
   ],
   "source": [
    "m = 25.\n",
    "hbar = 1.\n",
    "t0 = 0."
   ]
  },
  {
   "cell_type": "markdown",
   "metadata": {},
   "source": [
    "## PLC Functions\n",
    "\n",
    "I use the Piecewise Linear Continuous functions discussed in lecture (numer, link to github). "
   ]
  },
  {
   "cell_type": "code",
   "execution_count": 3,
   "metadata": {},
   "outputs": [],
   "source": [
    "struct PLCFun{T,U}\n",
    "    points::Vector{U}\n",
    "end"
   ]
  },
  {
   "cell_type": "code",
   "execution_count": 4,
   "metadata": {},
   "outputs": [],
   "source": [
    "function Base. *(a::U, f::PLCFun{T,U})::PLCFun{T,U} where {T,U}\n",
    " PLCFun{T,U}(a .* f.points)\n",
    "end\n",
    "\n",
    "function Base. +(g::PLCFun{T,U}, f::PLCFun{T,U})::PLCFun{T,U} where {T,U}\n",
    "    @assert length(f.points) == length(g.points) ## gives error message if not satisfied\n",
    " PLCFun{T,U}(g.points .+ f.points)\n",
    "end"
   ]
  },
  {
   "cell_type": "code",
   "execution_count": 5,
   "metadata": {},
   "outputs": [
    {
     "data": {
      "text/plain": [
       "xcoord (generic function with 1 method)"
      ]
     },
     "execution_count": 5,
     "metadata": {},
     "output_type": "execute_result"
    }
   ],
   "source": [
    "function xcoord(::Type{T}, nlines::Int, i::Int)::T where {T,U}\n",
    "    dx = 1 / nlines\n",
    "    @assert 1 <= i <= nlines+1\n",
    "    x = (i-1) * dx\n",
    "    x\n",
    "end"
   ]
  },
  {
   "cell_type": "code",
   "execution_count": 6,
   "metadata": {},
   "outputs": [
    {
     "data": {
      "text/plain": [
       "lineindex (generic function with 1 method)"
      ]
     },
     "execution_count": 6,
     "metadata": {},
     "output_type": "execute_result"
    }
   ],
   "source": [
    "function lineindex(f::PLCFun{T,U}, x::T)::Int where {T,U}\n",
    "    @assert 0 <= x <= 1\n",
    "    nlines=length(f.points)-1\n",
    "    dx = 1 / nlines\n",
    "    i = floor(Int, x / dx) + 1\n",
    "    i = max(1,i)\n",
    "    i = min(nlines, i)\n",
    "    i\n",
    "end"
   ]
  },
  {
   "cell_type": "code",
   "execution_count": 7,
   "metadata": {},
   "outputs": [
    {
     "data": {
      "text/plain": [
       "samplePLC (generic function with 1 method)"
      ]
     },
     "execution_count": 7,
     "metadata": {},
     "output_type": "execute_result"
    }
   ],
   "source": [
    "function samplePLC(::Type{T}, ::Type{U}, nlines::Int, f::Function)::PLCFun{T,U} where {T,U}\n",
    "    ys = U[f(xcoord(T, nlines, i)) for i in 1:nlines+1]\n",
    "    PLCFun{T,U}(ys)\n",
    "end"
   ]
  },
  {
   "cell_type": "code",
   "execution_count": 8,
   "metadata": {},
   "outputs": [
    {
     "data": {
      "text/plain": [
       "linterp (generic function with 1 method)"
      ]
     },
     "execution_count": 8,
     "metadata": {},
     "output_type": "execute_result"
    }
   ],
   "source": [
    "function linterp(x1::T, y1::U, x2::T, y2::U, x::T)::U where {T,U}\n",
    "    y1 * (x - x2) / (x1 - x2) + y2 * (x - x1) / (x2 - x1)\n",
    "end"
   ]
  },
  {
   "cell_type": "code",
   "execution_count": 9,
   "metadata": {},
   "outputs": [
    {
     "data": {
      "text/plain": [
       "evaluate (generic function with 1 method)"
      ]
     },
     "execution_count": 9,
     "metadata": {},
     "output_type": "execute_result"
    }
   ],
   "source": [
    "function evaluate(f::PLCFun{T,U}, x::T)::U where {T,U}\n",
    "    @assert 0 <= x <= 1\n",
    "    nlines=length(f.points)-1\n",
    "    i = lineindex(f, x)\n",
    "    x1=xcoord(T, nlines, i)\n",
    "    x2=xcoord(T, nlines, i+1)\n",
    "    y1=f.points[i]\n",
    "    y2=f.points[i+1]\n",
    "    y = linterp(x1, y1, x2, y2, x)\n",
    "    y\n",
    "end"
   ]
  },
  {
   "cell_type": "markdown",
   "metadata": {},
   "source": [
    "The second order central finite diferrence scheme for the second order derivative is obtained as follows. We write the Taylor expansions\n",
    "\\begin{align}\n",
    "f(x_{j-1})&=f(x_j)-\\Delta x f'(x_j) + \\frac{\\Delta x^2}{2} f''(x_j) + O(\\Delta x ^3)\\\\ \n",
    "f(x_{j})&=f(x_j) \\\\\n",
    "f(x_{j+1})&=f(x_j)+\\Delta x f'(x_j) + \\frac{\\Delta x^2}{2} f''(x_j) + O(\\Delta x ^3) \\\\ \n",
    "\\end{align}\n",
    "from which\n",
    "\\begin{equation}\n",
    "f''(x_j) = \\frac{f(x_{j+1}) -2f(x_{j}) + f(x_{j-1})}{\\Delta x^2} + O(\\Delta x ^3) \n",
    "\\end{equation}\n",
    "We also put the system in a box: at the endpoints, we use the left or right scheme and set $f(boundary)=0$:\n",
    "\\begin{align}\n",
    "f''(x_j) &= \\frac{ f(x_{j+2})-2 f(x_{j+1}) }{\\Delta x^2} + O(\\Delta x ^3)  \\ \\ \\ (left \\ boundary) \\\\\n",
    "f''(x_j) &= \\frac{f(x_{j-2})-2 f(x_{j-1}) }{\\Delta x^2} + O(\\Delta x ^3)  \\ \\ \\ (right \\  boundary)\n",
    "\\end{align}"
   ]
  },
  {
   "cell_type": "code",
   "execution_count": 10,
   "metadata": {},
   "outputs": [
    {
     "data": {
      "text/plain": [
       "derivSecondCenter (generic function with 1 method)"
      ]
     },
     "execution_count": 10,
     "metadata": {},
     "output_type": "execute_result"
    }
   ],
   "source": [
    "function derivSecondCenter(f::PLCFun{T,U})::PLCFun{T,U} where {T,U} \n",
    "    nlines=length(f.points)-1\n",
    "    dx = 1 / nlines\n",
    "    ys=U[(f.points[3] - 2*f.points[2] + f.points[1]) /(dx^2) ;[(f.points[i+1] - 2*f.points[i] + f.points[i-1]) /(dx^2) for i in 2:nlines]; (f.points[end-2] - 2*f.points[end-1] + f.points[end]) /(dx^2)]\n",
    "    PLCFun{T,U}(ys)\n",
    "end"
   ]
  },
  {
   "cell_type": "code",
   "execution_count": 11,
   "metadata": {},
   "outputs": [
    {
     "data": {
      "text/plain": [
       "(0.8658783625071171, 0.32716319804950605)"
      ]
     },
     "execution_count": 11,
     "metadata": {},
     "output_type": "execute_result"
    }
   ],
   "source": [
    "fsin = samplePLC(Float64, Float64, 100, sinpi) # test\n",
    "evaluate(fsin, 0.3333), sin(0.3333)"
   ]
  },
  {
   "cell_type": "code",
   "execution_count": 12,
   "metadata": {},
   "outputs": [
    {
     "data": {
      "image/svg+xml": [
       "<?xml version=\"1.0\" encoding=\"utf-8\"?>\n",
       "<svg xmlns=\"http://www.w3.org/2000/svg\" xmlns:xlink=\"http://www.w3.org/1999/xlink\" width=\"600\" height=\"400\" viewBox=\"0 0 2400 1600\">\n",
       "<defs>\n",
       "  <clipPath id=\"clip4100\">\n",
       "    <rect x=\"0\" y=\"0\" width=\"2000\" height=\"2000\"/>\n",
       "  </clipPath>\n",
       "</defs>\n",
       "<defs>\n",
       "  <clipPath id=\"clip4101\">\n",
       "    <rect x=\"0\" y=\"0\" width=\"2400\" height=\"1600\"/>\n",
       "  </clipPath>\n",
       "</defs>\n",
       "<polygon clip-path=\"url(#clip4101)\" points=\"\n",
       "0,1600 2400,1600 2400,0 0,0 \n",
       "  \" fill=\"#ffffff\" fill-rule=\"evenodd\" fill-opacity=\"1\"/>\n",
       "<defs>\n",
       "  <clipPath id=\"clip4102\">\n",
       "    <rect x=\"480\" y=\"0\" width=\"1681\" height=\"1600\"/>\n",
       "  </clipPath>\n",
       "</defs>\n",
       "<polygon clip-path=\"url(#clip4101)\" points=\"\n",
       "188.156,1503.47 2321.26,1503.47 2321.26,47.2441 188.156,47.2441 \n",
       "  \" fill=\"#ffffff\" fill-rule=\"evenodd\" fill-opacity=\"1\"/>\n",
       "<defs>\n",
       "  <clipPath id=\"clip4103\">\n",
       "    <rect x=\"188\" y=\"47\" width=\"2134\" height=\"1457\"/>\n",
       "  </clipPath>\n",
       "</defs>\n",
       "<polyline clip-path=\"url(#clip4103)\" style=\"stroke:#000000; stroke-width:2; stroke-opacity:0.1; fill:none\" points=\"\n",
       "  248.527,1503.47 248.527,47.2441 \n",
       "  \"/>\n",
       "<polyline clip-path=\"url(#clip4103)\" style=\"stroke:#000000; stroke-width:2; stroke-opacity:0.1; fill:none\" points=\"\n",
       "  751.618,1503.47 751.618,47.2441 \n",
       "  \"/>\n",
       "<polyline clip-path=\"url(#clip4103)\" style=\"stroke:#000000; stroke-width:2; stroke-opacity:0.1; fill:none\" points=\"\n",
       "  1254.71,1503.47 1254.71,47.2441 \n",
       "  \"/>\n",
       "<polyline clip-path=\"url(#clip4103)\" style=\"stroke:#000000; stroke-width:2; stroke-opacity:0.1; fill:none\" points=\"\n",
       "  1757.8,1503.47 1757.8,47.2441 \n",
       "  \"/>\n",
       "<polyline clip-path=\"url(#clip4103)\" style=\"stroke:#000000; stroke-width:2; stroke-opacity:0.1; fill:none\" points=\"\n",
       "  2260.89,1503.47 2260.89,47.2441 \n",
       "  \"/>\n",
       "<polyline clip-path=\"url(#clip4103)\" style=\"stroke:#000000; stroke-width:2; stroke-opacity:0.1; fill:none\" points=\"\n",
       "  188.156,1462.26 2321.26,1462.26 \n",
       "  \"/>\n",
       "<polyline clip-path=\"url(#clip4103)\" style=\"stroke:#000000; stroke-width:2; stroke-opacity:0.1; fill:none\" points=\"\n",
       "  188.156,1118.77 2321.26,1118.77 \n",
       "  \"/>\n",
       "<polyline clip-path=\"url(#clip4103)\" style=\"stroke:#000000; stroke-width:2; stroke-opacity:0.1; fill:none\" points=\"\n",
       "  188.156,775.273 2321.26,775.273 \n",
       "  \"/>\n",
       "<polyline clip-path=\"url(#clip4103)\" style=\"stroke:#000000; stroke-width:2; stroke-opacity:0.1; fill:none\" points=\"\n",
       "  188.156,431.779 2321.26,431.779 \n",
       "  \"/>\n",
       "<polyline clip-path=\"url(#clip4103)\" style=\"stroke:#000000; stroke-width:2; stroke-opacity:0.1; fill:none\" points=\"\n",
       "  188.156,88.2852 2321.26,88.2852 \n",
       "  \"/>\n",
       "<polyline clip-path=\"url(#clip4101)\" style=\"stroke:#000000; stroke-width:4; stroke-opacity:1; fill:none\" points=\"\n",
       "  188.156,1503.47 2321.26,1503.47 \n",
       "  \"/>\n",
       "<polyline clip-path=\"url(#clip4101)\" style=\"stroke:#000000; stroke-width:4; stroke-opacity:1; fill:none\" points=\"\n",
       "  188.156,1503.47 188.156,47.2441 \n",
       "  \"/>\n",
       "<polyline clip-path=\"url(#clip4101)\" style=\"stroke:#000000; stroke-width:4; stroke-opacity:1; fill:none\" points=\"\n",
       "  248.527,1503.47 248.527,1481.63 \n",
       "  \"/>\n",
       "<polyline clip-path=\"url(#clip4101)\" style=\"stroke:#000000; stroke-width:4; stroke-opacity:1; fill:none\" points=\"\n",
       "  751.618,1503.47 751.618,1481.63 \n",
       "  \"/>\n",
       "<polyline clip-path=\"url(#clip4101)\" style=\"stroke:#000000; stroke-width:4; stroke-opacity:1; fill:none\" points=\"\n",
       "  1254.71,1503.47 1254.71,1481.63 \n",
       "  \"/>\n",
       "<polyline clip-path=\"url(#clip4101)\" style=\"stroke:#000000; stroke-width:4; stroke-opacity:1; fill:none\" points=\"\n",
       "  1757.8,1503.47 1757.8,1481.63 \n",
       "  \"/>\n",
       "<polyline clip-path=\"url(#clip4101)\" style=\"stroke:#000000; stroke-width:4; stroke-opacity:1; fill:none\" points=\"\n",
       "  2260.89,1503.47 2260.89,1481.63 \n",
       "  \"/>\n",
       "<polyline clip-path=\"url(#clip4101)\" style=\"stroke:#000000; stroke-width:4; stroke-opacity:1; fill:none\" points=\"\n",
       "  188.156,1462.26 220.153,1462.26 \n",
       "  \"/>\n",
       "<polyline clip-path=\"url(#clip4101)\" style=\"stroke:#000000; stroke-width:4; stroke-opacity:1; fill:none\" points=\"\n",
       "  188.156,1118.77 220.153,1118.77 \n",
       "  \"/>\n",
       "<polyline clip-path=\"url(#clip4101)\" style=\"stroke:#000000; stroke-width:4; stroke-opacity:1; fill:none\" points=\"\n",
       "  188.156,775.273 220.153,775.273 \n",
       "  \"/>\n",
       "<polyline clip-path=\"url(#clip4101)\" style=\"stroke:#000000; stroke-width:4; stroke-opacity:1; fill:none\" points=\"\n",
       "  188.156,431.779 220.153,431.779 \n",
       "  \"/>\n",
       "<polyline clip-path=\"url(#clip4101)\" style=\"stroke:#000000; stroke-width:4; stroke-opacity:1; fill:none\" points=\"\n",
       "  188.156,88.2852 220.153,88.2852 \n",
       "  \"/>\n",
       "<g clip-path=\"url(#clip4101)\">\n",
       "<text style=\"fill:#000000; fill-opacity:1; font-family:Arial,Helvetica Neue,Helvetica,sans-serif; font-size:48px; text-anchor:middle;\" transform=\"rotate(0, 248.527, 1557.47)\" x=\"248.527\" y=\"1557.47\">0.00</text>\n",
       "</g>\n",
       "<g clip-path=\"url(#clip4101)\">\n",
       "<text style=\"fill:#000000; fill-opacity:1; font-family:Arial,Helvetica Neue,Helvetica,sans-serif; font-size:48px; text-anchor:middle;\" transform=\"rotate(0, 751.618, 1557.47)\" x=\"751.618\" y=\"1557.47\">0.25</text>\n",
       "</g>\n",
       "<g clip-path=\"url(#clip4101)\">\n",
       "<text style=\"fill:#000000; fill-opacity:1; font-family:Arial,Helvetica Neue,Helvetica,sans-serif; font-size:48px; text-anchor:middle;\" transform=\"rotate(0, 1254.71, 1557.47)\" x=\"1254.71\" y=\"1557.47\">0.50</text>\n",
       "</g>\n",
       "<g clip-path=\"url(#clip4101)\">\n",
       "<text style=\"fill:#000000; fill-opacity:1; font-family:Arial,Helvetica Neue,Helvetica,sans-serif; font-size:48px; text-anchor:middle;\" transform=\"rotate(0, 1757.8, 1557.47)\" x=\"1757.8\" y=\"1557.47\">0.75</text>\n",
       "</g>\n",
       "<g clip-path=\"url(#clip4101)\">\n",
       "<text style=\"fill:#000000; fill-opacity:1; font-family:Arial,Helvetica Neue,Helvetica,sans-serif; font-size:48px; text-anchor:middle;\" transform=\"rotate(0, 2260.89, 1557.47)\" x=\"2260.89\" y=\"1557.47\">1.00</text>\n",
       "</g>\n",
       "<g clip-path=\"url(#clip4101)\">\n",
       "<text style=\"fill:#000000; fill-opacity:1; font-family:Arial,Helvetica Neue,Helvetica,sans-serif; font-size:48px; text-anchor:end;\" transform=\"rotate(0, 164.156, 1479.76)\" x=\"164.156\" y=\"1479.76\">0.00</text>\n",
       "</g>\n",
       "<g clip-path=\"url(#clip4101)\">\n",
       "<text style=\"fill:#000000; fill-opacity:1; font-family:Arial,Helvetica Neue,Helvetica,sans-serif; font-size:48px; text-anchor:end;\" transform=\"rotate(0, 164.156, 1136.27)\" x=\"164.156\" y=\"1136.27\">0.25</text>\n",
       "</g>\n",
       "<g clip-path=\"url(#clip4101)\">\n",
       "<text style=\"fill:#000000; fill-opacity:1; font-family:Arial,Helvetica Neue,Helvetica,sans-serif; font-size:48px; text-anchor:end;\" transform=\"rotate(0, 164.156, 792.773)\" x=\"164.156\" y=\"792.773\">0.50</text>\n",
       "</g>\n",
       "<g clip-path=\"url(#clip4101)\">\n",
       "<text style=\"fill:#000000; fill-opacity:1; font-family:Arial,Helvetica Neue,Helvetica,sans-serif; font-size:48px; text-anchor:end;\" transform=\"rotate(0, 164.156, 449.279)\" x=\"164.156\" y=\"449.279\">0.75</text>\n",
       "</g>\n",
       "<g clip-path=\"url(#clip4101)\">\n",
       "<text style=\"fill:#000000; fill-opacity:1; font-family:Arial,Helvetica Neue,Helvetica,sans-serif; font-size:48px; text-anchor:end;\" transform=\"rotate(0, 164.156, 105.785)\" x=\"164.156\" y=\"105.785\">1.00</text>\n",
       "</g>\n",
       "<polyline clip-path=\"url(#clip4103)\" style=\"stroke:#009af9; stroke-width:4; stroke-opacity:1; fill:none\" points=\"\n",
       "  248.527,1462.26 268.854,1418.67 289.181,1375.12 309.508,1331.66 329.835,1288.33 350.162,1245.17 370.489,1202.23 390.815,1159.56 411.142,1117.19 431.469,1075.17 \n",
       "  451.796,1033.53 472.123,992.333 492.45,951.606 512.777,911.392 533.104,871.733 553.431,832.669 573.757,794.238 594.084,756.481 614.411,719.433 634.738,683.134 \n",
       "  655.065,647.62 675.392,612.925 695.719,579.086 716.046,546.136 736.373,514.109 756.699,483.036 777.026,452.95 797.353,423.879 817.68,395.854 838.007,368.903 \n",
       "  858.334,343.053 878.661,318.33 898.988,294.759 919.314,272.363 939.641,251.165 959.968,231.187 980.295,212.449 1000.62,194.969 1020.95,178.764 1041.28,163.853 \n",
       "  1061.6,150.248 1081.93,137.965 1102.26,127.015 1122.58,117.41 1142.91,109.159 1163.24,102.27 1183.56,96.751 1203.89,92.6067 1224.22,89.8415 1244.54,88.4582 \n",
       "  1264.87,88.4582 1285.2,89.8415 1305.53,92.6067 1325.85,96.751 1346.18,102.27 1366.51,109.159 1386.83,117.41 1407.16,127.015 1427.49,137.965 1447.81,150.248 \n",
       "  1468.14,163.853 1488.47,178.764 1508.79,194.969 1529.12,212.449 1549.45,231.187 1569.77,251.165 1590.1,272.363 1610.43,294.759 1630.76,318.33 1651.08,343.053 \n",
       "  1671.41,368.903 1691.74,395.854 1712.06,423.879 1732.39,452.95 1752.72,483.036 1773.04,514.109 1793.37,546.136 1813.7,579.086 1834.02,612.925 1854.35,647.62 \n",
       "  1874.68,683.134 1895.01,719.433 1915.33,756.481 1935.66,794.238 1955.99,832.669 1976.31,871.733 1996.64,911.392 2016.97,951.606 2037.29,992.333 2057.62,1033.53 \n",
       "  2077.95,1075.17 2098.27,1117.19 2118.6,1159.56 2138.93,1202.23 2159.25,1245.17 2179.58,1288.33 2199.91,1331.66 2220.24,1375.12 2240.56,1418.67 2260.89,1462.26 \n",
       "  \n",
       "  \"/>\n",
       "<polyline clip-path=\"url(#clip4103)\" style=\"stroke:#e26f46; stroke-width:4; stroke-opacity:1; fill:none\" points=\"\n",
       "  248.527,1462.26 268.854,1418.67 289.181,1375.12 309.508,1331.66 329.835,1288.33 350.162,1245.18 370.489,1202.24 390.815,1159.57 411.142,1117.2 431.469,1075.18 \n",
       "  451.796,1033.55 472.123,992.357 492.45,951.633 512.777,911.424 533.104,871.769 553.431,832.709 573.757,794.284 594.084,756.531 614.411,719.489 634.738,683.195 \n",
       "  655.065,647.685 675.392,612.996 695.719,579.162 716.046,546.218 736.373,514.195 756.699,483.128 777.026,453.047 797.353,423.981 817.68,395.962 838.007,369.016 \n",
       "  858.334,343.17 878.661,318.452 898.988,294.885 919.314,272.494 939.641,251.3 959.968,231.326 980.295,212.592 1000.62,195.115 1020.95,178.914 1041.28,164.006 \n",
       "  1061.6,150.404 1081.93,138.124 1102.26,127.176 1122.58,117.573 1142.91,109.324 1163.24,102.437 1183.56,96.9187 1203.89,92.7752 1224.22,90.0106 1244.54,88.6276 \n",
       "  1264.87,88.6276 1285.2,90.0106 1305.53,92.7752 1325.85,96.9187 1346.18,102.437 1366.51,109.324 1386.83,117.573 1407.16,127.176 1427.49,138.124 1447.81,150.404 \n",
       "  1468.14,164.006 1488.47,178.914 1508.79,195.115 1529.12,212.592 1549.45,231.326 1569.77,251.3 1590.1,272.494 1610.43,294.885 1630.76,318.452 1651.08,343.17 \n",
       "  1671.41,369.016 1691.74,395.962 1712.06,423.981 1732.39,453.047 1752.72,483.128 1773.04,514.195 1793.37,546.218 1813.7,579.162 1834.02,612.996 1854.35,647.685 \n",
       "  1874.68,683.195 1895.01,719.489 1915.33,756.531 1935.66,794.284 1955.99,832.709 1976.31,871.769 1996.64,911.424 2016.97,951.633 2037.29,992.357 2057.62,1033.55 \n",
       "  2077.95,1075.18 2098.27,1117.2 2118.6,1159.57 2138.93,1202.24 2159.25,1245.18 2179.58,1288.33 2199.91,1331.66 2220.24,1375.12 2240.56,1418.67 2260.89,1462.26 \n",
       "  \n",
       "  \"/>\n",
       "<polygon clip-path=\"url(#clip4101)\" points=\"\n",
       "1958.43,312.204 2249.26,312.204 2249.26,130.764 1958.43,130.764 \n",
       "  \" fill=\"#ffffff\" fill-rule=\"evenodd\" fill-opacity=\"1\"/>\n",
       "<polyline clip-path=\"url(#clip4101)\" style=\"stroke:#000000; stroke-width:4; stroke-opacity:1; fill:none\" points=\"\n",
       "  1958.43,312.204 2249.26,312.204 2249.26,130.764 1958.43,130.764 1958.43,312.204 \n",
       "  \"/>\n",
       "<polyline clip-path=\"url(#clip4101)\" style=\"stroke:#009af9; stroke-width:4; stroke-opacity:1; fill:none\" points=\"\n",
       "  1982.43,191.244 2126.43,191.244 \n",
       "  \"/>\n",
       "<g clip-path=\"url(#clip4101)\">\n",
       "<text style=\"fill:#000000; fill-opacity:1; font-family:Arial,Helvetica Neue,Helvetica,sans-serif; font-size:48px; text-anchor:start;\" transform=\"rotate(0, 2150.43, 208.744)\" x=\"2150.43\" y=\"208.744\">y1</text>\n",
       "</g>\n",
       "<polyline clip-path=\"url(#clip4101)\" style=\"stroke:#e26f46; stroke-width:4; stroke-opacity:1; fill:none\" points=\"\n",
       "  1982.43,251.724 2126.43,251.724 \n",
       "  \"/>\n",
       "<g clip-path=\"url(#clip4101)\">\n",
       "<text style=\"fill:#000000; fill-opacity:1; font-family:Arial,Helvetica Neue,Helvetica,sans-serif; font-size:48px; text-anchor:start;\" transform=\"rotate(0, 2150.43, 269.224)\" x=\"2150.43\" y=\"269.224\">y2</text>\n",
       "</g>\n",
       "</svg>\n"
      ]
     },
     "execution_count": 12,
     "metadata": {},
     "output_type": "execute_result"
    }
   ],
   "source": [
    "xs = collect(range(0, stop=1, length=100))\n",
    "plot(xs, sinpi.(xs))\n",
    "plot!(xs, [evaluate(fsin, x) for x in xs])"
   ]
  },
  {
   "cell_type": "markdown",
   "metadata": {},
   "source": [
    "## The Schroedinger equation\n",
    "\n",
    "Implicit methods for parabolic equations require very small time steps. For this reason it is better to implement higher order time integrators than Euler, like Runge-Kutta 2 or 4."
   ]
  },
  {
   "cell_type": "code",
   "execution_count": 13,
   "metadata": {},
   "outputs": [],
   "source": [
    "struct WaveFunction{T, U}\n",
    "    time::T\n",
    "    psi::PLCFun{T,U}\n",
    "end"
   ]
  },
  {
   "cell_type": "code",
   "execution_count": 14,
   "metadata": {},
   "outputs": [],
   "source": [
    "function Base. *(a::U, f::WaveFunction{T, U})::WaveFunction{T, U} where {T,U}\n",
    " WaveFunction{T, U}(f.time, a * f.psi)\n",
    "end\n",
    "\n",
    "function Base. *(v::PLCFun{T,Float64}, f::PLCFun{T,U})::PLCFun{T,U} where {T,U}\n",
    "    @assert length(v.points)==length(f.points)\n",
    "    PLCFun{T,U}(v.points .* f.points)\n",
    "end\n",
    "\n",
    "function Base. +(g::WaveFunction{T, U}, f::WaveFunction{T, U})::WaveFunction{T, U} where {T,U}\n",
    "    @assert abs(f.time - g.time) <= 100*eps(T)\n",
    " WaveFunction{T, U}(f.time, g.psi + f.psi)\n",
    "end"
   ]
  },
  {
   "cell_type": "code",
   "execution_count": 15,
   "metadata": {},
   "outputs": [
    {
     "data": {
      "text/plain": [
       "gaussian (generic function with 1 method)"
      ]
     },
     "execution_count": 15,
     "metadata": {},
     "output_type": "execute_result"
    }
   ],
   "source": [
    "function gaussian(x::T, x0::T, sigmax::T, p::T)::Complex{Float64} where {T}\n",
    "    1 / sqrt(sqrt(pi * sigmax^2)) * exp( - (x-x0)^2 / ( 2 * sigmax^2 ) + im * p * (x-x0))\n",
    "end"
   ]
  },
  {
   "cell_type": "code",
   "execution_count": null,
   "metadata": {},
   "outputs": [],
   "source": [
    "# exact solution for the free particle with Gaussian initial state\n",
    "psianalyticsol(x,t) = 1 /pi^(1/4) / sqrt(sigmax + im*hbar*t /(m*sigmax)) * exp(- im * t*p^2 / (2*m) + im * p * (x-x0) - (x -x0 - hbar*p*t/m)^2/(2*(sigmax^2 + im*hbar*t / m)) )"
   ]
  },
  {
   "cell_type": "code",
   "execution_count": 16,
   "metadata": {},
   "outputs": [
    {
     "data": {
      "text/plain": [
       "initialGaussian (generic function with 1 method)"
      ]
     },
     "execution_count": 16,
     "metadata": {},
     "output_type": "execute_result"
    }
   ],
   "source": [
    "function initialGaussian(nlines::Int, x0::Float64, sigmax::Float64, p::Float64)::WaveFunction{Float64, Complex{Float64}}\n",
    "    t = 0\n",
    "    y = samplePLC(Float64, Complex{Float64}, nlines, x -> gaussian(x,x0,sigmax,p))\n",
    "    WaveFunction{Float64, Complex{Float64}}(t,y)\n",
    "end"
   ]
  },
  {
   "cell_type": "code",
   "execution_count": 17,
   "metadata": {},
   "outputs": [
    {
     "data": {
      "text/plain": [
       "potential (generic function with 1 method)"
      ]
     },
     "execution_count": 17,
     "metadata": {},
     "output_type": "execute_result"
    }
   ],
   "source": [
    "function potential(nlines::Int)::PLCFun{Float64,Float64}\n",
    "    samplePLC(Float64, Float64, nlines,V)\n",
    "end"
   ]
  },
  {
   "cell_type": "code",
   "execution_count": 18,
   "metadata": {},
   "outputs": [
    {
     "data": {
      "text/plain": [
       "rhsSchroedinger (generic function with 1 method)"
      ]
     },
     "execution_count": 18,
     "metadata": {},
     "output_type": "execute_result"
    }
   ],
   "source": [
    "function rhsSchroedinger(s::WaveFunction{T, U})::WaveFunction{T, U} where {T,U}\n",
    "    t = s.time\n",
    "    psi = s.psi\n",
    "    nlines = length(psi.points) - 1\n",
    "    psixx = (- im / hbar) * ((- hbar^2 / ( 2*m) + im * 0.) * derivSecondCenter(psi) + potential(nlines) * psi)\n",
    "    psit = PLCFun{T,U}(U[0;[psixx.points[i] for i in 2:nlines]; 0])\n",
    "    WaveFunction{T, U}(t, psit)\n",
    "end"
   ]
  },
  {
   "cell_type": "code",
   "execution_count": 19,
   "metadata": {},
   "outputs": [
    {
     "data": {
      "text/plain": [
       "euler (generic function with 1 method)"
      ]
     },
     "execution_count": 19,
     "metadata": {},
     "output_type": "execute_result"
    }
   ],
   "source": [
    "function euler(rhs::Function, dt::T,\n",
    "               s0::WaveFunction{T, U})::WaveFunction{T, U} where {T,U}\n",
    "    r0 = rhs(s0)\n",
    "    s1 = s0 + (dt + im * 0.)  * r0\n",
    "    WaveFunction{T, U}(r0.time + dt, s1.psi)\n",
    "end"
   ]
  },
  {
   "cell_type": "code",
   "execution_count": 20,
   "metadata": {},
   "outputs": [
    {
     "data": {
      "text/plain": [
       "RK2 (generic function with 1 method)"
      ]
     },
     "execution_count": 20,
     "metadata": {},
     "output_type": "execute_result"
    }
   ],
   "source": [
    "function RK2(rhs::Function, dt::T,\n",
    "               s0::WaveFunction{T, U})::WaveFunction{T, U} where {T,U}\n",
    "    r0 = rhs(s0)\n",
    "    smiddle = s0 + (dt / 2 + im * 0.)  * r0\n",
    "    rmiddle = rhs(smiddle)\n",
    "    s1 = s0 + (dt + im * 0.)  * rmiddle\n",
    "    WaveFunction{T, U}(r0.time + dt, s1.psi)\n",
    "end"
   ]
  },
  {
   "cell_type": "code",
   "execution_count": 21,
   "metadata": {},
   "outputs": [
    {
     "data": {
      "text/plain": [
       "RK4 (generic function with 1 method)"
      ]
     },
     "execution_count": 21,
     "metadata": {},
     "output_type": "execute_result"
    }
   ],
   "source": [
    "function RK4(rhs::Function, dt::T,\n",
    "               s0::WaveFunction{T, U})::WaveFunction{T, U} where {T,U}\n",
    "    k1 = rhs(s0)\n",
    "    k2 = rhs(s0 + (dt / 2 + im * 0.)  * k1)\n",
    "    k3 = rhs(s0 + (dt / 2 + im * 0.)  * k2)\n",
    "    k4 = rhs(s0 + (dt  + im * 0.)  * k3)\n",
    "    s1 = s0 + (dt / 6 + im * 0.)  * (k1 + (2. + im * 0.) *k2 + (2. + im * 0.) *k3 + k4)\n",
    "    WaveFunction{T, U}(s0.time + dt, s1.psi)\n",
    "end"
   ]
  },
  {
   "cell_type": "code",
   "execution_count": 22,
   "metadata": {},
   "outputs": [],
   "source": [
    "struct solution{T,U}\n",
    "    dt::T\n",
    "    dx::T\n",
    "    states::Vector{WaveFunction{T, U}}\n",
    "end"
   ]
  },
  {
   "cell_type": "code",
   "execution_count": 23,
   "metadata": {},
   "outputs": [
    {
     "data": {
      "text/plain": [
       "solveSchrodinger (generic function with 1 method)"
      ]
     },
     "execution_count": 23,
     "metadata": {},
     "output_type": "execute_result"
    }
   ],
   "source": [
    "function solveSchrodinger(tmax::T, nlines::Int, lambda::T, x0::T, sigmax::T, p::T) where {T}\n",
    "    s=initialGaussian(nlines, x0, sigmax, p)\n",
    "    dx= 1/nlines\n",
    "    dt=lambda * dx\n",
    "    nsteps= round(Int, tmax / dt)\n",
    "    sol = solution{T,Complex{T}}(dt, dx, WaveFunction{T, Complex{T}}[])\n",
    "    push!(sol.states, s)\n",
    "    \n",
    "    for step in 1:nsteps\n",
    "        s = RK4(rhsSchroedinger, dt, s)\n",
    "        push!(sol.states, s)\n",
    "    end\n",
    "    return sol\n",
    "end"
   ]
  },
  {
   "cell_type": "code",
   "execution_count": 24,
   "metadata": {},
   "outputs": [
    {
     "data": {
      "text/plain": [
       "refine (generic function with 1 method)"
      ]
     },
     "execution_count": 24,
     "metadata": {},
     "output_type": "execute_result"
    }
   ],
   "source": [
    "function refine(u::PLCFun{T,U})::PLCFun{T,U} where {T,U}\n",
    "    nlines = length(u.points) - 1\n",
    "    dx = 1 / nlines\n",
    "    eval = [evaluate(u, xcoord(T, 2 * nlines, i)) for i in 1:2*nlines+1]\n",
    "    PLCFun{T,U}(eval)\n",
    "end"
   ]
  },
  {
   "cell_type": "code",
   "execution_count": 25,
   "metadata": {},
   "outputs": [
    {
     "data": {
      "text/plain": [
       "totprob (generic function with 1 method)"
      ]
     },
     "execution_count": 25,
     "metadata": {},
     "output_type": "execute_result"
    }
   ],
   "source": [
    "function totprob(u::PLCFun{T,U}, dx::T)::T where {T,U}\n",
    "    dx*sum(abs.(u.points) .^2)\n",
    "end"
   ]
  },
  {
   "cell_type": "markdown",
   "metadata": {},
   "source": [
    "## Barrier in a box\n",
    "We introduce a potential square barrier,\n",
    "\\begin{equation}\n",
    "V(x)= \\begin{cases}\n",
    "&0 \\ \\ \\ \\ if \\ \\ x< x_1, \\ \\ x>x_2 \\\\\n",
    "&V_0 \\ \\ \\ \\ if \\ \\ x_1<x<x_2\n",
    "\\end{cases}\n",
    "\\end{equation}\n",
    "\n",
    "When the energy of the particle is mostly smaller than the barrier height, $E = p^2/2m < V_0 $, quantum tunnelling will happen."
   ]
  },
  {
   "cell_type": "code",
   "execution_count": 89,
   "metadata": {},
   "outputs": [
    {
     "data": {
      "text/plain": [
       "V (generic function with 1 method)"
      ]
     },
     "execution_count": 89,
     "metadata": {},
     "output_type": "execute_result"
    }
   ],
   "source": [
    "function V(x::T)::Float64 where {T}\n",
    "    if x<0.35 || x>0.45 return 0. \n",
    "        else return 50.\n",
    "    end\n",
    "end"
   ]
  },
  {
   "cell_type": "code",
   "execution_count": 102,
   "metadata": {},
   "outputs": [],
   "source": [
    "x0 = 0.25\n",
    "sigmax = 0.05\n",
    "p = 40.\n",
    "n = 500\n",
    "T = 0.21\n",
    "lambda = 0.01  \n",
    "xs = collect(range(0, stop=1, length=n))\n",
    "sol1 = solveSchrodinger(T, n, lambda, x0, sigmax, p);"
   ]
  },
  {
   "cell_type": "code",
   "execution_count": 118,
   "metadata": {},
   "outputs": [
    {
     "data": {
      "text/plain": [
       "(32.0, 50.0)"
      ]
     },
     "execution_count": 118,
     "metadata": {},
     "output_type": "execute_result"
    }
   ],
   "source": [
    "p^2/(2*m), V(0.4)  # checking that E < V_0"
   ]
  },
  {
   "cell_type": "code",
   "execution_count": 113,
   "metadata": {},
   "outputs": [
    {
     "data": {
      "image/svg+xml": [
       "<?xml version=\"1.0\" encoding=\"utf-8\"?>\n",
       "<svg xmlns=\"http://www.w3.org/2000/svg\" xmlns:xlink=\"http://www.w3.org/1999/xlink\" width=\"600\" height=\"400\" viewBox=\"0 0 2400 1600\">\n",
       "<defs>\n",
       "  <clipPath id=\"clip8400\">\n",
       "    <rect x=\"0\" y=\"0\" width=\"2000\" height=\"2000\"/>\n",
       "  </clipPath>\n",
       "</defs>\n",
       "<defs>\n",
       "  <clipPath id=\"clip8401\">\n",
       "    <rect x=\"0\" y=\"0\" width=\"2400\" height=\"1600\"/>\n",
       "  </clipPath>\n",
       "</defs>\n",
       "<polygon clip-path=\"url(#clip8401)\" points=\"\n",
       "0,1600 2400,1600 2400,0 0,0 \n",
       "  \" fill=\"#ffffff\" fill-rule=\"evenodd\" fill-opacity=\"1\"/>\n",
       "<defs>\n",
       "  <clipPath id=\"clip8402\">\n",
       "    <rect x=\"480\" y=\"0\" width=\"1681\" height=\"1600\"/>\n",
       "  </clipPath>\n",
       "</defs>\n",
       "<polygon clip-path=\"url(#clip8401)\" points=\"\n",
       "184.243,1440.48 2321.26,1440.48 2321.26,47.2441 184.243,47.2441 \n",
       "  \" fill=\"#ffffff\" fill-rule=\"evenodd\" fill-opacity=\"1\"/>\n",
       "<defs>\n",
       "  <clipPath id=\"clip8403\">\n",
       "    <rect x=\"184\" y=\"47\" width=\"2138\" height=\"1394\"/>\n",
       "  </clipPath>\n",
       "</defs>\n",
       "<polyline clip-path=\"url(#clip8403)\" style=\"stroke:#000000; stroke-width:2; stroke-opacity:0.1; fill:none\" points=\"\n",
       "  184.243,1440.48 184.243,47.2441 \n",
       "  \"/>\n",
       "<polyline clip-path=\"url(#clip8403)\" style=\"stroke:#000000; stroke-width:2; stroke-opacity:0.1; fill:none\" points=\"\n",
       "  611.646,1440.48 611.646,47.2441 \n",
       "  \"/>\n",
       "<polyline clip-path=\"url(#clip8403)\" style=\"stroke:#000000; stroke-width:2; stroke-opacity:0.1; fill:none\" points=\"\n",
       "  1039.05,1440.48 1039.05,47.2441 \n",
       "  \"/>\n",
       "<polyline clip-path=\"url(#clip8403)\" style=\"stroke:#000000; stroke-width:2; stroke-opacity:0.1; fill:none\" points=\"\n",
       "  1466.45,1440.48 1466.45,47.2441 \n",
       "  \"/>\n",
       "<polyline clip-path=\"url(#clip8403)\" style=\"stroke:#000000; stroke-width:2; stroke-opacity:0.1; fill:none\" points=\"\n",
       "  1893.86,1440.48 1893.86,47.2441 \n",
       "  \"/>\n",
       "<polyline clip-path=\"url(#clip8403)\" style=\"stroke:#000000; stroke-width:2; stroke-opacity:0.1; fill:none\" points=\"\n",
       "  2321.26,1440.48 2321.26,47.2441 \n",
       "  \"/>\n",
       "<polyline clip-path=\"url(#clip8403)\" style=\"stroke:#000000; stroke-width:2; stroke-opacity:0.1; fill:none\" points=\"\n",
       "  184.243,1401.05 2321.26,1401.05 \n",
       "  \"/>\n",
       "<polyline clip-path=\"url(#clip8403)\" style=\"stroke:#000000; stroke-width:2; stroke-opacity:0.1; fill:none\" points=\"\n",
       "  184.243,1167.1 2321.26,1167.1 \n",
       "  \"/>\n",
       "<polyline clip-path=\"url(#clip8403)\" style=\"stroke:#000000; stroke-width:2; stroke-opacity:0.1; fill:none\" points=\"\n",
       "  184.243,933.146 2321.26,933.146 \n",
       "  \"/>\n",
       "<polyline clip-path=\"url(#clip8403)\" style=\"stroke:#000000; stroke-width:2; stroke-opacity:0.1; fill:none\" points=\"\n",
       "  184.243,699.194 2321.26,699.194 \n",
       "  \"/>\n",
       "<polyline clip-path=\"url(#clip8403)\" style=\"stroke:#000000; stroke-width:2; stroke-opacity:0.1; fill:none\" points=\"\n",
       "  184.243,465.241 2321.26,465.241 \n",
       "  \"/>\n",
       "<polyline clip-path=\"url(#clip8403)\" style=\"stroke:#000000; stroke-width:2; stroke-opacity:0.1; fill:none\" points=\"\n",
       "  184.243,231.289 2321.26,231.289 \n",
       "  \"/>\n",
       "<polyline clip-path=\"url(#clip8401)\" style=\"stroke:#000000; stroke-width:4; stroke-opacity:1; fill:none\" points=\"\n",
       "  184.243,1440.48 2321.26,1440.48 \n",
       "  \"/>\n",
       "<polyline clip-path=\"url(#clip8401)\" style=\"stroke:#000000; stroke-width:4; stroke-opacity:1; fill:none\" points=\"\n",
       "  184.243,1440.48 184.243,47.2441 \n",
       "  \"/>\n",
       "<polyline clip-path=\"url(#clip8401)\" style=\"stroke:#000000; stroke-width:4; stroke-opacity:1; fill:none\" points=\"\n",
       "  184.243,1440.48 184.243,1419.58 \n",
       "  \"/>\n",
       "<polyline clip-path=\"url(#clip8401)\" style=\"stroke:#000000; stroke-width:4; stroke-opacity:1; fill:none\" points=\"\n",
       "  611.646,1440.48 611.646,1419.58 \n",
       "  \"/>\n",
       "<polyline clip-path=\"url(#clip8401)\" style=\"stroke:#000000; stroke-width:4; stroke-opacity:1; fill:none\" points=\"\n",
       "  1039.05,1440.48 1039.05,1419.58 \n",
       "  \"/>\n",
       "<polyline clip-path=\"url(#clip8401)\" style=\"stroke:#000000; stroke-width:4; stroke-opacity:1; fill:none\" points=\"\n",
       "  1466.45,1440.48 1466.45,1419.58 \n",
       "  \"/>\n",
       "<polyline clip-path=\"url(#clip8401)\" style=\"stroke:#000000; stroke-width:4; stroke-opacity:1; fill:none\" points=\"\n",
       "  1893.86,1440.48 1893.86,1419.58 \n",
       "  \"/>\n",
       "<polyline clip-path=\"url(#clip8401)\" style=\"stroke:#000000; stroke-width:4; stroke-opacity:1; fill:none\" points=\"\n",
       "  2321.26,1440.48 2321.26,1419.58 \n",
       "  \"/>\n",
       "<polyline clip-path=\"url(#clip8401)\" style=\"stroke:#000000; stroke-width:4; stroke-opacity:1; fill:none\" points=\"\n",
       "  184.243,1401.05 216.298,1401.05 \n",
       "  \"/>\n",
       "<polyline clip-path=\"url(#clip8401)\" style=\"stroke:#000000; stroke-width:4; stroke-opacity:1; fill:none\" points=\"\n",
       "  184.243,1167.1 216.298,1167.1 \n",
       "  \"/>\n",
       "<polyline clip-path=\"url(#clip8401)\" style=\"stroke:#000000; stroke-width:4; stroke-opacity:1; fill:none\" points=\"\n",
       "  184.243,933.146 216.298,933.146 \n",
       "  \"/>\n",
       "<polyline clip-path=\"url(#clip8401)\" style=\"stroke:#000000; stroke-width:4; stroke-opacity:1; fill:none\" points=\"\n",
       "  184.243,699.194 216.298,699.194 \n",
       "  \"/>\n",
       "<polyline clip-path=\"url(#clip8401)\" style=\"stroke:#000000; stroke-width:4; stroke-opacity:1; fill:none\" points=\"\n",
       "  184.243,465.241 216.298,465.241 \n",
       "  \"/>\n",
       "<polyline clip-path=\"url(#clip8401)\" style=\"stroke:#000000; stroke-width:4; stroke-opacity:1; fill:none\" points=\"\n",
       "  184.243,231.289 216.298,231.289 \n",
       "  \"/>\n",
       "<g clip-path=\"url(#clip8401)\">\n",
       "<text style=\"fill:#000000; fill-opacity:1; font-family:Arial,Helvetica Neue,Helvetica,sans-serif; font-size:48px; text-anchor:middle;\" transform=\"rotate(0, 184.243, 1494.48)\" x=\"184.243\" y=\"1494.48\">0.0</text>\n",
       "</g>\n",
       "<g clip-path=\"url(#clip8401)\">\n",
       "<text style=\"fill:#000000; fill-opacity:1; font-family:Arial,Helvetica Neue,Helvetica,sans-serif; font-size:48px; text-anchor:middle;\" transform=\"rotate(0, 611.646, 1494.48)\" x=\"611.646\" y=\"1494.48\">0.2</text>\n",
       "</g>\n",
       "<g clip-path=\"url(#clip8401)\">\n",
       "<text style=\"fill:#000000; fill-opacity:1; font-family:Arial,Helvetica Neue,Helvetica,sans-serif; font-size:48px; text-anchor:middle;\" transform=\"rotate(0, 1039.05, 1494.48)\" x=\"1039.05\" y=\"1494.48\">0.4</text>\n",
       "</g>\n",
       "<g clip-path=\"url(#clip8401)\">\n",
       "<text style=\"fill:#000000; fill-opacity:1; font-family:Arial,Helvetica Neue,Helvetica,sans-serif; font-size:48px; text-anchor:middle;\" transform=\"rotate(0, 1466.45, 1494.48)\" x=\"1466.45\" y=\"1494.48\">0.6</text>\n",
       "</g>\n",
       "<g clip-path=\"url(#clip8401)\">\n",
       "<text style=\"fill:#000000; fill-opacity:1; font-family:Arial,Helvetica Neue,Helvetica,sans-serif; font-size:48px; text-anchor:middle;\" transform=\"rotate(0, 1893.86, 1494.48)\" x=\"1893.86\" y=\"1494.48\">0.8</text>\n",
       "</g>\n",
       "<g clip-path=\"url(#clip8401)\">\n",
       "<text style=\"fill:#000000; fill-opacity:1; font-family:Arial,Helvetica Neue,Helvetica,sans-serif; font-size:48px; text-anchor:middle;\" transform=\"rotate(0, 2321.26, 1494.48)\" x=\"2321.26\" y=\"1494.48\">1.0</text>\n",
       "</g>\n",
       "<g clip-path=\"url(#clip8401)\">\n",
       "<text style=\"fill:#000000; fill-opacity:1; font-family:Arial,Helvetica Neue,Helvetica,sans-serif; font-size:48px; text-anchor:end;\" transform=\"rotate(0, 160.243, 1418.55)\" x=\"160.243\" y=\"1418.55\">0</text>\n",
       "</g>\n",
       "<g clip-path=\"url(#clip8401)\">\n",
       "<text style=\"fill:#000000; fill-opacity:1; font-family:Arial,Helvetica Neue,Helvetica,sans-serif; font-size:48px; text-anchor:end;\" transform=\"rotate(0, 160.243, 1184.6)\" x=\"160.243\" y=\"1184.6\">1</text>\n",
       "</g>\n",
       "<g clip-path=\"url(#clip8401)\">\n",
       "<text style=\"fill:#000000; fill-opacity:1; font-family:Arial,Helvetica Neue,Helvetica,sans-serif; font-size:48px; text-anchor:end;\" transform=\"rotate(0, 160.243, 950.646)\" x=\"160.243\" y=\"950.646\">2</text>\n",
       "</g>\n",
       "<g clip-path=\"url(#clip8401)\">\n",
       "<text style=\"fill:#000000; fill-opacity:1; font-family:Arial,Helvetica Neue,Helvetica,sans-serif; font-size:48px; text-anchor:end;\" transform=\"rotate(0, 160.243, 716.694)\" x=\"160.243\" y=\"716.694\">3</text>\n",
       "</g>\n",
       "<g clip-path=\"url(#clip8401)\">\n",
       "<text style=\"fill:#000000; fill-opacity:1; font-family:Arial,Helvetica Neue,Helvetica,sans-serif; font-size:48px; text-anchor:end;\" transform=\"rotate(0, 160.243, 482.741)\" x=\"160.243\" y=\"482.741\">4</text>\n",
       "</g>\n",
       "<g clip-path=\"url(#clip8401)\">\n",
       "<text style=\"fill:#000000; fill-opacity:1; font-family:Arial,Helvetica Neue,Helvetica,sans-serif; font-size:48px; text-anchor:end;\" transform=\"rotate(0, 160.243, 248.789)\" x=\"160.243\" y=\"248.789\">5</text>\n",
       "</g>\n",
       "<g clip-path=\"url(#clip8401)\">\n",
       "<text style=\"fill:#000000; fill-opacity:1; font-family:Arial,Helvetica Neue,Helvetica,sans-serif; font-size:66px; text-anchor:middle;\" transform=\"rotate(0, 1252.75, 1590.4)\" x=\"1252.75\" y=\"1590.4\">x</text>\n",
       "</g>\n",
       "<g clip-path=\"url(#clip8401)\">\n",
       "<text style=\"fill:#000000; fill-opacity:1; font-family:Arial,Helvetica Neue,Helvetica,sans-serif; font-size:66px; text-anchor:middle;\" transform=\"rotate(-90, 57.6, 743.863)\" x=\"57.6\" y=\"743.863\">p(x)</text>\n",
       "</g>\n",
       "<polyline clip-path=\"url(#clip8403)\" style=\"stroke:#009af9; stroke-width:4; stroke-opacity:1; fill:none\" points=\"\n",
       "  184.243,1401.05 201.477,1350.42 218.711,1237.26 235.945,1144.74 253.179,1134.75 270.413,1207.27 287.647,1298.76 304.881,1332.18 322.115,1277.28 339.349,1165.64 \n",
       "  356.583,1063.46 373.817,1026.66 391.051,1059.56 408.285,1116.42 425.519,1140.97 442.753,1100.55 459.987,1008.55 477.221,912.078 494.455,856.288 511.689,852.965 \n",
       "  528.923,880.221 546.157,893.366 563.391,860.589 580.625,786.995 597.859,699.796 615.093,629.653 632.327,587.481 649.561,552.448 666.795,493.224 684.029,399.636 \n",
       "  701.263,281.888 718.497,171.048 735.731,100.878 752.965,86.6754 770.199,127.578 787.433,217.616 804.667,345.897 821.901,508.148 839.135,695.183 856.369,890.619 \n",
       "  873.603,1072.96 890.837,1219.83 908.071,1318.43 925.305,1371.25 942.539,1389.16 959.773,1386.21 977.007,1374.56 994.241,1360.74 1011.48,1349.33 1028.71,1342.76 \n",
       "  1045.94,1340.86 1063.18,1343.98 1080.41,1351.14 1097.65,1360.83 1114.88,1371.28 1132.11,1378.66 1149.35,1379.55 1166.58,1377.31 1183.82,1375.84 1201.05,1373.92 \n",
       "  1218.28,1370.6 1235.52,1366.9 1252.75,1363.69 1269.99,1360.01 1287.22,1354.21 1304.45,1347.86 1321.69,1342.66 1338.92,1336.42 1356.16,1328.07 1373.39,1319.44 \n",
       "  1390.62,1311.94 1407.86,1305.09 1425.09,1296.7 1442.33,1287.39 1459.56,1280.69 1476.79,1276.14 1494.03,1270.18 1511.26,1263.16 1528.5,1257.75 1545.73,1255.52 \n",
       "  1562.96,1253.91 1580.2,1249.27 1597.43,1245.4 1614.67,1246.51 1631.9,1249.59 1649.13,1250.35 1666.37,1250.92 1683.6,1254.59 1700.84,1261.66 1718.07,1268.93 \n",
       "  1735.3,1272.16 1752.54,1275.81 1769.77,1284.28 1787.01,1293.87 1804.24,1299.75 1821.47,1303.86 1838.71,1310.93 1855.94,1320.95 1873.18,1330 1890.41,1334.47 \n",
       "  1907.64,1338.68 1924.88,1346.88 1942.11,1355.65 1959.35,1360.06 1976.58,1361.9 1993.81,1366.21 2011.05,1373.15 2028.28,1378.25 2045.52,1379.1 2062.75,1380.31 \n",
       "  2079.98,1385.28 2097.22,1390.01 2114.45,1390.54 2131.69,1389.81 2148.92,1392.15 2166.15,1395.98 2183.39,1396.88 2200.62,1395.08 2217.86,1395.42 2235.09,1398.73 \n",
       "  2252.32,1400.09 2269.56,1397.98 2286.79,1396.94 2304.03,1399.27 2321.26,1401.05 \n",
       "  \"/>\n",
       "<polyline clip-path=\"url(#clip8403)\" style=\"stroke:#ff0000; stroke-width:200; stroke-opacity:0.3; fill:none\" points=\"\n",
       "  1039.05,140764 1039.05,-139277 \n",
       "  \"/>\n",
       "<polygon clip-path=\"url(#clip8401)\" points=\"\n",
       "1938.36,251.724 2249.26,251.724 2249.26,130.764 1938.36,130.764 \n",
       "  \" fill=\"#ffffff\" fill-rule=\"evenodd\" fill-opacity=\"1\"/>\n",
       "<polyline clip-path=\"url(#clip8401)\" style=\"stroke:#000000; stroke-width:4; stroke-opacity:1; fill:none\" points=\"\n",
       "  1938.36,251.724 2249.26,251.724 2249.26,130.764 1938.36,130.764 1938.36,251.724 \n",
       "  \"/>\n",
       "<polyline clip-path=\"url(#clip8401)\" style=\"stroke:#009af9; stroke-width:4; stroke-opacity:1; fill:none\" points=\"\n",
       "  1962.36,191.244 2106.36,191.244 \n",
       "  \"/>\n",
       "<g clip-path=\"url(#clip8401)\">\n",
       "<text style=\"fill:#000000; fill-opacity:1; font-family:Arial,Helvetica Neue,Helvetica,sans-serif; font-size:48px; text-anchor:start;\" transform=\"rotate(0, 2130.36, 208.744)\" x=\"2130.36\" y=\"208.744\">t=T</text>\n",
       "</g>\n",
       "</svg>\n"
      ]
     },
     "execution_count": 113,
     "metadata": {},
     "output_type": "execute_result"
    }
   ],
   "source": [
    "plot(xs, [abs(evaluate(sol1.states[end].psi, x))^2 for x in xs], \n",
    "    xlabel = \"x\", ylabel = \"p(x)\", label = \"t=T\")\n",
    "plot!([0.4], seriestype = :vline, \n",
    "    linealpha=0.3, xlim=(0,1), line = (:red, 50), label = \"\")"
   ]
  },
  {
   "cell_type": "code",
   "execution_count": 106,
   "metadata": {
    "collapsed": true
   },
   "outputs": [
    {
     "name": "stderr",
     "output_type": "stream",
     "text": [
      "┌ Info: Saved animation to \n",
      "│   fn = /Users/laurasberna/JuliaProjects/DifferentialEquationsModule.jl/SchrodingerEq.jl/tmp.gif\n",
      "└ @ Plots /Users/laurasberna/.julia/packages/Plots/rmogG/src/animation.jl:90\n"
     ]
    },
    {
     "data": {
      "text/html": [
       "<img src=\"tmp.gif?0.10263025263326075>\" />"
      ],
      "text/plain": [
       "Plots.AnimatedGif(\"/Users/laurasberna/JuliaProjects/DifferentialEquationsModule.jl/SchrodingerEq.jl/tmp.gif\")"
      ]
     },
     "execution_count": 106,
     "metadata": {},
     "output_type": "execute_result"
    }
   ],
   "source": [
    "xs = collect(range(0, stop=1, length=Int64(n/4)))\n",
    "@gif for i=1:length(sol1.states)\n",
    "    plot(xs, [abs(evaluate(sol1.states[i].psi, x))^2 for x in xs], xlabel = \"x\", ylabel = \"p(x)\", legend = :false, \n",
    "    xlim = (0,1), ylim = (0,9))\n",
    "    #plot!([x0 + p / m * (lambda / n * i) * hbar], seriestype = :vline, linestyle = :dash, \n",
    "        linecolor= :black, linealpha= 0.8)\n",
    "    #plot!(xs,[abs(psianalyticsol(x,i*lambda/n))^2 for x in xs], linestyle= :dash, linealpha= 0.6)\n",
    "    plot!([0.4], seriestype = :vline, \n",
    "    linealpha=0.3, xlim=(0,1), line = (:red, 50))\n",
    "    end every 200"
   ]
  },
  {
   "cell_type": "markdown",
   "metadata": {},
   "source": [
    "### Convergence tests"
   ]
  },
  {
   "cell_type": "markdown",
   "metadata": {},
   "source": [
    "## Comparison with Suzuki-Trotter solver"
   ]
  },
  {
   "cell_type": "code",
   "execution_count": null,
   "metadata": {},
   "outputs": [],
   "source": []
  }
 ],
 "metadata": {
  "kernelspec": {
   "display_name": "Julia 1.0.0",
   "language": "julia",
   "name": "julia-1.0"
  },
  "language_info": {
   "file_extension": ".jl",
   "mimetype": "application/julia",
   "name": "julia",
   "version": "1.0.0"
  }
 },
 "nbformat": 4,
 "nbformat_minor": 2
}
