{
 "cells": [
  {
   "cell_type": "markdown",
   "metadata": {},
   "source": [
    "# SchrodingerEq.jl\n",
    "\n",
    "A project for the Computational Physics UW course (module III), by Laura Sberna."
   ]
  },
  {
   "cell_type": "markdown",
   "metadata": {},
   "source": [
    "We upload the necessary packages and set some parameters:"
   ]
  },
  {
   "cell_type": "code",
   "execution_count": 1,
   "metadata": {},
   "outputs": [],
   "source": [
    "using LinearAlgebra\n",
    "using Plots"
   ]
  },
  {
   "cell_type": "code",
   "execution_count": 2,
   "metadata": {},
   "outputs": [
    {
     "data": {
      "text/plain": [
       "0.0"
      ]
     },
     "execution_count": 2,
     "metadata": {},
     "output_type": "execute_result"
    }
   ],
   "source": [
    "m = 1.\n",
    "hbar = 0.05\n",
    "t0 = 0."
   ]
  },
  {
   "cell_type": "markdown",
   "metadata": {},
   "source": [
    "## PLC Functions\n",
    "\n",
    "I use the Piecewise Linear Continuous functions discussed in lecture (numer, link to github). "
   ]
  },
  {
   "cell_type": "code",
   "execution_count": 3,
   "metadata": {},
   "outputs": [],
   "source": [
    "struct PLCFun{T,U}\n",
    "    points::Vector{U}\n",
    "end"
   ]
  },
  {
   "cell_type": "code",
   "execution_count": 4,
   "metadata": {},
   "outputs": [],
   "source": [
    "function Base. *(a::U, f::PLCFun{T,U})::PLCFun{T,U} where {T,U}\n",
    " PLCFun{T,U}(a .* f.points)\n",
    "end\n",
    "\n",
    "function Base. +(g::PLCFun{T,U}, f::PLCFun{T,U})::PLCFun{T,U} where {T,U}\n",
    "    @assert length(f.points) == length(g.points) ## gives error message if not satisfied\n",
    " PLCFun{T,U}(g.points .+ f.points)\n",
    "end"
   ]
  },
  {
   "cell_type": "code",
   "execution_count": 5,
   "metadata": {},
   "outputs": [
    {
     "data": {
      "text/plain": [
       "xcoord (generic function with 1 method)"
      ]
     },
     "execution_count": 5,
     "metadata": {},
     "output_type": "execute_result"
    }
   ],
   "source": [
    "function xcoord(::Type{T}, nlines::Int, i::Int)::T where {T,U}\n",
    "    dx = 1 / nlines\n",
    "    @assert 1 <= i <= nlines+1\n",
    "    x = (i-1) * dx\n",
    "    x\n",
    "end"
   ]
  },
  {
   "cell_type": "code",
   "execution_count": 6,
   "metadata": {},
   "outputs": [
    {
     "data": {
      "text/plain": [
       "lineindex (generic function with 1 method)"
      ]
     },
     "execution_count": 6,
     "metadata": {},
     "output_type": "execute_result"
    }
   ],
   "source": [
    "function lineindex(f::PLCFun{T,U}, x::T)::Int where {T,U}\n",
    "    @assert 0 <= x <= 1\n",
    "    nlines=length(f.points)-1\n",
    "    dx = 1 / nlines\n",
    "    i = floor(Int, x / dx) + 1\n",
    "    i = max(1,i)\n",
    "    i = min(nlines, i)\n",
    "    i\n",
    "end"
   ]
  },
  {
   "cell_type": "code",
   "execution_count": 7,
   "metadata": {},
   "outputs": [
    {
     "data": {
      "text/plain": [
       "samplePLC (generic function with 1 method)"
      ]
     },
     "execution_count": 7,
     "metadata": {},
     "output_type": "execute_result"
    }
   ],
   "source": [
    "function samplePLC(::Type{T}, ::Type{U}, nlines::Int, f::Function)::PLCFun{T,U} where {T,U}\n",
    "    ys = U[f(xcoord(T, nlines, i)) for i in 1:nlines+1]\n",
    "    PLCFun{T,U}(ys)\n",
    "end"
   ]
  },
  {
   "cell_type": "code",
   "execution_count": 8,
   "metadata": {},
   "outputs": [
    {
     "data": {
      "text/plain": [
       "linterp (generic function with 1 method)"
      ]
     },
     "execution_count": 8,
     "metadata": {},
     "output_type": "execute_result"
    }
   ],
   "source": [
    "function linterp(x1::T, y1::U, x2::T, y2::U, x::T)::U where {T,U}\n",
    "    y1 * (x - x2) / (x1 - x2) + y2 * (x - x1) / (x2 - x1)\n",
    "end"
   ]
  },
  {
   "cell_type": "code",
   "execution_count": 9,
   "metadata": {},
   "outputs": [
    {
     "data": {
      "text/plain": [
       "evaluate (generic function with 1 method)"
      ]
     },
     "execution_count": 9,
     "metadata": {},
     "output_type": "execute_result"
    }
   ],
   "source": [
    "function evaluate(f::PLCFun{T,U}, x::T)::U where {T,U}\n",
    "    @assert 0 <= x <= 1\n",
    "    nlines=length(f.points)-1\n",
    "    i = lineindex(f, x)\n",
    "    x1=xcoord(T, nlines, i)\n",
    "    x2=xcoord(T, nlines, i+1)\n",
    "    y1=f.points[i]\n",
    "    y2=f.points[i+1]\n",
    "    y = linterp(x1, y1, x2, y2, x)\n",
    "    y\n",
    "end"
   ]
  },
  {
   "cell_type": "markdown",
   "metadata": {},
   "source": [
    "Second order central finite diferrence derivative:"
   ]
  },
  {
   "cell_type": "code",
   "execution_count": 10,
   "metadata": {},
   "outputs": [
    {
     "data": {
      "text/plain": [
       "derivSecondCenter (generic function with 1 method)"
      ]
     },
     "execution_count": 10,
     "metadata": {},
     "output_type": "execute_result"
    }
   ],
   "source": [
    "function derivSecondCenter(f::PLCFun{T,U})::PLCFun{T,U} where {T,U} \n",
    "    nlines=length(f.points)-1\n",
    "    dx = 1 / nlines\n",
    "    ys=U[0 ;[(f.points[i+1] - 2*f.points[i] + f.points[i-1]) /(dx^2) for i in 2:nlines]; 0]\n",
    "    PLCFun{T,U}(ys)\n",
    "end"
   ]
  },
  {
   "cell_type": "code",
   "execution_count": 11,
   "metadata": {},
   "outputs": [
    {
     "data": {
      "text/plain": [
       "(0.8658783625071171, 0.32716319804950605)"
      ]
     },
     "execution_count": 11,
     "metadata": {},
     "output_type": "execute_result"
    }
   ],
   "source": [
    "fsin = samplePLC(Float64, Float64, 100, sinpi) # test\n",
    "evaluate(fsin, 0.3333), sin(0.3333)"
   ]
  },
  {
   "cell_type": "code",
   "execution_count": 12,
   "metadata": {},
   "outputs": [
    {
     "data": {
      "image/svg+xml": [
       "<?xml version=\"1.0\" encoding=\"utf-8\"?>\n",
       "<svg xmlns=\"http://www.w3.org/2000/svg\" xmlns:xlink=\"http://www.w3.org/1999/xlink\" width=\"600\" height=\"400\" viewBox=\"0 0 2400 1600\">\n",
       "<defs>\n",
       "  <clipPath id=\"clip6600\">\n",
       "    <rect x=\"0\" y=\"0\" width=\"2000\" height=\"2000\"/>\n",
       "  </clipPath>\n",
       "</defs>\n",
       "<defs>\n",
       "  <clipPath id=\"clip6601\">\n",
       "    <rect x=\"0\" y=\"0\" width=\"2400\" height=\"1600\"/>\n",
       "  </clipPath>\n",
       "</defs>\n",
       "<polygon clip-path=\"url(#clip6601)\" points=\"\n",
       "0,1600 2400,1600 2400,0 0,0 \n",
       "  \" fill=\"#ffffff\" fill-rule=\"evenodd\" fill-opacity=\"1\"/>\n",
       "<defs>\n",
       "  <clipPath id=\"clip6602\">\n",
       "    <rect x=\"480\" y=\"0\" width=\"1681\" height=\"1600\"/>\n",
       "  </clipPath>\n",
       "</defs>\n",
       "<polygon clip-path=\"url(#clip6601)\" points=\"\n",
       "188.156,1503.47 2321.26,1503.47 2321.26,47.2441 188.156,47.2441 \n",
       "  \" fill=\"#ffffff\" fill-rule=\"evenodd\" fill-opacity=\"1\"/>\n",
       "<defs>\n",
       "  <clipPath id=\"clip6603\">\n",
       "    <rect x=\"188\" y=\"47\" width=\"2134\" height=\"1457\"/>\n",
       "  </clipPath>\n",
       "</defs>\n",
       "<polyline clip-path=\"url(#clip6603)\" style=\"stroke:#000000; stroke-width:2; stroke-opacity:0.1; fill:none\" points=\"\n",
       "  248.527,1503.47 248.527,47.2441 \n",
       "  \"/>\n",
       "<polyline clip-path=\"url(#clip6603)\" style=\"stroke:#000000; stroke-width:2; stroke-opacity:0.1; fill:none\" points=\"\n",
       "  751.618,1503.47 751.618,47.2441 \n",
       "  \"/>\n",
       "<polyline clip-path=\"url(#clip6603)\" style=\"stroke:#000000; stroke-width:2; stroke-opacity:0.1; fill:none\" points=\"\n",
       "  1254.71,1503.47 1254.71,47.2441 \n",
       "  \"/>\n",
       "<polyline clip-path=\"url(#clip6603)\" style=\"stroke:#000000; stroke-width:2; stroke-opacity:0.1; fill:none\" points=\"\n",
       "  1757.8,1503.47 1757.8,47.2441 \n",
       "  \"/>\n",
       "<polyline clip-path=\"url(#clip6603)\" style=\"stroke:#000000; stroke-width:2; stroke-opacity:0.1; fill:none\" points=\"\n",
       "  2260.89,1503.47 2260.89,47.2441 \n",
       "  \"/>\n",
       "<polyline clip-path=\"url(#clip6603)\" style=\"stroke:#000000; stroke-width:2; stroke-opacity:0.1; fill:none\" points=\"\n",
       "  188.156,1462.26 2321.26,1462.26 \n",
       "  \"/>\n",
       "<polyline clip-path=\"url(#clip6603)\" style=\"stroke:#000000; stroke-width:2; stroke-opacity:0.1; fill:none\" points=\"\n",
       "  188.156,1118.77 2321.26,1118.77 \n",
       "  \"/>\n",
       "<polyline clip-path=\"url(#clip6603)\" style=\"stroke:#000000; stroke-width:2; stroke-opacity:0.1; fill:none\" points=\"\n",
       "  188.156,775.273 2321.26,775.273 \n",
       "  \"/>\n",
       "<polyline clip-path=\"url(#clip6603)\" style=\"stroke:#000000; stroke-width:2; stroke-opacity:0.1; fill:none\" points=\"\n",
       "  188.156,431.779 2321.26,431.779 \n",
       "  \"/>\n",
       "<polyline clip-path=\"url(#clip6603)\" style=\"stroke:#000000; stroke-width:2; stroke-opacity:0.1; fill:none\" points=\"\n",
       "  188.156,88.2852 2321.26,88.2852 \n",
       "  \"/>\n",
       "<polyline clip-path=\"url(#clip6601)\" style=\"stroke:#000000; stroke-width:4; stroke-opacity:1; fill:none\" points=\"\n",
       "  188.156,1503.47 2321.26,1503.47 \n",
       "  \"/>\n",
       "<polyline clip-path=\"url(#clip6601)\" style=\"stroke:#000000; stroke-width:4; stroke-opacity:1; fill:none\" points=\"\n",
       "  188.156,1503.47 188.156,47.2441 \n",
       "  \"/>\n",
       "<polyline clip-path=\"url(#clip6601)\" style=\"stroke:#000000; stroke-width:4; stroke-opacity:1; fill:none\" points=\"\n",
       "  248.527,1503.47 248.527,1481.63 \n",
       "  \"/>\n",
       "<polyline clip-path=\"url(#clip6601)\" style=\"stroke:#000000; stroke-width:4; stroke-opacity:1; fill:none\" points=\"\n",
       "  751.618,1503.47 751.618,1481.63 \n",
       "  \"/>\n",
       "<polyline clip-path=\"url(#clip6601)\" style=\"stroke:#000000; stroke-width:4; stroke-opacity:1; fill:none\" points=\"\n",
       "  1254.71,1503.47 1254.71,1481.63 \n",
       "  \"/>\n",
       "<polyline clip-path=\"url(#clip6601)\" style=\"stroke:#000000; stroke-width:4; stroke-opacity:1; fill:none\" points=\"\n",
       "  1757.8,1503.47 1757.8,1481.63 \n",
       "  \"/>\n",
       "<polyline clip-path=\"url(#clip6601)\" style=\"stroke:#000000; stroke-width:4; stroke-opacity:1; fill:none\" points=\"\n",
       "  2260.89,1503.47 2260.89,1481.63 \n",
       "  \"/>\n",
       "<polyline clip-path=\"url(#clip6601)\" style=\"stroke:#000000; stroke-width:4; stroke-opacity:1; fill:none\" points=\"\n",
       "  188.156,1462.26 220.153,1462.26 \n",
       "  \"/>\n",
       "<polyline clip-path=\"url(#clip6601)\" style=\"stroke:#000000; stroke-width:4; stroke-opacity:1; fill:none\" points=\"\n",
       "  188.156,1118.77 220.153,1118.77 \n",
       "  \"/>\n",
       "<polyline clip-path=\"url(#clip6601)\" style=\"stroke:#000000; stroke-width:4; stroke-opacity:1; fill:none\" points=\"\n",
       "  188.156,775.273 220.153,775.273 \n",
       "  \"/>\n",
       "<polyline clip-path=\"url(#clip6601)\" style=\"stroke:#000000; stroke-width:4; stroke-opacity:1; fill:none\" points=\"\n",
       "  188.156,431.779 220.153,431.779 \n",
       "  \"/>\n",
       "<polyline clip-path=\"url(#clip6601)\" style=\"stroke:#000000; stroke-width:4; stroke-opacity:1; fill:none\" points=\"\n",
       "  188.156,88.2852 220.153,88.2852 \n",
       "  \"/>\n",
       "<g clip-path=\"url(#clip6601)\">\n",
       "<text style=\"fill:#000000; fill-opacity:1; font-family:Arial,Helvetica Neue,Helvetica,sans-serif; font-size:48px; text-anchor:middle;\" transform=\"rotate(0, 248.527, 1557.47)\" x=\"248.527\" y=\"1557.47\">0.00</text>\n",
       "</g>\n",
       "<g clip-path=\"url(#clip6601)\">\n",
       "<text style=\"fill:#000000; fill-opacity:1; font-family:Arial,Helvetica Neue,Helvetica,sans-serif; font-size:48px; text-anchor:middle;\" transform=\"rotate(0, 751.618, 1557.47)\" x=\"751.618\" y=\"1557.47\">0.25</text>\n",
       "</g>\n",
       "<g clip-path=\"url(#clip6601)\">\n",
       "<text style=\"fill:#000000; fill-opacity:1; font-family:Arial,Helvetica Neue,Helvetica,sans-serif; font-size:48px; text-anchor:middle;\" transform=\"rotate(0, 1254.71, 1557.47)\" x=\"1254.71\" y=\"1557.47\">0.50</text>\n",
       "</g>\n",
       "<g clip-path=\"url(#clip6601)\">\n",
       "<text style=\"fill:#000000; fill-opacity:1; font-family:Arial,Helvetica Neue,Helvetica,sans-serif; font-size:48px; text-anchor:middle;\" transform=\"rotate(0, 1757.8, 1557.47)\" x=\"1757.8\" y=\"1557.47\">0.75</text>\n",
       "</g>\n",
       "<g clip-path=\"url(#clip6601)\">\n",
       "<text style=\"fill:#000000; fill-opacity:1; font-family:Arial,Helvetica Neue,Helvetica,sans-serif; font-size:48px; text-anchor:middle;\" transform=\"rotate(0, 2260.89, 1557.47)\" x=\"2260.89\" y=\"1557.47\">1.00</text>\n",
       "</g>\n",
       "<g clip-path=\"url(#clip6601)\">\n",
       "<text style=\"fill:#000000; fill-opacity:1; font-family:Arial,Helvetica Neue,Helvetica,sans-serif; font-size:48px; text-anchor:end;\" transform=\"rotate(0, 164.156, 1479.76)\" x=\"164.156\" y=\"1479.76\">0.00</text>\n",
       "</g>\n",
       "<g clip-path=\"url(#clip6601)\">\n",
       "<text style=\"fill:#000000; fill-opacity:1; font-family:Arial,Helvetica Neue,Helvetica,sans-serif; font-size:48px; text-anchor:end;\" transform=\"rotate(0, 164.156, 1136.27)\" x=\"164.156\" y=\"1136.27\">0.25</text>\n",
       "</g>\n",
       "<g clip-path=\"url(#clip6601)\">\n",
       "<text style=\"fill:#000000; fill-opacity:1; font-family:Arial,Helvetica Neue,Helvetica,sans-serif; font-size:48px; text-anchor:end;\" transform=\"rotate(0, 164.156, 792.773)\" x=\"164.156\" y=\"792.773\">0.50</text>\n",
       "</g>\n",
       "<g clip-path=\"url(#clip6601)\">\n",
       "<text style=\"fill:#000000; fill-opacity:1; font-family:Arial,Helvetica Neue,Helvetica,sans-serif; font-size:48px; text-anchor:end;\" transform=\"rotate(0, 164.156, 449.279)\" x=\"164.156\" y=\"449.279\">0.75</text>\n",
       "</g>\n",
       "<g clip-path=\"url(#clip6601)\">\n",
       "<text style=\"fill:#000000; fill-opacity:1; font-family:Arial,Helvetica Neue,Helvetica,sans-serif; font-size:48px; text-anchor:end;\" transform=\"rotate(0, 164.156, 105.785)\" x=\"164.156\" y=\"105.785\">1.00</text>\n",
       "</g>\n",
       "<polyline clip-path=\"url(#clip6603)\" style=\"stroke:#009af9; stroke-width:4; stroke-opacity:1; fill:none\" points=\"\n",
       "  248.527,1462.26 268.854,1418.67 289.181,1375.12 309.508,1331.66 329.835,1288.33 350.162,1245.17 370.489,1202.23 390.815,1159.56 411.142,1117.19 431.469,1075.17 \n",
       "  451.796,1033.53 472.123,992.333 492.45,951.606 512.777,911.392 533.104,871.733 553.431,832.669 573.757,794.238 594.084,756.481 614.411,719.433 634.738,683.134 \n",
       "  655.065,647.62 675.392,612.925 695.719,579.086 716.046,546.136 736.373,514.109 756.699,483.036 777.026,452.95 797.353,423.879 817.68,395.854 838.007,368.903 \n",
       "  858.334,343.053 878.661,318.33 898.988,294.759 919.314,272.363 939.641,251.165 959.968,231.187 980.295,212.449 1000.62,194.969 1020.95,178.764 1041.28,163.853 \n",
       "  1061.6,150.248 1081.93,137.965 1102.26,127.015 1122.58,117.41 1142.91,109.159 1163.24,102.27 1183.56,96.751 1203.89,92.6067 1224.22,89.8415 1244.54,88.4582 \n",
       "  1264.87,88.4582 1285.2,89.8415 1305.53,92.6067 1325.85,96.751 1346.18,102.27 1366.51,109.159 1386.83,117.41 1407.16,127.015 1427.49,137.965 1447.81,150.248 \n",
       "  1468.14,163.853 1488.47,178.764 1508.79,194.969 1529.12,212.449 1549.45,231.187 1569.77,251.165 1590.1,272.363 1610.43,294.759 1630.76,318.33 1651.08,343.053 \n",
       "  1671.41,368.903 1691.74,395.854 1712.06,423.879 1732.39,452.95 1752.72,483.036 1773.04,514.109 1793.37,546.136 1813.7,579.086 1834.02,612.925 1854.35,647.62 \n",
       "  1874.68,683.134 1895.01,719.433 1915.33,756.481 1935.66,794.238 1955.99,832.669 1976.31,871.733 1996.64,911.392 2016.97,951.606 2037.29,992.333 2057.62,1033.53 \n",
       "  2077.95,1075.17 2098.27,1117.19 2118.6,1159.56 2138.93,1202.23 2159.25,1245.17 2179.58,1288.33 2199.91,1331.66 2220.24,1375.12 2240.56,1418.67 2260.89,1462.26 \n",
       "  \n",
       "  \"/>\n",
       "<polyline clip-path=\"url(#clip6603)\" style=\"stroke:#e26f46; stroke-width:4; stroke-opacity:1; fill:none\" points=\"\n",
       "  248.527,1462.26 268.854,1418.67 289.181,1375.12 309.508,1331.66 329.835,1288.33 350.162,1245.18 370.489,1202.24 390.815,1159.57 411.142,1117.2 431.469,1075.18 \n",
       "  451.796,1033.55 472.123,992.357 492.45,951.633 512.777,911.424 533.104,871.769 553.431,832.709 573.757,794.284 594.084,756.531 614.411,719.489 634.738,683.195 \n",
       "  655.065,647.685 675.392,612.996 695.719,579.162 716.046,546.218 736.373,514.195 756.699,483.128 777.026,453.047 797.353,423.981 817.68,395.962 838.007,369.016 \n",
       "  858.334,343.17 878.661,318.452 898.988,294.885 919.314,272.494 939.641,251.3 959.968,231.326 980.295,212.592 1000.62,195.115 1020.95,178.914 1041.28,164.006 \n",
       "  1061.6,150.404 1081.93,138.124 1102.26,127.176 1122.58,117.573 1142.91,109.324 1163.24,102.437 1183.56,96.9187 1203.89,92.7752 1224.22,90.0106 1244.54,88.6276 \n",
       "  1264.87,88.6276 1285.2,90.0106 1305.53,92.7752 1325.85,96.9187 1346.18,102.437 1366.51,109.324 1386.83,117.573 1407.16,127.176 1427.49,138.124 1447.81,150.404 \n",
       "  1468.14,164.006 1488.47,178.914 1508.79,195.115 1529.12,212.592 1549.45,231.326 1569.77,251.3 1590.1,272.494 1610.43,294.885 1630.76,318.452 1651.08,343.17 \n",
       "  1671.41,369.016 1691.74,395.962 1712.06,423.981 1732.39,453.047 1752.72,483.128 1773.04,514.195 1793.37,546.218 1813.7,579.162 1834.02,612.996 1854.35,647.685 \n",
       "  1874.68,683.195 1895.01,719.489 1915.33,756.531 1935.66,794.284 1955.99,832.709 1976.31,871.769 1996.64,911.424 2016.97,951.633 2037.29,992.357 2057.62,1033.55 \n",
       "  2077.95,1075.18 2098.27,1117.2 2118.6,1159.57 2138.93,1202.24 2159.25,1245.18 2179.58,1288.33 2199.91,1331.66 2220.24,1375.12 2240.56,1418.67 2260.89,1462.26 \n",
       "  \n",
       "  \"/>\n",
       "<polygon clip-path=\"url(#clip6601)\" points=\"\n",
       "1958.43,312.204 2249.26,312.204 2249.26,130.764 1958.43,130.764 \n",
       "  \" fill=\"#ffffff\" fill-rule=\"evenodd\" fill-opacity=\"1\"/>\n",
       "<polyline clip-path=\"url(#clip6601)\" style=\"stroke:#000000; stroke-width:4; stroke-opacity:1; fill:none\" points=\"\n",
       "  1958.43,312.204 2249.26,312.204 2249.26,130.764 1958.43,130.764 1958.43,312.204 \n",
       "  \"/>\n",
       "<polyline clip-path=\"url(#clip6601)\" style=\"stroke:#009af9; stroke-width:4; stroke-opacity:1; fill:none\" points=\"\n",
       "  1982.43,191.244 2126.43,191.244 \n",
       "  \"/>\n",
       "<g clip-path=\"url(#clip6601)\">\n",
       "<text style=\"fill:#000000; fill-opacity:1; font-family:Arial,Helvetica Neue,Helvetica,sans-serif; font-size:48px; text-anchor:start;\" transform=\"rotate(0, 2150.43, 208.744)\" x=\"2150.43\" y=\"208.744\">y1</text>\n",
       "</g>\n",
       "<polyline clip-path=\"url(#clip6601)\" style=\"stroke:#e26f46; stroke-width:4; stroke-opacity:1; fill:none\" points=\"\n",
       "  1982.43,251.724 2126.43,251.724 \n",
       "  \"/>\n",
       "<g clip-path=\"url(#clip6601)\">\n",
       "<text style=\"fill:#000000; fill-opacity:1; font-family:Arial,Helvetica Neue,Helvetica,sans-serif; font-size:48px; text-anchor:start;\" transform=\"rotate(0, 2150.43, 269.224)\" x=\"2150.43\" y=\"269.224\">y2</text>\n",
       "</g>\n",
       "</svg>\n"
      ]
     },
     "execution_count": 12,
     "metadata": {},
     "output_type": "execute_result"
    }
   ],
   "source": [
    "xs = collect(range(0, stop=1, length=100))\n",
    "plot(xs, sinpi.(xs))\n",
    "plot!(xs, [evaluate(fsin, x) for x in xs])"
   ]
  },
  {
   "cell_type": "markdown",
   "metadata": {},
   "source": [
    "## The Schroedinger equation\n",
    "\n",
    "Implicit methods for parabolic equations require very small time steps. For this reason it is better to implement higher order time integrators than Euler, like Runge-Kutta 2 or 4."
   ]
  },
  {
   "cell_type": "code",
   "execution_count": 13,
   "metadata": {},
   "outputs": [],
   "source": [
    "struct WaveFunction{T, U}\n",
    "    time::T\n",
    "    psi::PLCFun{T,U}\n",
    "end"
   ]
  },
  {
   "cell_type": "code",
   "execution_count": 109,
   "metadata": {},
   "outputs": [],
   "source": [
    "function Base. *(a::U, f::WaveFunction{T, U})::WaveFunction{T, U} where {T,U}\n",
    " WaveFunction{T, U}(f.time, a * f.psi)\n",
    "end\n",
    "\n",
    "function Base. *(v::PLCFun{T,Float64}, f::PLCFun{T,U})::PLCFun{T,U} where {T,U}\n",
    "    @assert length(v.points)==length(f.points)\n",
    "    PLCFun{T,U}(v.points .* f.points)\n",
    "end\n",
    "\n",
    "function Base. +(g::WaveFunction{T, U}, f::WaveFunction{T, U})::WaveFunction{T, U} where {T,U}\n",
    "    @assert abs(f.time - g.time) <= 100*eps(T)\n",
    " WaveFunction{T, U}(f.time, g.psi + f.psi)\n",
    "end"
   ]
  },
  {
   "cell_type": "code",
   "execution_count": 110,
   "metadata": {},
   "outputs": [
    {
     "data": {
      "text/plain": [
       "gaussian (generic function with 1 method)"
      ]
     },
     "execution_count": 110,
     "metadata": {},
     "output_type": "execute_result"
    }
   ],
   "source": [
    "function gaussian(x::T, x0::T, sigmax::T, p::T)::Complex{Float64} where {T}\n",
    "    sqrt(sqrt(2pi * sigmax^2)) * exp( - (x-x0)^2 / ( 4 * sigmax^2 ) + im * p * (x-x0))\n",
    "end"
   ]
  },
  {
   "cell_type": "code",
   "execution_count": 111,
   "metadata": {},
   "outputs": [
    {
     "data": {
      "text/plain": [
       "initialGaussian (generic function with 1 method)"
      ]
     },
     "execution_count": 111,
     "metadata": {},
     "output_type": "execute_result"
    }
   ],
   "source": [
    "function initialGaussian(nlines::Int, x0::Float64, sigmax::Float64, p::Float64)::WaveFunction{Float64, Complex{Float64}}\n",
    "    t = 0\n",
    "    y = samplePLC(Float64, Complex{Float64}, nlines, x -> gaussian(x,x0,sigmax,p))\n",
    "    WaveFunction{Float64, Complex{Float64}}(t,y)\n",
    "end"
   ]
  },
  {
   "cell_type": "code",
   "execution_count": 113,
   "metadata": {},
   "outputs": [
    {
     "data": {
      "text/plain": [
       "potential (generic function with 1 method)"
      ]
     },
     "execution_count": 113,
     "metadata": {},
     "output_type": "execute_result"
    }
   ],
   "source": [
    "function potential(nlines::Int)::PLCFun{Float64,Float64}\n",
    "    samplePLC(Float64, Float64, nlines,V)\n",
    "end"
   ]
  },
  {
   "cell_type": "code",
   "execution_count": 114,
   "metadata": {},
   "outputs": [
    {
     "data": {
      "text/plain": [
       "rhsSchroedinger (generic function with 1 method)"
      ]
     },
     "execution_count": 114,
     "metadata": {},
     "output_type": "execute_result"
    }
   ],
   "source": [
    "function rhsSchroedinger(s::WaveFunction{T, U})::WaveFunction{T, U} where {T,U}\n",
    "    t = s.time\n",
    "    psi = s.psi\n",
    "    nlines = length(psi.points) - 1\n",
    "    psixx = (- im / hbar) * ((- hbar^2 / ( 2*m) + im * 0.) * derivSecondCenter(psi) + potential(nlines) * psi)\n",
    "    psit = PLCFun{T,U}(U[[psixx.points[i] for i in 1:nlines]; 0])\n",
    "    WaveFunction{T, U}(t, psit)\n",
    "end"
   ]
  },
  {
   "cell_type": "code",
   "execution_count": 115,
   "metadata": {},
   "outputs": [
    {
     "data": {
      "text/plain": [
       "euler (generic function with 1 method)"
      ]
     },
     "execution_count": 115,
     "metadata": {},
     "output_type": "execute_result"
    }
   ],
   "source": [
    "function euler(rhs::Function, dt::T,\n",
    "               s0::WaveFunction{T, U})::WaveFunction{T, U} where {T,U}\n",
    "    r0 = rhs(s0)\n",
    "    s1 = s0 + (dt + im * 0.)  * r0\n",
    "    WaveFunction{T, U}(r0.time + dt, s1.psi)\n",
    "end"
   ]
  },
  {
   "cell_type": "code",
   "execution_count": 116,
   "metadata": {},
   "outputs": [
    {
     "data": {
      "text/plain": [
       "RK2 (generic function with 1 method)"
      ]
     },
     "execution_count": 116,
     "metadata": {},
     "output_type": "execute_result"
    }
   ],
   "source": [
    "function RK2(rhs::Function, dt::T,\n",
    "               s0::WaveFunction{T, U})::WaveFunction{T, U} where {T,U}\n",
    "    r0 = rhs(s0)\n",
    "    smiddle = s0 + (dt / 2 + im * 0.)  * r0\n",
    "    rmiddle = rhs(smiddle)\n",
    "    s1 = s0 + (dt + im * 0.)  * rmiddle\n",
    "    WaveFunction{T, U}(r0.time + dt, s1.psi)\n",
    "end"
   ]
  },
  {
   "cell_type": "code",
   "execution_count": 117,
   "metadata": {},
   "outputs": [
    {
     "data": {
      "text/plain": [
       "RK4 (generic function with 1 method)"
      ]
     },
     "execution_count": 117,
     "metadata": {},
     "output_type": "execute_result"
    }
   ],
   "source": [
    "function RK4(rhs::Function, dt::T,\n",
    "               s0::WaveFunction{T, U})::WaveFunction{T, U} where {T,U}\n",
    "    k1 = rhs(s0)\n",
    "    k2 = rhs(s0 + (dt / 2 + im * 0.)  * k1)\n",
    "    k3 = rhs(s0 + (dt / 2 + im * 0.)  * k2)\n",
    "    k4 = rhs(s0 + (dt  + im * 0.)  * k3)\n",
    "    s1 = s0 + (dt / 6 + im * 0.)  * (k1 + (2. + im * 0.) *k2 + (2. + im * 0.) *k3 + k4)\n",
    "    WaveFunction{T, U}(s0.time + dt, s1.psi)\n",
    "end"
   ]
  },
  {
   "cell_type": "code",
   "execution_count": 118,
   "metadata": {},
   "outputs": [],
   "source": [
    "struct solution{T,U}\n",
    "    dt::T\n",
    "    dx::T\n",
    "    states::Vector{WaveFunction{T, U}}\n",
    "end"
   ]
  },
  {
   "cell_type": "code",
   "execution_count": 119,
   "metadata": {},
   "outputs": [
    {
     "data": {
      "text/plain": [
       "solveSchrodinger (generic function with 1 method)"
      ]
     },
     "execution_count": 119,
     "metadata": {},
     "output_type": "execute_result"
    }
   ],
   "source": [
    "function solveSchrodinger(tmax::T, nlines::Int, lambda::T, x0::T, sigmax::T, p::T) where {T}\n",
    "    s=initialGaussian(nlines, x0, sigmax, p)\n",
    "    dx= 1/nlines\n",
    "    dt=lambda * dx\n",
    "    nsteps= round(Int, tmax / dt)\n",
    "    sol = solution{T,Complex{T}}(dt, dx, WaveFunction{T, Complex{T}}[])\n",
    "    push!(sol.states, s)\n",
    "    \n",
    "    for step in 1:nsteps\n",
    "        s = RK4(rhsSchroedinger, dt, s)\n",
    "        push!(sol.states, s)\n",
    "    end\n",
    "    return sol\n",
    "end"
   ]
  },
  {
   "cell_type": "code",
   "execution_count": 125,
   "metadata": {},
   "outputs": [
    {
     "data": {
      "text/plain": [
       "refine (generic function with 1 method)"
      ]
     },
     "execution_count": 125,
     "metadata": {},
     "output_type": "execute_result"
    }
   ],
   "source": [
    "function refine(u::PLCFun{T,U})::PLCFun{T,U} where {T,U}\n",
    "    nlines = length(u.points) - 1\n",
    "    dx = 1 / nlines\n",
    "    eval = [evaluate(u, xcoord(T, 2 * nlines, i)) for i in 1:2*nlines+1]\n",
    "    PLCFun{T,U}(eval)\n",
    "end"
   ]
  },
  {
   "cell_type": "markdown",
   "metadata": {},
   "source": [
    "## Free particle in a box"
   ]
  },
  {
   "cell_type": "code",
   "execution_count": 112,
   "metadata": {},
   "outputs": [
    {
     "data": {
      "text/plain": [
       "V (generic function with 1 method)"
      ]
     },
     "execution_count": 112,
     "metadata": {},
     "output_type": "execute_result"
    }
   ],
   "source": [
    "function V(x::T)::Float64 where {T}\n",
    "    0.\n",
    "end"
   ]
  },
  {
   "cell_type": "code",
   "execution_count": 120,
   "metadata": {},
   "outputs": [
    {
     "data": {
      "image/svg+xml": [
       "<?xml version=\"1.0\" encoding=\"utf-8\"?>\n",
       "<svg xmlns=\"http://www.w3.org/2000/svg\" xmlns:xlink=\"http://www.w3.org/1999/xlink\" width=\"600\" height=\"400\" viewBox=\"0 0 2400 1600\">\n",
       "<defs>\n",
       "  <clipPath id=\"clip0500\">\n",
       "    <rect x=\"0\" y=\"0\" width=\"2000\" height=\"2000\"/>\n",
       "  </clipPath>\n",
       "</defs>\n",
       "<defs>\n",
       "  <clipPath id=\"clip0501\">\n",
       "    <rect x=\"0\" y=\"0\" width=\"2400\" height=\"1600\"/>\n",
       "  </clipPath>\n",
       "</defs>\n",
       "<polygon clip-path=\"url(#clip0501)\" points=\"\n",
       "0,1600 2400,1600 2400,0 0,0 \n",
       "  \" fill=\"#ffffff\" fill-rule=\"evenodd\" fill-opacity=\"1\"/>\n",
       "<defs>\n",
       "  <clipPath id=\"clip0502\">\n",
       "    <rect x=\"480\" y=\"0\" width=\"1681\" height=\"1600\"/>\n",
       "  </clipPath>\n",
       "</defs>\n",
       "<polygon clip-path=\"url(#clip0501)\" points=\"\n",
       "188.156,1503.47 2321.26,1503.47 2321.26,47.2441 188.156,47.2441 \n",
       "  \" fill=\"#ffffff\" fill-rule=\"evenodd\" fill-opacity=\"1\"/>\n",
       "<defs>\n",
       "  <clipPath id=\"clip0503\">\n",
       "    <rect x=\"188\" y=\"47\" width=\"2134\" height=\"1457\"/>\n",
       "  </clipPath>\n",
       "</defs>\n",
       "<polyline clip-path=\"url(#clip0503)\" style=\"stroke:#000000; stroke-width:2; stroke-opacity:0.1; fill:none\" points=\"\n",
       "  248.527,1503.47 248.527,47.2441 \n",
       "  \"/>\n",
       "<polyline clip-path=\"url(#clip0503)\" style=\"stroke:#000000; stroke-width:2; stroke-opacity:0.1; fill:none\" points=\"\n",
       "  751.618,1503.47 751.618,47.2441 \n",
       "  \"/>\n",
       "<polyline clip-path=\"url(#clip0503)\" style=\"stroke:#000000; stroke-width:2; stroke-opacity:0.1; fill:none\" points=\"\n",
       "  1254.71,1503.47 1254.71,47.2441 \n",
       "  \"/>\n",
       "<polyline clip-path=\"url(#clip0503)\" style=\"stroke:#000000; stroke-width:2; stroke-opacity:0.1; fill:none\" points=\"\n",
       "  1757.8,1503.47 1757.8,47.2441 \n",
       "  \"/>\n",
       "<polyline clip-path=\"url(#clip0503)\" style=\"stroke:#000000; stroke-width:2; stroke-opacity:0.1; fill:none\" points=\"\n",
       "  2260.89,1503.47 2260.89,47.2441 \n",
       "  \"/>\n",
       "<polyline clip-path=\"url(#clip0503)\" style=\"stroke:#000000; stroke-width:2; stroke-opacity:0.1; fill:none\" points=\"\n",
       "  188.156,1462.26 2321.26,1462.26 \n",
       "  \"/>\n",
       "<polyline clip-path=\"url(#clip0503)\" style=\"stroke:#000000; stroke-width:2; stroke-opacity:0.1; fill:none\" points=\"\n",
       "  188.156,1242.85 2321.26,1242.85 \n",
       "  \"/>\n",
       "<polyline clip-path=\"url(#clip0503)\" style=\"stroke:#000000; stroke-width:2; stroke-opacity:0.1; fill:none\" points=\"\n",
       "  188.156,1023.44 2321.26,1023.44 \n",
       "  \"/>\n",
       "<polyline clip-path=\"url(#clip0503)\" style=\"stroke:#000000; stroke-width:2; stroke-opacity:0.1; fill:none\" points=\"\n",
       "  188.156,804.037 2321.26,804.037 \n",
       "  \"/>\n",
       "<polyline clip-path=\"url(#clip0503)\" style=\"stroke:#000000; stroke-width:2; stroke-opacity:0.1; fill:none\" points=\"\n",
       "  188.156,584.629 2321.26,584.629 \n",
       "  \"/>\n",
       "<polyline clip-path=\"url(#clip0503)\" style=\"stroke:#000000; stroke-width:2; stroke-opacity:0.1; fill:none\" points=\"\n",
       "  188.156,365.221 2321.26,365.221 \n",
       "  \"/>\n",
       "<polyline clip-path=\"url(#clip0503)\" style=\"stroke:#000000; stroke-width:2; stroke-opacity:0.1; fill:none\" points=\"\n",
       "  188.156,145.813 2321.26,145.813 \n",
       "  \"/>\n",
       "<polyline clip-path=\"url(#clip0501)\" style=\"stroke:#000000; stroke-width:4; stroke-opacity:1; fill:none\" points=\"\n",
       "  188.156,1503.47 2321.26,1503.47 \n",
       "  \"/>\n",
       "<polyline clip-path=\"url(#clip0501)\" style=\"stroke:#000000; stroke-width:4; stroke-opacity:1; fill:none\" points=\"\n",
       "  188.156,1503.47 188.156,47.2441 \n",
       "  \"/>\n",
       "<polyline clip-path=\"url(#clip0501)\" style=\"stroke:#000000; stroke-width:4; stroke-opacity:1; fill:none\" points=\"\n",
       "  248.527,1503.47 248.527,1481.63 \n",
       "  \"/>\n",
       "<polyline clip-path=\"url(#clip0501)\" style=\"stroke:#000000; stroke-width:4; stroke-opacity:1; fill:none\" points=\"\n",
       "  751.618,1503.47 751.618,1481.63 \n",
       "  \"/>\n",
       "<polyline clip-path=\"url(#clip0501)\" style=\"stroke:#000000; stroke-width:4; stroke-opacity:1; fill:none\" points=\"\n",
       "  1254.71,1503.47 1254.71,1481.63 \n",
       "  \"/>\n",
       "<polyline clip-path=\"url(#clip0501)\" style=\"stroke:#000000; stroke-width:4; stroke-opacity:1; fill:none\" points=\"\n",
       "  1757.8,1503.47 1757.8,1481.63 \n",
       "  \"/>\n",
       "<polyline clip-path=\"url(#clip0501)\" style=\"stroke:#000000; stroke-width:4; stroke-opacity:1; fill:none\" points=\"\n",
       "  2260.89,1503.47 2260.89,1481.63 \n",
       "  \"/>\n",
       "<polyline clip-path=\"url(#clip0501)\" style=\"stroke:#000000; stroke-width:4; stroke-opacity:1; fill:none\" points=\"\n",
       "  188.156,1462.26 220.153,1462.26 \n",
       "  \"/>\n",
       "<polyline clip-path=\"url(#clip0501)\" style=\"stroke:#000000; stroke-width:4; stroke-opacity:1; fill:none\" points=\"\n",
       "  188.156,1242.85 220.153,1242.85 \n",
       "  \"/>\n",
       "<polyline clip-path=\"url(#clip0501)\" style=\"stroke:#000000; stroke-width:4; stroke-opacity:1; fill:none\" points=\"\n",
       "  188.156,1023.44 220.153,1023.44 \n",
       "  \"/>\n",
       "<polyline clip-path=\"url(#clip0501)\" style=\"stroke:#000000; stroke-width:4; stroke-opacity:1; fill:none\" points=\"\n",
       "  188.156,804.037 220.153,804.037 \n",
       "  \"/>\n",
       "<polyline clip-path=\"url(#clip0501)\" style=\"stroke:#000000; stroke-width:4; stroke-opacity:1; fill:none\" points=\"\n",
       "  188.156,584.629 220.153,584.629 \n",
       "  \"/>\n",
       "<polyline clip-path=\"url(#clip0501)\" style=\"stroke:#000000; stroke-width:4; stroke-opacity:1; fill:none\" points=\"\n",
       "  188.156,365.221 220.153,365.221 \n",
       "  \"/>\n",
       "<polyline clip-path=\"url(#clip0501)\" style=\"stroke:#000000; stroke-width:4; stroke-opacity:1; fill:none\" points=\"\n",
       "  188.156,145.813 220.153,145.813 \n",
       "  \"/>\n",
       "<g clip-path=\"url(#clip0501)\">\n",
       "<text style=\"fill:#000000; fill-opacity:1; font-family:Arial,Helvetica Neue,Helvetica,sans-serif; font-size:48px; text-anchor:middle;\" transform=\"rotate(0, 248.527, 1557.47)\" x=\"248.527\" y=\"1557.47\">0.00</text>\n",
       "</g>\n",
       "<g clip-path=\"url(#clip0501)\">\n",
       "<text style=\"fill:#000000; fill-opacity:1; font-family:Arial,Helvetica Neue,Helvetica,sans-serif; font-size:48px; text-anchor:middle;\" transform=\"rotate(0, 751.618, 1557.47)\" x=\"751.618\" y=\"1557.47\">0.25</text>\n",
       "</g>\n",
       "<g clip-path=\"url(#clip0501)\">\n",
       "<text style=\"fill:#000000; fill-opacity:1; font-family:Arial,Helvetica Neue,Helvetica,sans-serif; font-size:48px; text-anchor:middle;\" transform=\"rotate(0, 1254.71, 1557.47)\" x=\"1254.71\" y=\"1557.47\">0.50</text>\n",
       "</g>\n",
       "<g clip-path=\"url(#clip0501)\">\n",
       "<text style=\"fill:#000000; fill-opacity:1; font-family:Arial,Helvetica Neue,Helvetica,sans-serif; font-size:48px; text-anchor:middle;\" transform=\"rotate(0, 1757.8, 1557.47)\" x=\"1757.8\" y=\"1557.47\">0.75</text>\n",
       "</g>\n",
       "<g clip-path=\"url(#clip0501)\">\n",
       "<text style=\"fill:#000000; fill-opacity:1; font-family:Arial,Helvetica Neue,Helvetica,sans-serif; font-size:48px; text-anchor:middle;\" transform=\"rotate(0, 2260.89, 1557.47)\" x=\"2260.89\" y=\"1557.47\">1.00</text>\n",
       "</g>\n",
       "<g clip-path=\"url(#clip0501)\">\n",
       "<text style=\"fill:#000000; fill-opacity:1; font-family:Arial,Helvetica Neue,Helvetica,sans-serif; font-size:48px; text-anchor:end;\" transform=\"rotate(0, 164.156, 1479.76)\" x=\"164.156\" y=\"1479.76\">0.00</text>\n",
       "</g>\n",
       "<g clip-path=\"url(#clip0501)\">\n",
       "<text style=\"fill:#000000; fill-opacity:1; font-family:Arial,Helvetica Neue,Helvetica,sans-serif; font-size:48px; text-anchor:end;\" transform=\"rotate(0, 164.156, 1260.35)\" x=\"164.156\" y=\"1260.35\">0.02</text>\n",
       "</g>\n",
       "<g clip-path=\"url(#clip0501)\">\n",
       "<text style=\"fill:#000000; fill-opacity:1; font-family:Arial,Helvetica Neue,Helvetica,sans-serif; font-size:48px; text-anchor:end;\" transform=\"rotate(0, 164.156, 1040.94)\" x=\"164.156\" y=\"1040.94\">0.04</text>\n",
       "</g>\n",
       "<g clip-path=\"url(#clip0501)\">\n",
       "<text style=\"fill:#000000; fill-opacity:1; font-family:Arial,Helvetica Neue,Helvetica,sans-serif; font-size:48px; text-anchor:end;\" transform=\"rotate(0, 164.156, 821.537)\" x=\"164.156\" y=\"821.537\">0.06</text>\n",
       "</g>\n",
       "<g clip-path=\"url(#clip0501)\">\n",
       "<text style=\"fill:#000000; fill-opacity:1; font-family:Arial,Helvetica Neue,Helvetica,sans-serif; font-size:48px; text-anchor:end;\" transform=\"rotate(0, 164.156, 602.129)\" x=\"164.156\" y=\"602.129\">0.08</text>\n",
       "</g>\n",
       "<g clip-path=\"url(#clip0501)\">\n",
       "<text style=\"fill:#000000; fill-opacity:1; font-family:Arial,Helvetica Neue,Helvetica,sans-serif; font-size:48px; text-anchor:end;\" transform=\"rotate(0, 164.156, 382.721)\" x=\"164.156\" y=\"382.721\">0.10</text>\n",
       "</g>\n",
       "<g clip-path=\"url(#clip0501)\">\n",
       "<text style=\"fill:#000000; fill-opacity:1; font-family:Arial,Helvetica Neue,Helvetica,sans-serif; font-size:48px; text-anchor:end;\" transform=\"rotate(0, 164.156, 163.313)\" x=\"164.156\" y=\"163.313\">0.12</text>\n",
       "</g>\n",
       "<polyline clip-path=\"url(#clip0503)\" style=\"stroke:#009af9; stroke-width:4; stroke-opacity:1; fill:none\" points=\"\n",
       "  248.527,1461.8 268.854,1461.25 289.181,1460.12 309.508,1457.92 329.835,1453.82 350.162,1446.51 370.489,1434.03 390.815,1413.68 411.142,1382.01 431.469,1335 \n",
       "  451.796,1268.51 472.123,1179.1 492.45,1064.96 512.777,927.096 533.104,770.216 553.431,603.124 573.757,438.323 594.084,290.694 614.411,175.37 634.738,105.207 \n",
       "  655.065,88.4582 675.392,127.199 695.719,216.719 716.046,346.693 736.373,503.047 756.699,670.458 777.026,834.778 797.353,984.877 817.68,1113.59 838.007,1217.78 \n",
       "  858.334,1297.69 878.661,1355.91 898.988,1396.28 919.314,1422.97 939.641,1439.8 959.968,1449.93 980.295,1455.76 1000.62,1458.97 1020.95,1460.67 1041.28,1461.52 \n",
       "  1061.6,1461.93 1081.93,1462.12 1102.26,1462.2 1122.58,1462.24 1142.91,1462.25 1163.24,1462.26 1183.56,1462.26 1203.89,1462.26 1224.22,1462.26 1244.54,1462.26 \n",
       "  1264.87,1462.26 1285.2,1462.26 1305.53,1462.26 1325.85,1462.26 1346.18,1462.26 1366.51,1462.26 1386.83,1462.26 1407.16,1462.26 1427.49,1462.26 1447.81,1462.26 \n",
       "  1468.14,1462.26 1488.47,1462.26 1508.79,1462.26 1529.12,1462.26 1549.45,1462.26 1569.77,1462.26 1590.1,1462.26 1610.43,1462.26 1630.76,1462.26 1651.08,1462.26 \n",
       "  1671.41,1462.26 1691.74,1462.26 1712.06,1462.26 1732.39,1462.26 1752.72,1462.26 1773.04,1462.26 1793.37,1462.26 1813.7,1462.26 1834.02,1462.26 1854.35,1462.26 \n",
       "  1874.68,1462.26 1895.01,1462.26 1915.33,1462.26 1935.66,1462.26 1955.99,1462.26 1976.31,1462.26 1996.64,1462.26 2016.97,1462.26 2037.29,1462.26 2057.62,1462.26 \n",
       "  2077.95,1462.26 2098.27,1462.26 2118.6,1462.26 2138.93,1462.26 2159.25,1462.26 2179.58,1462.26 2199.91,1462.26 2220.24,1462.26 2240.56,1462.26 2260.89,1462.26 \n",
       "  \n",
       "  \"/>\n",
       "<polygon clip-path=\"url(#clip0501)\" points=\"\n",
       "1958.43,251.724 2249.26,251.724 2249.26,130.764 1958.43,130.764 \n",
       "  \" fill=\"#ffffff\" fill-rule=\"evenodd\" fill-opacity=\"1\"/>\n",
       "<polyline clip-path=\"url(#clip0501)\" style=\"stroke:#000000; stroke-width:4; stroke-opacity:1; fill:none\" points=\"\n",
       "  1958.43,251.724 2249.26,251.724 2249.26,130.764 1958.43,130.764 1958.43,251.724 \n",
       "  \"/>\n",
       "<polyline clip-path=\"url(#clip0501)\" style=\"stroke:#009af9; stroke-width:4; stroke-opacity:1; fill:none\" points=\"\n",
       "  1982.43,191.244 2126.43,191.244 \n",
       "  \"/>\n",
       "<g clip-path=\"url(#clip0501)\">\n",
       "<text style=\"fill:#000000; fill-opacity:1; font-family:Arial,Helvetica Neue,Helvetica,sans-serif; font-size:48px; text-anchor:start;\" transform=\"rotate(0, 2150.43, 208.744)\" x=\"2150.43\" y=\"208.744\">y1</text>\n",
       "</g>\n",
       "</svg>\n"
      ]
     },
     "execution_count": 120,
     "metadata": {},
     "output_type": "execute_result"
    }
   ],
   "source": [
    "s0 = initialGaussian(500, 0.2, 0.05, 1.)\n",
    "xs = collect(range(0, stop=1, length=100))\n",
    "plot(xs, [abs(evaluate(s0.psi, x))^2 for x in xs] )"
   ]
  },
  {
   "cell_type": "code",
   "execution_count": 121,
   "metadata": {},
   "outputs": [
    {
     "data": {
      "image/svg+xml": [
       "<?xml version=\"1.0\" encoding=\"utf-8\"?>\n",
       "<svg xmlns=\"http://www.w3.org/2000/svg\" xmlns:xlink=\"http://www.w3.org/1999/xlink\" width=\"600\" height=\"400\" viewBox=\"0 0 2400 1600\">\n",
       "<defs>\n",
       "  <clipPath id=\"clip0700\">\n",
       "    <rect x=\"0\" y=\"0\" width=\"2000\" height=\"2000\"/>\n",
       "  </clipPath>\n",
       "</defs>\n",
       "<defs>\n",
       "  <clipPath id=\"clip0701\">\n",
       "    <rect x=\"0\" y=\"0\" width=\"2400\" height=\"1600\"/>\n",
       "  </clipPath>\n",
       "</defs>\n",
       "<polygon clip-path=\"url(#clip0701)\" points=\"\n",
       "0,1600 2400,1600 2400,0 0,0 \n",
       "  \" fill=\"#ffffff\" fill-rule=\"evenodd\" fill-opacity=\"1\"/>\n",
       "<defs>\n",
       "  <clipPath id=\"clip0702\">\n",
       "    <rect x=\"480\" y=\"0\" width=\"1681\" height=\"1600\"/>\n",
       "  </clipPath>\n",
       "</defs>\n",
       "<polygon clip-path=\"url(#clip0701)\" points=\"\n",
       "161.394,1503.47 2321.26,1503.47 2321.26,47.2441 161.394,47.2441 \n",
       "  \" fill=\"#ffffff\" fill-rule=\"evenodd\" fill-opacity=\"1\"/>\n",
       "<defs>\n",
       "  <clipPath id=\"clip0703\">\n",
       "    <rect x=\"161\" y=\"47\" width=\"2161\" height=\"1457\"/>\n",
       "  </clipPath>\n",
       "</defs>\n",
       "<polyline clip-path=\"url(#clip0703)\" style=\"stroke:#000000; stroke-width:2; stroke-opacity:0.1; fill:none\" points=\"\n",
       "  201.94,1503.47 201.94,47.2441 \n",
       "  \"/>\n",
       "<polyline clip-path=\"url(#clip0703)\" style=\"stroke:#000000; stroke-width:2; stroke-opacity:0.1; fill:none\" points=\"\n",
       "  716.488,1503.47 716.488,47.2441 \n",
       "  \"/>\n",
       "<polyline clip-path=\"url(#clip0703)\" style=\"stroke:#000000; stroke-width:2; stroke-opacity:0.1; fill:none\" points=\"\n",
       "  1231.04,1503.47 1231.04,47.2441 \n",
       "  \"/>\n",
       "<polyline clip-path=\"url(#clip0703)\" style=\"stroke:#000000; stroke-width:2; stroke-opacity:0.1; fill:none\" points=\"\n",
       "  1745.58,1503.47 1745.58,47.2441 \n",
       "  \"/>\n",
       "<polyline clip-path=\"url(#clip0703)\" style=\"stroke:#000000; stroke-width:2; stroke-opacity:0.1; fill:none\" points=\"\n",
       "  2260.13,1503.47 2260.13,47.2441 \n",
       "  \"/>\n",
       "<polyline clip-path=\"url(#clip0703)\" style=\"stroke:#000000; stroke-width:2; stroke-opacity:0.1; fill:none\" points=\"\n",
       "  161.394,1462.26 2321.26,1462.26 \n",
       "  \"/>\n",
       "<polyline clip-path=\"url(#clip0703)\" style=\"stroke:#000000; stroke-width:2; stroke-opacity:0.1; fill:none\" points=\"\n",
       "  161.394,1075.58 2321.26,1075.58 \n",
       "  \"/>\n",
       "<polyline clip-path=\"url(#clip0703)\" style=\"stroke:#000000; stroke-width:2; stroke-opacity:0.1; fill:none\" points=\"\n",
       "  161.394,688.908 2321.26,688.908 \n",
       "  \"/>\n",
       "<polyline clip-path=\"url(#clip0703)\" style=\"stroke:#000000; stroke-width:2; stroke-opacity:0.1; fill:none\" points=\"\n",
       "  161.394,302.232 2321.26,302.232 \n",
       "  \"/>\n",
       "<polyline clip-path=\"url(#clip0701)\" style=\"stroke:#000000; stroke-width:4; stroke-opacity:1; fill:none\" points=\"\n",
       "  161.394,1503.47 2321.26,1503.47 \n",
       "  \"/>\n",
       "<polyline clip-path=\"url(#clip0701)\" style=\"stroke:#000000; stroke-width:4; stroke-opacity:1; fill:none\" points=\"\n",
       "  161.394,1503.47 161.394,47.2441 \n",
       "  \"/>\n",
       "<polyline clip-path=\"url(#clip0701)\" style=\"stroke:#000000; stroke-width:4; stroke-opacity:1; fill:none\" points=\"\n",
       "  201.94,1503.47 201.94,1481.63 \n",
       "  \"/>\n",
       "<polyline clip-path=\"url(#clip0701)\" style=\"stroke:#000000; stroke-width:4; stroke-opacity:1; fill:none\" points=\"\n",
       "  716.488,1503.47 716.488,1481.63 \n",
       "  \"/>\n",
       "<polyline clip-path=\"url(#clip0701)\" style=\"stroke:#000000; stroke-width:4; stroke-opacity:1; fill:none\" points=\"\n",
       "  1231.04,1503.47 1231.04,1481.63 \n",
       "  \"/>\n",
       "<polyline clip-path=\"url(#clip0701)\" style=\"stroke:#000000; stroke-width:4; stroke-opacity:1; fill:none\" points=\"\n",
       "  1745.58,1503.47 1745.58,1481.63 \n",
       "  \"/>\n",
       "<polyline clip-path=\"url(#clip0701)\" style=\"stroke:#000000; stroke-width:4; stroke-opacity:1; fill:none\" points=\"\n",
       "  2260.13,1503.47 2260.13,1481.63 \n",
       "  \"/>\n",
       "<polyline clip-path=\"url(#clip0701)\" style=\"stroke:#000000; stroke-width:4; stroke-opacity:1; fill:none\" points=\"\n",
       "  161.394,1462.26 193.792,1462.26 \n",
       "  \"/>\n",
       "<polyline clip-path=\"url(#clip0701)\" style=\"stroke:#000000; stroke-width:4; stroke-opacity:1; fill:none\" points=\"\n",
       "  161.394,1075.58 193.792,1075.58 \n",
       "  \"/>\n",
       "<polyline clip-path=\"url(#clip0701)\" style=\"stroke:#000000; stroke-width:4; stroke-opacity:1; fill:none\" points=\"\n",
       "  161.394,688.908 193.792,688.908 \n",
       "  \"/>\n",
       "<polyline clip-path=\"url(#clip0701)\" style=\"stroke:#000000; stroke-width:4; stroke-opacity:1; fill:none\" points=\"\n",
       "  161.394,302.232 193.792,302.232 \n",
       "  \"/>\n",
       "<g clip-path=\"url(#clip0701)\">\n",
       "<text style=\"fill:#000000; fill-opacity:1; font-family:Arial,Helvetica Neue,Helvetica,sans-serif; font-size:48px; text-anchor:middle;\" transform=\"rotate(0, 201.94, 1557.47)\" x=\"201.94\" y=\"1557.47\">0</text>\n",
       "</g>\n",
       "<g clip-path=\"url(#clip0701)\">\n",
       "<text style=\"fill:#000000; fill-opacity:1; font-family:Arial,Helvetica Neue,Helvetica,sans-serif; font-size:48px; text-anchor:middle;\" transform=\"rotate(0, 716.488, 1557.47)\" x=\"716.488\" y=\"1557.47\">25</text>\n",
       "</g>\n",
       "<g clip-path=\"url(#clip0701)\">\n",
       "<text style=\"fill:#000000; fill-opacity:1; font-family:Arial,Helvetica Neue,Helvetica,sans-serif; font-size:48px; text-anchor:middle;\" transform=\"rotate(0, 1231.04, 1557.47)\" x=\"1231.04\" y=\"1557.47\">50</text>\n",
       "</g>\n",
       "<g clip-path=\"url(#clip0701)\">\n",
       "<text style=\"fill:#000000; fill-opacity:1; font-family:Arial,Helvetica Neue,Helvetica,sans-serif; font-size:48px; text-anchor:middle;\" transform=\"rotate(0, 1745.58, 1557.47)\" x=\"1745.58\" y=\"1557.47\">75</text>\n",
       "</g>\n",
       "<g clip-path=\"url(#clip0701)\">\n",
       "<text style=\"fill:#000000; fill-opacity:1; font-family:Arial,Helvetica Neue,Helvetica,sans-serif; font-size:48px; text-anchor:middle;\" transform=\"rotate(0, 2260.13, 1557.47)\" x=\"2260.13\" y=\"1557.47\">100</text>\n",
       "</g>\n",
       "<g clip-path=\"url(#clip0701)\">\n",
       "<text style=\"fill:#000000; fill-opacity:1; font-family:Arial,Helvetica Neue,Helvetica,sans-serif; font-size:48px; text-anchor:end;\" transform=\"rotate(0, 137.394, 1479.76)\" x=\"137.394\" y=\"1479.76\">0.0</text>\n",
       "</g>\n",
       "<g clip-path=\"url(#clip0701)\">\n",
       "<text style=\"fill:#000000; fill-opacity:1; font-family:Arial,Helvetica Neue,Helvetica,sans-serif; font-size:48px; text-anchor:end;\" transform=\"rotate(0, 137.394, 1093.08)\" x=\"137.394\" y=\"1093.08\">0.5</text>\n",
       "</g>\n",
       "<g clip-path=\"url(#clip0701)\">\n",
       "<text style=\"fill:#000000; fill-opacity:1; font-family:Arial,Helvetica Neue,Helvetica,sans-serif; font-size:48px; text-anchor:end;\" transform=\"rotate(0, 137.394, 706.408)\" x=\"137.394\" y=\"706.408\">1.0</text>\n",
       "</g>\n",
       "<g clip-path=\"url(#clip0701)\">\n",
       "<text style=\"fill:#000000; fill-opacity:1; font-family:Arial,Helvetica Neue,Helvetica,sans-serif; font-size:48px; text-anchor:end;\" transform=\"rotate(0, 137.394, 319.732)\" x=\"137.394\" y=\"319.732\">1.5</text>\n",
       "</g>\n",
       "<polyline clip-path=\"url(#clip0703)\" style=\"stroke:#009af9; stroke-width:4; stroke-opacity:1; fill:none\" points=\"\n",
       "  222.522,1462.26 243.104,1231.04 263.686,1166.71 284.268,1095.86 304.85,1022.59 325.432,952.933 346.014,894.74 366.596,857.261 387.178,850.276 407.76,882.841 \n",
       "  428.341,961.65 448.923,1088.65 469.505,1253.47 490.087,1333.71 510.669,1132.56 531.251,874.121 551.833,618.399 572.415,392.345 592.997,218.214 613.579,113.365 \n",
       "  634.161,88.4582 654.742,146.14 675.324,280.393 695.906,477.692 716.488,718.504 737.07,978.96 757.652,1227.57 778.234,1337.6 798.816,1185 819.398,1032.26 \n",
       "  839.98,924.309 860.562,864.565 881.143,848.798 901.725,869.14 922.307,916.072 942.889,979.9 963.471,1051.85 984.053,1124.76 1004.63,1193.39 1025.22,1254.38 \n",
       "  1045.8,1306.06 1066.38,1348.07 1086.96,1380.97 1107.54,1405.87 1128.13,1424.12 1148.71,1437.09 1169.29,1446.06 1189.87,1452.07 1210.45,1456.01 1231.04,1458.51 \n",
       "  1251.62,1460.06 1272.2,1461 1292.78,1461.56 1313.36,1461.88 1333.95,1462.05 1354.53,1462.15 1375.11,1462.21 1395.69,1462.23 1416.27,1462.25 1436.86,1462.25 \n",
       "  1457.44,1462.26 1478.02,1462.26 1498.6,1462.26 1519.18,1462.26 1539.76,1462.26 1560.35,1462.26 1580.93,1462.26 1601.51,1462.26 1622.09,1462.26 1642.67,1462.26 \n",
       "  1663.26,1462.26 1683.84,1462.26 1704.42,1462.26 1725,1462.26 1745.58,1462.26 1766.17,1462.26 1786.75,1462.26 1807.33,1462.26 1827.91,1462.26 1848.49,1462.26 \n",
       "  1869.08,1462.26 1889.66,1462.26 1910.24,1462.26 1930.82,1462.26 1951.4,1462.26 1971.98,1462.26 1992.57,1462.26 2013.15,1462.26 2033.73,1462.26 2054.31,1462.26 \n",
       "  2074.89,1462.26 2095.48,1462.26 2116.06,1462.26 2136.64,1462.26 2157.22,1462.26 2177.8,1462.26 2198.39,1462.26 2218.97,1462.26 2239.55,1462.26 2260.13,1462.26 \n",
       "  \n",
       "  \"/>\n",
       "<polygon clip-path=\"url(#clip0701)\" points=\"\n",
       "1958.43,251.724 2249.26,251.724 2249.26,130.764 1958.43,130.764 \n",
       "  \" fill=\"#ffffff\" fill-rule=\"evenodd\" fill-opacity=\"1\"/>\n",
       "<polyline clip-path=\"url(#clip0701)\" style=\"stroke:#000000; stroke-width:4; stroke-opacity:1; fill:none\" points=\"\n",
       "  1958.43,251.724 2249.26,251.724 2249.26,130.764 1958.43,130.764 1958.43,251.724 \n",
       "  \"/>\n",
       "<polyline clip-path=\"url(#clip0701)\" style=\"stroke:#009af9; stroke-width:4; stroke-opacity:1; fill:none\" points=\"\n",
       "  1982.43,191.244 2126.43,191.244 \n",
       "  \"/>\n",
       "<g clip-path=\"url(#clip0701)\">\n",
       "<text style=\"fill:#000000; fill-opacity:1; font-family:Arial,Helvetica Neue,Helvetica,sans-serif; font-size:48px; text-anchor:start;\" transform=\"rotate(0, 2150.43, 208.744)\" x=\"2150.43\" y=\"208.744\">y1</text>\n",
       "</g>\n",
       "</svg>\n"
      ]
     },
     "execution_count": 121,
     "metadata": {},
     "output_type": "execute_result"
    }
   ],
   "source": [
    "rhsSchroedinger(s0)\n",
    "plot([abs(evaluate(rhsSchroedinger(s0).psi, x)) for x in xs])"
   ]
  },
  {
   "cell_type": "code",
   "execution_count": 122,
   "metadata": {},
   "outputs": [
    {
     "data": {
      "image/svg+xml": [
       "<?xml version=\"1.0\" encoding=\"utf-8\"?>\n",
       "<svg xmlns=\"http://www.w3.org/2000/svg\" xmlns:xlink=\"http://www.w3.org/1999/xlink\" width=\"600\" height=\"400\" viewBox=\"0 0 2400 1600\">\n",
       "<defs>\n",
       "  <clipPath id=\"clip0900\">\n",
       "    <rect x=\"0\" y=\"0\" width=\"2000\" height=\"2000\"/>\n",
       "  </clipPath>\n",
       "</defs>\n",
       "<defs>\n",
       "  <clipPath id=\"clip0901\">\n",
       "    <rect x=\"0\" y=\"0\" width=\"2400\" height=\"1600\"/>\n",
       "  </clipPath>\n",
       "</defs>\n",
       "<polygon clip-path=\"url(#clip0901)\" points=\"\n",
       "0,1600 2400,1600 2400,0 0,0 \n",
       "  \" fill=\"#ffffff\" fill-rule=\"evenodd\" fill-opacity=\"1\"/>\n",
       "<defs>\n",
       "  <clipPath id=\"clip0902\">\n",
       "    <rect x=\"480\" y=\"0\" width=\"1681\" height=\"1600\"/>\n",
       "  </clipPath>\n",
       "</defs>\n",
       "<polygon clip-path=\"url(#clip0901)\" points=\"\n",
       "188.156,1503.47 2321.26,1503.47 2321.26,47.2441 188.156,47.2441 \n",
       "  \" fill=\"#ffffff\" fill-rule=\"evenodd\" fill-opacity=\"1\"/>\n",
       "<defs>\n",
       "  <clipPath id=\"clip0903\">\n",
       "    <rect x=\"188\" y=\"47\" width=\"2134\" height=\"1457\"/>\n",
       "  </clipPath>\n",
       "</defs>\n",
       "<polyline clip-path=\"url(#clip0903)\" style=\"stroke:#000000; stroke-width:2; stroke-opacity:0.1; fill:none\" points=\"\n",
       "  248.527,1503.47 248.527,47.2441 \n",
       "  \"/>\n",
       "<polyline clip-path=\"url(#clip0903)\" style=\"stroke:#000000; stroke-width:2; stroke-opacity:0.1; fill:none\" points=\"\n",
       "  751.618,1503.47 751.618,47.2441 \n",
       "  \"/>\n",
       "<polyline clip-path=\"url(#clip0903)\" style=\"stroke:#000000; stroke-width:2; stroke-opacity:0.1; fill:none\" points=\"\n",
       "  1254.71,1503.47 1254.71,47.2441 \n",
       "  \"/>\n",
       "<polyline clip-path=\"url(#clip0903)\" style=\"stroke:#000000; stroke-width:2; stroke-opacity:0.1; fill:none\" points=\"\n",
       "  1757.8,1503.47 1757.8,47.2441 \n",
       "  \"/>\n",
       "<polyline clip-path=\"url(#clip0903)\" style=\"stroke:#000000; stroke-width:2; stroke-opacity:0.1; fill:none\" points=\"\n",
       "  2260.89,1503.47 2260.89,47.2441 \n",
       "  \"/>\n",
       "<polyline clip-path=\"url(#clip0903)\" style=\"stroke:#000000; stroke-width:2; stroke-opacity:0.1; fill:none\" points=\"\n",
       "  188.156,1462.27 2321.26,1462.27 \n",
       "  \"/>\n",
       "<polyline clip-path=\"url(#clip0903)\" style=\"stroke:#000000; stroke-width:2; stroke-opacity:0.1; fill:none\" points=\"\n",
       "  188.156,1187.51 2321.26,1187.51 \n",
       "  \"/>\n",
       "<polyline clip-path=\"url(#clip0903)\" style=\"stroke:#000000; stroke-width:2; stroke-opacity:0.1; fill:none\" points=\"\n",
       "  188.156,912.756 2321.26,912.756 \n",
       "  \"/>\n",
       "<polyline clip-path=\"url(#clip0903)\" style=\"stroke:#000000; stroke-width:2; stroke-opacity:0.1; fill:none\" points=\"\n",
       "  188.156,638.002 2321.26,638.002 \n",
       "  \"/>\n",
       "<polyline clip-path=\"url(#clip0903)\" style=\"stroke:#000000; stroke-width:2; stroke-opacity:0.1; fill:none\" points=\"\n",
       "  188.156,363.247 2321.26,363.247 \n",
       "  \"/>\n",
       "<polyline clip-path=\"url(#clip0903)\" style=\"stroke:#000000; stroke-width:2; stroke-opacity:0.1; fill:none\" points=\"\n",
       "  188.156,88.492 2321.26,88.492 \n",
       "  \"/>\n",
       "<polyline clip-path=\"url(#clip0901)\" style=\"stroke:#000000; stroke-width:4; stroke-opacity:1; fill:none\" points=\"\n",
       "  188.156,1503.47 2321.26,1503.47 \n",
       "  \"/>\n",
       "<polyline clip-path=\"url(#clip0901)\" style=\"stroke:#000000; stroke-width:4; stroke-opacity:1; fill:none\" points=\"\n",
       "  188.156,1503.47 188.156,47.2441 \n",
       "  \"/>\n",
       "<polyline clip-path=\"url(#clip0901)\" style=\"stroke:#000000; stroke-width:4; stroke-opacity:1; fill:none\" points=\"\n",
       "  248.527,1503.47 248.527,1481.63 \n",
       "  \"/>\n",
       "<polyline clip-path=\"url(#clip0901)\" style=\"stroke:#000000; stroke-width:4; stroke-opacity:1; fill:none\" points=\"\n",
       "  751.618,1503.47 751.618,1481.63 \n",
       "  \"/>\n",
       "<polyline clip-path=\"url(#clip0901)\" style=\"stroke:#000000; stroke-width:4; stroke-opacity:1; fill:none\" points=\"\n",
       "  1254.71,1503.47 1254.71,1481.63 \n",
       "  \"/>\n",
       "<polyline clip-path=\"url(#clip0901)\" style=\"stroke:#000000; stroke-width:4; stroke-opacity:1; fill:none\" points=\"\n",
       "  1757.8,1503.47 1757.8,1481.63 \n",
       "  \"/>\n",
       "<polyline clip-path=\"url(#clip0901)\" style=\"stroke:#000000; stroke-width:4; stroke-opacity:1; fill:none\" points=\"\n",
       "  2260.89,1503.47 2260.89,1481.63 \n",
       "  \"/>\n",
       "<polyline clip-path=\"url(#clip0901)\" style=\"stroke:#000000; stroke-width:4; stroke-opacity:1; fill:none\" points=\"\n",
       "  188.156,1462.27 220.153,1462.27 \n",
       "  \"/>\n",
       "<polyline clip-path=\"url(#clip0901)\" style=\"stroke:#000000; stroke-width:4; stroke-opacity:1; fill:none\" points=\"\n",
       "  188.156,1187.51 220.153,1187.51 \n",
       "  \"/>\n",
       "<polyline clip-path=\"url(#clip0901)\" style=\"stroke:#000000; stroke-width:4; stroke-opacity:1; fill:none\" points=\"\n",
       "  188.156,912.756 220.153,912.756 \n",
       "  \"/>\n",
       "<polyline clip-path=\"url(#clip0901)\" style=\"stroke:#000000; stroke-width:4; stroke-opacity:1; fill:none\" points=\"\n",
       "  188.156,638.002 220.153,638.002 \n",
       "  \"/>\n",
       "<polyline clip-path=\"url(#clip0901)\" style=\"stroke:#000000; stroke-width:4; stroke-opacity:1; fill:none\" points=\"\n",
       "  188.156,363.247 220.153,363.247 \n",
       "  \"/>\n",
       "<polyline clip-path=\"url(#clip0901)\" style=\"stroke:#000000; stroke-width:4; stroke-opacity:1; fill:none\" points=\"\n",
       "  188.156,88.492 220.153,88.492 \n",
       "  \"/>\n",
       "<g clip-path=\"url(#clip0901)\">\n",
       "<text style=\"fill:#000000; fill-opacity:1; font-family:Arial,Helvetica Neue,Helvetica,sans-serif; font-size:48px; text-anchor:middle;\" transform=\"rotate(0, 248.527, 1557.47)\" x=\"248.527\" y=\"1557.47\">0.00</text>\n",
       "</g>\n",
       "<g clip-path=\"url(#clip0901)\">\n",
       "<text style=\"fill:#000000; fill-opacity:1; font-family:Arial,Helvetica Neue,Helvetica,sans-serif; font-size:48px; text-anchor:middle;\" transform=\"rotate(0, 751.618, 1557.47)\" x=\"751.618\" y=\"1557.47\">0.25</text>\n",
       "</g>\n",
       "<g clip-path=\"url(#clip0901)\">\n",
       "<text style=\"fill:#000000; fill-opacity:1; font-family:Arial,Helvetica Neue,Helvetica,sans-serif; font-size:48px; text-anchor:middle;\" transform=\"rotate(0, 1254.71, 1557.47)\" x=\"1254.71\" y=\"1557.47\">0.50</text>\n",
       "</g>\n",
       "<g clip-path=\"url(#clip0901)\">\n",
       "<text style=\"fill:#000000; fill-opacity:1; font-family:Arial,Helvetica Neue,Helvetica,sans-serif; font-size:48px; text-anchor:middle;\" transform=\"rotate(0, 1757.8, 1557.47)\" x=\"1757.8\" y=\"1557.47\">0.75</text>\n",
       "</g>\n",
       "<g clip-path=\"url(#clip0901)\">\n",
       "<text style=\"fill:#000000; fill-opacity:1; font-family:Arial,Helvetica Neue,Helvetica,sans-serif; font-size:48px; text-anchor:middle;\" transform=\"rotate(0, 2260.89, 1557.47)\" x=\"2260.89\" y=\"1557.47\">1.00</text>\n",
       "</g>\n",
       "<g clip-path=\"url(#clip0901)\">\n",
       "<text style=\"fill:#000000; fill-opacity:1; font-family:Arial,Helvetica Neue,Helvetica,sans-serif; font-size:48px; text-anchor:end;\" transform=\"rotate(0, 164.156, 1479.77)\" x=\"164.156\" y=\"1479.77\">0.00</text>\n",
       "</g>\n",
       "<g clip-path=\"url(#clip0901)\">\n",
       "<text style=\"fill:#000000; fill-opacity:1; font-family:Arial,Helvetica Neue,Helvetica,sans-serif; font-size:48px; text-anchor:end;\" transform=\"rotate(0, 164.156, 1205.01)\" x=\"164.156\" y=\"1205.01\">0.05</text>\n",
       "</g>\n",
       "<g clip-path=\"url(#clip0901)\">\n",
       "<text style=\"fill:#000000; fill-opacity:1; font-family:Arial,Helvetica Neue,Helvetica,sans-serif; font-size:48px; text-anchor:end;\" transform=\"rotate(0, 164.156, 930.256)\" x=\"164.156\" y=\"930.256\">0.10</text>\n",
       "</g>\n",
       "<g clip-path=\"url(#clip0901)\">\n",
       "<text style=\"fill:#000000; fill-opacity:1; font-family:Arial,Helvetica Neue,Helvetica,sans-serif; font-size:48px; text-anchor:end;\" transform=\"rotate(0, 164.156, 655.502)\" x=\"164.156\" y=\"655.502\">0.15</text>\n",
       "</g>\n",
       "<g clip-path=\"url(#clip0901)\">\n",
       "<text style=\"fill:#000000; fill-opacity:1; font-family:Arial,Helvetica Neue,Helvetica,sans-serif; font-size:48px; text-anchor:end;\" transform=\"rotate(0, 164.156, 380.747)\" x=\"164.156\" y=\"380.747\">0.20</text>\n",
       "</g>\n",
       "<g clip-path=\"url(#clip0901)\">\n",
       "<text style=\"fill:#000000; fill-opacity:1; font-family:Arial,Helvetica Neue,Helvetica,sans-serif; font-size:48px; text-anchor:end;\" transform=\"rotate(0, 164.156, 105.992)\" x=\"164.156\" y=\"105.992\">0.25</text>\n",
       "</g>\n",
       "<polyline clip-path=\"url(#clip0903)\" style=\"stroke:#009af9; stroke-width:4; stroke-opacity:1; fill:none\" points=\"\n",
       "  248.527,1462.26 268.854,1462.26 289.181,1462.25 309.508,1462.24 329.835,1462.23 350.162,1462.21 370.489,1462.18 390.815,1462.13 411.142,1462.05 431.469,1461.94 \n",
       "  451.796,1461.78 472.123,1461.55 492.45,1461.21 512.777,1460.72 533.104,1460.04 553.431,1459.08 573.757,1457.76 594.084,1455.95 614.411,1453.52 634.738,1450.26 \n",
       "  655.065,1445.97 675.392,1440.36 695.719,1433.12 716.046,1423.88 736.373,1412.23 756.699,1397.7 777.026,1379.8 797.353,1358.02 817.68,1331.81 838.007,1300.66 \n",
       "  858.334,1264.12 878.661,1221.78 898.988,1173.35 919.314,1118.69 939.641,1057.84 959.968,991.037 980.295,918.77 1000.62,841.778 1020.95,761.064 1041.28,677.887 \n",
       "  1061.6,593.741 1081.93,510.32 1102.26,429.466 1122.58,353.106 1142.91,283.177 1163.24,221.548 1183.56,169.933 1203.89,129.819 1224.22,102.386 1244.54,88.4589 \n",
       "  1264.87,88.4589 1285.2,102.386 1305.53,129.819 1325.85,169.933 1346.18,221.548 1366.51,283.177 1386.83,353.106 1407.16,429.466 1427.49,510.32 1447.81,593.741 \n",
       "  1468.14,677.887 1488.47,761.064 1508.79,841.778 1529.12,918.77 1549.45,991.037 1569.77,1057.84 1590.1,1118.69 1610.43,1173.35 1630.76,1221.78 1651.08,1264.12 \n",
       "  1671.41,1300.66 1691.74,1331.81 1712.06,1358.02 1732.39,1379.8 1752.72,1397.7 1773.04,1412.23 1793.37,1423.88 1813.7,1433.12 1834.02,1440.36 1854.35,1445.97 \n",
       "  1874.68,1450.26 1895.01,1453.52 1915.33,1455.95 1935.66,1457.76 1955.99,1459.08 1976.31,1460.04 1996.64,1460.72 2016.97,1461.21 2037.29,1461.55 2057.62,1461.78 \n",
       "  2077.95,1461.94 2098.27,1462.05 2118.6,1462.13 2138.93,1462.18 2159.25,1462.21 2179.58,1462.23 2199.91,1462.24 2220.24,1462.25 2240.56,1462.26 2260.89,1462.26 \n",
       "  \n",
       "  \"/>\n",
       "<polyline clip-path=\"url(#clip0903)\" style=\"stroke:#e26f46; stroke-width:4; stroke-opacity:1; fill:none\" points=\"\n",
       "  248.527,1462.26 268.854,1462.26 289.181,1462.25 309.508,1462.24 329.835,1462.23 350.162,1462.21 370.489,1462.18 390.815,1462.13 411.142,1462.05 431.469,1461.94 \n",
       "  451.796,1461.78 472.123,1461.55 492.45,1461.21 512.777,1460.72 533.104,1460.04 553.431,1459.08 573.757,1457.76 594.084,1455.95 614.411,1453.52 634.738,1450.26 \n",
       "  655.065,1445.97 675.392,1440.36 695.719,1433.12 716.046,1423.88 736.373,1412.23 756.699,1397.7 777.026,1379.81 797.353,1358.02 817.68,1331.81 838.007,1300.67 \n",
       "  858.334,1264.12 878.661,1221.78 898.988,1173.36 919.314,1118.7 939.641,1057.85 959.968,991.044 980.295,918.777 1000.62,841.786 1020.95,761.072 1041.28,677.895 \n",
       "  1061.6,593.749 1081.93,510.328 1102.26,429.474 1122.58,353.113 1142.91,283.184 1163.24,221.554 1183.56,169.938 1203.89,129.822 1224.22,102.388 1244.54,88.4595 \n",
       "  1264.87,88.4582 1285.2,102.384 1305.53,129.815 1325.85,169.929 1346.18,221.542 1366.51,283.171 1386.83,353.099 1407.16,429.458 1427.49,510.312 1447.81,593.733 \n",
       "  1468.14,677.879 1488.47,761.056 1508.79,841.77 1529.12,918.763 1549.45,991.03 1569.77,1057.83 1590.1,1118.69 1610.43,1173.35 1630.76,1221.77 1651.08,1264.12 \n",
       "  1671.41,1300.66 1691.74,1331.8 1712.06,1358.01 1732.39,1379.8 1752.72,1397.7 1773.04,1412.23 1793.37,1423.88 1813.7,1433.12 1834.02,1440.36 1854.35,1445.97 \n",
       "  1874.68,1450.26 1895.01,1453.52 1915.33,1455.95 1935.66,1457.76 1955.99,1459.08 1976.31,1460.04 1996.64,1460.72 2016.97,1461.21 2037.29,1461.55 2057.62,1461.78 \n",
       "  2077.95,1461.94 2098.27,1462.05 2118.6,1462.13 2138.93,1462.18 2159.25,1462.21 2179.58,1462.23 2199.91,1462.24 2220.24,1462.25 2240.56,1462.26 2260.89,1462.26 \n",
       "  \n",
       "  \"/>\n",
       "<polyline clip-path=\"url(#clip0903)\" style=\"stroke:#3da44d; stroke-width:4; stroke-opacity:1; fill:none\" points=\"\n",
       "  248.527,1462.26 268.854,1462.26 289.181,1462.25 309.508,1462.24 329.835,1462.23 350.162,1462.21 370.489,1462.18 390.815,1462.13 411.142,1462.05 431.469,1461.94 \n",
       "  451.796,1461.78 472.123,1461.55 492.45,1461.21 512.777,1460.72 533.104,1460.04 553.431,1459.08 573.757,1457.76 594.084,1455.95 614.411,1453.52 634.738,1450.26 \n",
       "  655.065,1445.97 675.392,1440.36 695.719,1433.12 716.046,1423.88 736.373,1412.23 756.699,1397.7 777.026,1379.81 797.353,1358.02 817.68,1331.81 838.007,1300.67 \n",
       "  858.334,1264.12 878.661,1221.78 898.988,1173.36 919.314,1118.7 939.641,1057.85 959.968,991.044 980.295,918.777 1000.62,841.786 1020.95,761.072 1041.28,677.895 \n",
       "  1061.6,593.749 1081.93,510.328 1102.26,429.474 1122.58,353.113 1142.91,283.184 1163.24,221.554 1183.56,169.938 1203.89,129.822 1224.22,102.388 1244.54,88.4596 \n",
       "  1264.87,88.4582 1285.2,102.384 1305.53,129.815 1325.85,169.929 1346.18,221.542 1366.51,283.171 1386.83,353.099 1407.16,429.458 1427.49,510.312 1447.81,593.733 \n",
       "  1468.14,677.879 1488.47,761.056 1508.79,841.77 1529.12,918.763 1549.45,991.03 1569.77,1057.83 1590.1,1118.69 1610.43,1173.35 1630.76,1221.77 1651.08,1264.12 \n",
       "  1671.41,1300.66 1691.74,1331.8 1712.06,1358.01 1732.39,1379.8 1752.72,1397.7 1773.04,1412.23 1793.37,1423.88 1813.7,1433.12 1834.02,1440.36 1854.35,1445.97 \n",
       "  1874.68,1450.26 1895.01,1453.52 1915.33,1455.95 1935.66,1457.76 1955.99,1459.08 1976.31,1460.04 1996.64,1460.72 2016.97,1461.21 2037.29,1461.55 2057.62,1461.78 \n",
       "  2077.95,1461.94 2098.27,1462.05 2118.6,1462.13 2138.93,1462.18 2159.25,1462.21 2179.58,1462.23 2199.91,1462.24 2220.24,1462.25 2240.56,1462.26 2260.89,1462.26 \n",
       "  \n",
       "  \"/>\n",
       "<polyline clip-path=\"url(#clip0903)\" style=\"stroke:#c271d2; stroke-width:4; stroke-opacity:1; fill:none\" points=\"\n",
       "  248.527,1462.26 268.854,1462.26 289.181,1462.25 309.508,1462.24 329.835,1462.23 350.162,1462.21 370.489,1462.18 390.815,1462.13 411.142,1462.05 431.469,1461.94 \n",
       "  451.796,1461.78 472.123,1461.55 492.45,1461.21 512.777,1460.72 533.104,1460.04 553.431,1459.08 573.757,1457.76 594.084,1455.95 614.411,1453.52 634.738,1450.26 \n",
       "  655.065,1445.97 675.392,1440.36 695.719,1433.12 716.046,1423.88 736.373,1412.23 756.699,1397.7 777.026,1379.81 797.353,1358.02 817.68,1331.81 838.007,1300.67 \n",
       "  858.334,1264.12 878.661,1221.78 898.988,1173.36 919.314,1118.7 939.641,1057.85 959.968,991.044 980.295,918.777 1000.62,841.786 1020.95,761.072 1041.28,677.895 \n",
       "  1061.6,593.749 1081.93,510.328 1102.26,429.474 1122.58,353.113 1142.91,283.184 1163.24,221.554 1183.56,169.938 1203.89,129.822 1224.22,102.388 1244.54,88.4596 \n",
       "  1264.87,88.4582 1285.2,102.384 1305.53,129.815 1325.85,169.929 1346.18,221.542 1366.51,283.171 1386.83,353.099 1407.16,429.458 1427.49,510.312 1447.81,593.733 \n",
       "  1468.14,677.879 1488.47,761.056 1508.79,841.77 1529.12,918.763 1549.45,991.03 1569.77,1057.83 1590.1,1118.69 1610.43,1173.35 1630.76,1221.77 1651.08,1264.12 \n",
       "  1671.41,1300.66 1691.74,1331.8 1712.06,1358.01 1732.39,1379.8 1752.72,1397.7 1773.04,1412.23 1793.37,1423.88 1813.7,1433.12 1834.02,1440.36 1854.35,1445.97 \n",
       "  1874.68,1450.26 1895.01,1453.52 1915.33,1455.95 1935.66,1457.76 1955.99,1459.08 1976.31,1460.04 1996.64,1460.72 2016.97,1461.21 2037.29,1461.55 2057.62,1461.78 \n",
       "  2077.95,1461.94 2098.27,1462.05 2118.6,1462.13 2138.93,1462.18 2159.25,1462.21 2179.58,1462.23 2199.91,1462.24 2220.24,1462.25 2240.56,1462.26 2260.89,1462.26 \n",
       "  \n",
       "  \"/>\n",
       "<polygon clip-path=\"url(#clip0901)\" points=\"\n",
       "1941.01,433.164 2249.26,433.164 2249.26,130.764 1941.01,130.764 \n",
       "  \" fill=\"#ffffff\" fill-rule=\"evenodd\" fill-opacity=\"1\"/>\n",
       "<polyline clip-path=\"url(#clip0901)\" style=\"stroke:#000000; stroke-width:4; stroke-opacity:1; fill:none\" points=\"\n",
       "  1941.01,433.164 2249.26,433.164 2249.26,130.764 1941.01,130.764 1941.01,433.164 \n",
       "  \"/>\n",
       "<polyline clip-path=\"url(#clip0901)\" style=\"stroke:#009af9; stroke-width:4; stroke-opacity:1; fill:none\" points=\"\n",
       "  1965.01,191.244 2109.01,191.244 \n",
       "  \"/>\n",
       "<g clip-path=\"url(#clip0901)\">\n",
       "<text style=\"fill:#000000; fill-opacity:1; font-family:Arial,Helvetica Neue,Helvetica,sans-serif; font-size:48px; text-anchor:start;\" transform=\"rotate(0, 2133.01, 208.744)\" x=\"2133.01\" y=\"208.744\">t=0</text>\n",
       "</g>\n",
       "<polyline clip-path=\"url(#clip0901)\" style=\"stroke:#e26f46; stroke-width:4; stroke-opacity:1; fill:none\" points=\"\n",
       "  1965.01,251.724 2109.01,251.724 \n",
       "  \"/>\n",
       "<g clip-path=\"url(#clip0901)\">\n",
       "<text style=\"fill:#000000; fill-opacity:1; font-family:Arial,Helvetica Neue,Helvetica,sans-serif; font-size:48px; text-anchor:start;\" transform=\"rotate(0, 2133.01, 269.224)\" x=\"2133.01\" y=\"269.224\">t</text>\n",
       "</g>\n",
       "<polyline clip-path=\"url(#clip0901)\" style=\"stroke:#3da44d; stroke-width:4; stroke-opacity:1; fill:none\" points=\"\n",
       "  1965.01,312.204 2109.01,312.204 \n",
       "  \"/>\n",
       "<g clip-path=\"url(#clip0901)\">\n",
       "<text style=\"fill:#000000; fill-opacity:1; font-family:Arial,Helvetica Neue,Helvetica,sans-serif; font-size:48px; text-anchor:start;\" transform=\"rotate(0, 2133.01, 329.704)\" x=\"2133.01\" y=\"329.704\">t</text>\n",
       "</g>\n",
       "<polyline clip-path=\"url(#clip0901)\" style=\"stroke:#c271d2; stroke-width:4; stroke-opacity:1; fill:none\" points=\"\n",
       "  1965.01,372.684 2109.01,372.684 \n",
       "  \"/>\n",
       "<g clip-path=\"url(#clip0901)\">\n",
       "<text style=\"fill:#000000; fill-opacity:1; font-family:Arial,Helvetica Neue,Helvetica,sans-serif; font-size:48px; text-anchor:start;\" transform=\"rotate(0, 2133.01, 390.184)\" x=\"2133.01\" y=\"390.184\">t</text>\n",
       "</g>\n",
       "</svg>\n"
      ]
     },
     "execution_count": 122,
     "metadata": {},
     "output_type": "execute_result"
    }
   ],
   "source": [
    "x0 = 0.5\n",
    "sigmax = 0.1\n",
    "p = 2.\n",
    "n = 100\n",
    "s0 = initialGaussian(n, x0, sigmax, p)\n",
    "xs = collect(range(0, stop=1, length=n))\n",
    "s1 = euler(rhsSchroedinger, 0.00001, s0)\n",
    "s1rk2 = RK2(rhsSchroedinger, 0.00001, s0)\n",
    "s1rk4 = RK4(rhsSchroedinger, 0.00001, s0)\n",
    "\n",
    "plot( xs, [abs(evaluate(s0.psi, x))^2 for x in xs] , label= \"t=0\")\n",
    "plot!(xs,  [abs(evaluate(s1.psi, x))^2 for x in xs] , label= \"t\")\n",
    "plot!(xs,  [abs(evaluate(s1rk2.psi, x))^2 for x in xs] , label= \"t\")\n",
    "plot!(xs,  [abs(evaluate(s1rk4.psi, x))^2 for x in xs] , label= \"t\")"
   ]
  },
  {
   "cell_type": "code",
   "execution_count": 123,
   "metadata": {},
   "outputs": [],
   "source": [
    "#solveSchrodinger(tmax::T, nlines::Int, lambda::T, x0::T, sigmax::T, p::T)\n",
    "x0 = 0.5\n",
    "sigmax = 0.1\n",
    "p = 2.\n",
    "n = 100\n",
    "T = .5\n",
    "lambda = 0.05  # 0.1 for RK4, 0.05 for RK2, 0.001 for Euler\n",
    "xs = collect(range(0, stop=1, length=n))\n",
    "sol = solveSchrodinger(T, n, lambda, x0, sigmax, p);"
   ]
  },
  {
   "cell_type": "code",
   "execution_count": 124,
   "metadata": {},
   "outputs": [
    {
     "data": {
      "image/svg+xml": [
       "<?xml version=\"1.0\" encoding=\"utf-8\"?>\n",
       "<svg xmlns=\"http://www.w3.org/2000/svg\" xmlns:xlink=\"http://www.w3.org/1999/xlink\" width=\"600\" height=\"400\" viewBox=\"0 0 2400 1600\">\n",
       "<defs>\n",
       "  <clipPath id=\"clip1100\">\n",
       "    <rect x=\"0\" y=\"0\" width=\"2000\" height=\"2000\"/>\n",
       "  </clipPath>\n",
       "</defs>\n",
       "<defs>\n",
       "  <clipPath id=\"clip1101\">\n",
       "    <rect x=\"0\" y=\"0\" width=\"2400\" height=\"1600\"/>\n",
       "  </clipPath>\n",
       "</defs>\n",
       "<polygon clip-path=\"url(#clip1101)\" points=\"\n",
       "0,1600 2400,1600 2400,0 0,0 \n",
       "  \" fill=\"#ffffff\" fill-rule=\"evenodd\" fill-opacity=\"1\"/>\n",
       "<defs>\n",
       "  <clipPath id=\"clip1102\">\n",
       "    <rect x=\"480\" y=\"0\" width=\"1681\" height=\"1600\"/>\n",
       "  </clipPath>\n",
       "</defs>\n",
       "<polygon clip-path=\"url(#clip1101)\" points=\"\n",
       "251.149,1440.48 2321.26,1440.48 2321.26,47.2441 251.149,47.2441 \n",
       "  \" fill=\"#ffffff\" fill-rule=\"evenodd\" fill-opacity=\"1\"/>\n",
       "<defs>\n",
       "  <clipPath id=\"clip1103\">\n",
       "    <rect x=\"251\" y=\"47\" width=\"2071\" height=\"1394\"/>\n",
       "  </clipPath>\n",
       "</defs>\n",
       "<polyline clip-path=\"url(#clip1103)\" style=\"stroke:#000000; stroke-width:2; stroke-opacity:0.1; fill:none\" points=\"\n",
       "  309.737,1440.48 309.737,47.2441 \n",
       "  \"/>\n",
       "<polyline clip-path=\"url(#clip1103)\" style=\"stroke:#000000; stroke-width:2; stroke-opacity:0.1; fill:none\" points=\"\n",
       "  797.97,1440.48 797.97,47.2441 \n",
       "  \"/>\n",
       "<polyline clip-path=\"url(#clip1103)\" style=\"stroke:#000000; stroke-width:2; stroke-opacity:0.1; fill:none\" points=\"\n",
       "  1286.2,1440.48 1286.2,47.2441 \n",
       "  \"/>\n",
       "<polyline clip-path=\"url(#clip1103)\" style=\"stroke:#000000; stroke-width:2; stroke-opacity:0.1; fill:none\" points=\"\n",
       "  1774.44,1440.48 1774.44,47.2441 \n",
       "  \"/>\n",
       "<polyline clip-path=\"url(#clip1103)\" style=\"stroke:#000000; stroke-width:2; stroke-opacity:0.1; fill:none\" points=\"\n",
       "  2262.67,1440.48 2262.67,47.2441 \n",
       "  \"/>\n",
       "<polyline clip-path=\"url(#clip1103)\" style=\"stroke:#000000; stroke-width:2; stroke-opacity:0.1; fill:none\" points=\"\n",
       "  251.149,1401.06 2321.26,1401.06 \n",
       "  \"/>\n",
       "<polyline clip-path=\"url(#clip1103)\" style=\"stroke:#000000; stroke-width:2; stroke-opacity:0.1; fill:none\" points=\"\n",
       "  251.149,1138.19 2321.26,1138.19 \n",
       "  \"/>\n",
       "<polyline clip-path=\"url(#clip1103)\" style=\"stroke:#000000; stroke-width:2; stroke-opacity:0.1; fill:none\" points=\"\n",
       "  251.149,875.317 2321.26,875.317 \n",
       "  \"/>\n",
       "<polyline clip-path=\"url(#clip1103)\" style=\"stroke:#000000; stroke-width:2; stroke-opacity:0.1; fill:none\" points=\"\n",
       "  251.149,612.447 2321.26,612.447 \n",
       "  \"/>\n",
       "<polyline clip-path=\"url(#clip1103)\" style=\"stroke:#000000; stroke-width:2; stroke-opacity:0.1; fill:none\" points=\"\n",
       "  251.149,349.577 2321.26,349.577 \n",
       "  \"/>\n",
       "<polyline clip-path=\"url(#clip1103)\" style=\"stroke:#000000; stroke-width:2; stroke-opacity:0.1; fill:none\" points=\"\n",
       "  251.149,86.7071 2321.26,86.7071 \n",
       "  \"/>\n",
       "<polyline clip-path=\"url(#clip1101)\" style=\"stroke:#000000; stroke-width:4; stroke-opacity:1; fill:none\" points=\"\n",
       "  251.149,1440.48 2321.26,1440.48 \n",
       "  \"/>\n",
       "<polyline clip-path=\"url(#clip1101)\" style=\"stroke:#000000; stroke-width:4; stroke-opacity:1; fill:none\" points=\"\n",
       "  251.149,1440.48 251.149,47.2441 \n",
       "  \"/>\n",
       "<polyline clip-path=\"url(#clip1101)\" style=\"stroke:#000000; stroke-width:4; stroke-opacity:1; fill:none\" points=\"\n",
       "  309.737,1440.48 309.737,1419.58 \n",
       "  \"/>\n",
       "<polyline clip-path=\"url(#clip1101)\" style=\"stroke:#000000; stroke-width:4; stroke-opacity:1; fill:none\" points=\"\n",
       "  797.97,1440.48 797.97,1419.58 \n",
       "  \"/>\n",
       "<polyline clip-path=\"url(#clip1101)\" style=\"stroke:#000000; stroke-width:4; stroke-opacity:1; fill:none\" points=\"\n",
       "  1286.2,1440.48 1286.2,1419.58 \n",
       "  \"/>\n",
       "<polyline clip-path=\"url(#clip1101)\" style=\"stroke:#000000; stroke-width:4; stroke-opacity:1; fill:none\" points=\"\n",
       "  1774.44,1440.48 1774.44,1419.58 \n",
       "  \"/>\n",
       "<polyline clip-path=\"url(#clip1101)\" style=\"stroke:#000000; stroke-width:4; stroke-opacity:1; fill:none\" points=\"\n",
       "  2262.67,1440.48 2262.67,1419.58 \n",
       "  \"/>\n",
       "<polyline clip-path=\"url(#clip1101)\" style=\"stroke:#000000; stroke-width:4; stroke-opacity:1; fill:none\" points=\"\n",
       "  251.149,1401.06 282.2,1401.06 \n",
       "  \"/>\n",
       "<polyline clip-path=\"url(#clip1101)\" style=\"stroke:#000000; stroke-width:4; stroke-opacity:1; fill:none\" points=\"\n",
       "  251.149,1138.19 282.2,1138.19 \n",
       "  \"/>\n",
       "<polyline clip-path=\"url(#clip1101)\" style=\"stroke:#000000; stroke-width:4; stroke-opacity:1; fill:none\" points=\"\n",
       "  251.149,875.317 282.2,875.317 \n",
       "  \"/>\n",
       "<polyline clip-path=\"url(#clip1101)\" style=\"stroke:#000000; stroke-width:4; stroke-opacity:1; fill:none\" points=\"\n",
       "  251.149,612.447 282.2,612.447 \n",
       "  \"/>\n",
       "<polyline clip-path=\"url(#clip1101)\" style=\"stroke:#000000; stroke-width:4; stroke-opacity:1; fill:none\" points=\"\n",
       "  251.149,349.577 282.2,349.577 \n",
       "  \"/>\n",
       "<polyline clip-path=\"url(#clip1101)\" style=\"stroke:#000000; stroke-width:4; stroke-opacity:1; fill:none\" points=\"\n",
       "  251.149,86.7071 282.2,86.7071 \n",
       "  \"/>\n",
       "<g clip-path=\"url(#clip1101)\">\n",
       "<text style=\"fill:#000000; fill-opacity:1; font-family:Arial,Helvetica Neue,Helvetica,sans-serif; font-size:48px; text-anchor:middle;\" transform=\"rotate(0, 309.737, 1494.48)\" x=\"309.737\" y=\"1494.48\">0.00</text>\n",
       "</g>\n",
       "<g clip-path=\"url(#clip1101)\">\n",
       "<text style=\"fill:#000000; fill-opacity:1; font-family:Arial,Helvetica Neue,Helvetica,sans-serif; font-size:48px; text-anchor:middle;\" transform=\"rotate(0, 797.97, 1494.48)\" x=\"797.97\" y=\"1494.48\">0.25</text>\n",
       "</g>\n",
       "<g clip-path=\"url(#clip1101)\">\n",
       "<text style=\"fill:#000000; fill-opacity:1; font-family:Arial,Helvetica Neue,Helvetica,sans-serif; font-size:48px; text-anchor:middle;\" transform=\"rotate(0, 1286.2, 1494.48)\" x=\"1286.2\" y=\"1494.48\">0.50</text>\n",
       "</g>\n",
       "<g clip-path=\"url(#clip1101)\">\n",
       "<text style=\"fill:#000000; fill-opacity:1; font-family:Arial,Helvetica Neue,Helvetica,sans-serif; font-size:48px; text-anchor:middle;\" transform=\"rotate(0, 1774.44, 1494.48)\" x=\"1774.44\" y=\"1494.48\">0.75</text>\n",
       "</g>\n",
       "<g clip-path=\"url(#clip1101)\">\n",
       "<text style=\"fill:#000000; fill-opacity:1; font-family:Arial,Helvetica Neue,Helvetica,sans-serif; font-size:48px; text-anchor:middle;\" transform=\"rotate(0, 2262.67, 1494.48)\" x=\"2262.67\" y=\"1494.48\">1.00</text>\n",
       "</g>\n",
       "<g clip-path=\"url(#clip1101)\">\n",
       "<text style=\"fill:#000000; fill-opacity:1; font-family:Arial,Helvetica Neue,Helvetica,sans-serif; font-size:48px; text-anchor:end;\" transform=\"rotate(0, 227.149, 1418.56)\" x=\"227.149\" y=\"1418.56\">0.00</text>\n",
       "</g>\n",
       "<g clip-path=\"url(#clip1101)\">\n",
       "<text style=\"fill:#000000; fill-opacity:1; font-family:Arial,Helvetica Neue,Helvetica,sans-serif; font-size:48px; text-anchor:end;\" transform=\"rotate(0, 227.149, 1155.69)\" x=\"227.149\" y=\"1155.69\">0.05</text>\n",
       "</g>\n",
       "<g clip-path=\"url(#clip1101)\">\n",
       "<text style=\"fill:#000000; fill-opacity:1; font-family:Arial,Helvetica Neue,Helvetica,sans-serif; font-size:48px; text-anchor:end;\" transform=\"rotate(0, 227.149, 892.817)\" x=\"227.149\" y=\"892.817\">0.10</text>\n",
       "</g>\n",
       "<g clip-path=\"url(#clip1101)\">\n",
       "<text style=\"fill:#000000; fill-opacity:1; font-family:Arial,Helvetica Neue,Helvetica,sans-serif; font-size:48px; text-anchor:end;\" transform=\"rotate(0, 227.149, 629.947)\" x=\"227.149\" y=\"629.947\">0.15</text>\n",
       "</g>\n",
       "<g clip-path=\"url(#clip1101)\">\n",
       "<text style=\"fill:#000000; fill-opacity:1; font-family:Arial,Helvetica Neue,Helvetica,sans-serif; font-size:48px; text-anchor:end;\" transform=\"rotate(0, 227.149, 367.077)\" x=\"227.149\" y=\"367.077\">0.20</text>\n",
       "</g>\n",
       "<g clip-path=\"url(#clip1101)\">\n",
       "<text style=\"fill:#000000; fill-opacity:1; font-family:Arial,Helvetica Neue,Helvetica,sans-serif; font-size:48px; text-anchor:end;\" transform=\"rotate(0, 227.149, 104.207)\" x=\"227.149\" y=\"104.207\">0.25</text>\n",
       "</g>\n",
       "<g clip-path=\"url(#clip1101)\">\n",
       "<text style=\"fill:#000000; fill-opacity:1; font-family:Arial,Helvetica Neue,Helvetica,sans-serif; font-size:66px; text-anchor:middle;\" transform=\"rotate(0, 1286.2, 1590.4)\" x=\"1286.2\" y=\"1590.4\">x</text>\n",
       "</g>\n",
       "<g clip-path=\"url(#clip1101)\">\n",
       "<text style=\"fill:#000000; fill-opacity:1; font-family:Arial,Helvetica Neue,Helvetica,sans-serif; font-size:66px; text-anchor:middle;\" transform=\"rotate(-90, 57.6, 743.863)\" x=\"57.6\" y=\"743.863\">p(x)</text>\n",
       "</g>\n",
       "<polyline clip-path=\"url(#clip1103)\" style=\"stroke:#009af9; stroke-width:4; stroke-opacity:1; fill:none\" points=\"\n",
       "  309.737,1401.05 329.463,1401.05 349.19,1401.04 368.916,1401.03 388.643,1401.02 408.37,1401 428.096,1400.97 447.823,1400.92 467.55,1400.85 487.276,1400.75 \n",
       "  507.003,1400.59 526.729,1400.37 546.456,1400.04 566.183,1399.58 585.909,1398.92 605.636,1398.01 625.362,1396.74 645.089,1395.02 664.816,1392.69 684.542,1389.57 \n",
       "  704.269,1385.46 723.996,1380.1 743.722,1373.17 763.449,1364.33 783.175,1353.18 802.902,1339.29 822.629,1322.16 842.355,1301.32 862.082,1276.24 881.808,1246.44 \n",
       "  901.535,1211.48 921.262,1170.97 940.988,1124.64 960.715,1072.35 980.442,1014.12 1000.17,950.211 1019.89,881.07 1039.62,807.409 1059.35,730.186 1079.07,650.607 \n",
       "  1098.8,570.101 1118.53,490.288 1138.25,412.932 1157.98,339.875 1177.71,272.971 1197.43,214.007 1217.16,164.626 1236.89,126.246 1256.61,100 1276.34,86.6754 \n",
       "  1296.07,86.6754 1315.79,100 1335.52,126.246 1355.25,164.626 1374.97,214.007 1394.7,272.971 1414.43,339.875 1434.15,412.932 1453.88,490.288 1473.61,570.101 \n",
       "  1493.33,650.607 1513.06,730.186 1532.79,807.409 1552.51,881.07 1572.24,950.211 1591.97,1014.12 1611.69,1072.35 1631.42,1124.64 1651.15,1170.97 1670.87,1211.48 \n",
       "  1690.6,1246.44 1710.33,1276.24 1730.05,1301.32 1749.78,1322.16 1769.51,1339.29 1789.23,1353.18 1808.96,1364.33 1828.69,1373.17 1848.41,1380.1 1868.14,1385.46 \n",
       "  1887.87,1389.57 1907.59,1392.69 1927.32,1395.02 1947.05,1396.74 1966.77,1398.01 1986.5,1398.92 2006.23,1399.58 2025.95,1400.04 2045.68,1400.37 2065.41,1400.59 \n",
       "  2085.13,1400.75 2104.86,1400.85 2124.59,1400.92 2144.31,1400.97 2164.04,1401 2183.77,1401.02 2203.49,1401.03 2223.22,1401.04 2242.95,1401.05 2262.67,1401.05 \n",
       "  \n",
       "  \"/>\n",
       "<polyline clip-path=\"url(#clip1103)\" style=\"stroke:#e26f46; stroke-width:4; stroke-opacity:1; fill:none\" points=\"\n",
       "  309.737,1401.05 329.463,1400.87 349.19,1400.24 368.916,1399.18 388.643,1397.72 408.37,1395.89 428.096,1393.74 447.823,1391.3 467.55,1388.59 487.276,1385.62 \n",
       "  507.003,1382.4 526.729,1378.89 546.456,1375.06 566.183,1370.85 585.909,1366.17 605.636,1360.95 625.362,1355.09 645.089,1348.46 664.816,1340.97 684.542,1332.47 \n",
       "  704.269,1322.87 723.996,1312.06 743.722,1299.96 763.449,1286.5 783.175,1271.61 802.902,1255.26 822.629,1237.42 842.355,1218.09 862.082,1197.29 881.808,1175.02 \n",
       "  901.535,1151.32 921.262,1126.26 940.988,1099.92 960.715,1072.38 980.442,1043.77 1000.17,1014.2 1019.89,983.845 1039.62,952.899 1059.35,921.577 1079.07,890.102 \n",
       "  1098.8,858.71 1118.53,827.648 1138.25,797.19 1157.98,767.621 1177.71,739.202 1197.43,712.206 1217.16,686.951 1236.89,663.75 1256.61,642.86 1276.34,624.505 \n",
       "  1296.07,608.922 1315.79,596.305 1335.52,586.762 1355.25,580.363 1374.97,577.187 1394.7,577.293 1414.43,580.658 1434.15,587.222 1453.88,596.929 1473.61,609.683 \n",
       "  1493.33,625.324 1513.06,643.658 1532.79,664.486 1552.51,687.608 1572.24,712.825 1591.97,739.936 1611.69,768.707 1631.42,798.91 1651.15,830.315 1670.87,862.652 \n",
       "  1690.6,895.602 1710.33,928.818 1730.05,961.925 1749.78,994.545 1769.51,1026.3 1789.23,1056.81 1808.96,1085.7 1828.69,1112.68 1848.41,1137.5 1868.14,1160.03 \n",
       "  1887.87,1180.25 1907.59,1198.22 1927.32,1214.13 1947.05,1228.29 1966.77,1241.11 1986.5,1253.01 2006.23,1264.46 2025.95,1275.86 2045.68,1287.56 2065.41,1299.79 \n",
       "  2085.13,1312.63 2104.86,1325.99 2124.59,1339.62 2144.31,1353.1 2164.04,1365.92 2183.77,1377.5 2203.49,1387.28 2223.22,1394.71 2242.95,1399.4 2262.67,1401.05 \n",
       "  \n",
       "  \"/>\n",
       "<polyline clip-path=\"url(#clip1103)\" style=\"stroke:#000000; stroke-width:4; stroke-opacity:1; fill:none\" stroke-dasharray=\"16, 10\" points=\"\n",
       "  1383.85,140764 1383.85,-139277 \n",
       "  \"/>\n",
       "<polygon clip-path=\"url(#clip1101)\" points=\"\n",
       "1938.36,372.684 2249.26,372.684 2249.26,130.764 1938.36,130.764 \n",
       "  \" fill=\"#ffffff\" fill-rule=\"evenodd\" fill-opacity=\"1\"/>\n",
       "<polyline clip-path=\"url(#clip1101)\" style=\"stroke:#000000; stroke-width:4; stroke-opacity:1; fill:none\" points=\"\n",
       "  1938.36,372.684 2249.26,372.684 2249.26,130.764 1938.36,130.764 1938.36,372.684 \n",
       "  \"/>\n",
       "<polyline clip-path=\"url(#clip1101)\" style=\"stroke:#009af9; stroke-width:4; stroke-opacity:1; fill:none\" points=\"\n",
       "  1962.36,191.244 2106.36,191.244 \n",
       "  \"/>\n",
       "<g clip-path=\"url(#clip1101)\">\n",
       "<text style=\"fill:#000000; fill-opacity:1; font-family:Arial,Helvetica Neue,Helvetica,sans-serif; font-size:48px; text-anchor:start;\" transform=\"rotate(0, 2130.36, 208.744)\" x=\"2130.36\" y=\"208.744\">t=0</text>\n",
       "</g>\n",
       "<polyline clip-path=\"url(#clip1101)\" style=\"stroke:#e26f46; stroke-width:4; stroke-opacity:1; fill:none\" points=\"\n",
       "  1962.36,251.724 2106.36,251.724 \n",
       "  \"/>\n",
       "<g clip-path=\"url(#clip1101)\">\n",
       "<text style=\"fill:#000000; fill-opacity:1; font-family:Arial,Helvetica Neue,Helvetica,sans-serif; font-size:48px; text-anchor:start;\" transform=\"rotate(0, 2130.36, 269.224)\" x=\"2130.36\" y=\"269.224\">t=T</text>\n",
       "</g>\n",
       "<polyline clip-path=\"url(#clip1101)\" style=\"stroke:#000000; stroke-width:4; stroke-opacity:1; fill:none\" stroke-dasharray=\"16, 10\" points=\"\n",
       "  1962.36,312.204 2106.36,312.204 \n",
       "  \"/>\n",
       "<g clip-path=\"url(#clip1101)\">\n",
       "<text style=\"fill:#000000; fill-opacity:1; font-family:Arial,Helvetica Neue,Helvetica,sans-serif; font-size:48px; text-anchor:start;\" transform=\"rotate(0, 2130.36, 329.704)\" x=\"2130.36\" y=\"329.704\">y3</text>\n",
       "</g>\n",
       "</svg>\n"
      ]
     },
     "execution_count": 124,
     "metadata": {},
     "output_type": "execute_result"
    }
   ],
   "source": [
    "plot(xs, [abs(evaluate(sol.states[1].psi, x))^2 for x in xs], label = \"t=0\", xlabel = \"x\", ylabel = \"p(x)\")\n",
    "\n",
    "#for i in 2:500:length(sol.states)\n",
    "#    plot!(xs, [abs(evaluate(sol.states[i].psi, x))^2 for x in xs])\n",
    "#end\n",
    "#plot!()\n",
    "plot!(xs, [abs(evaluate(sol.states[end].psi, x))^2 for x in xs], label = \"t=T\")\n",
    "plot!([x0 + p / m * T * hbar], seriestype = :vline, linestyle = :dash, linecolor= :black)"
   ]
  },
  {
   "cell_type": "markdown",
   "metadata": {},
   "source": [
    "An animation of the solution. The dashed line indicates the classical evolution of a particle starting at $x_0$ with momentum $p \\hbar$"
   ]
  },
  {
   "cell_type": "code",
   "execution_count": 48,
   "metadata": {
    "collapsed": true
   },
   "outputs": [
    {
     "name": "stderr",
     "output_type": "stream",
     "text": [
      "┌ Info: Saved animation to \n",
      "│   fn = /Users/laurasberna/JuliaProjects/DifferentialEquationsModule.jl/SchrodingerEq.jl/tmp.gif\n",
      "└ @ Plots /Users/laurasberna/.julia/packages/Plots/rmogG/src/animation.jl:90\n"
     ]
    },
    {
     "data": {
      "text/html": [
       "<img src=\"tmp.gif?0.5917616197544571>\" />"
      ],
      "text/plain": [
       "Plots.AnimatedGif(\"/Users/laurasberna/JuliaProjects/DifferentialEquationsModule.jl/SchrodingerEq.jl/tmp.gif\")"
      ]
     },
     "execution_count": 48,
     "metadata": {},
     "output_type": "execute_result"
    }
   ],
   "source": [
    "@gif for i=1:length(sol.states)\n",
    "    plot(xs, [abs(evaluate(sol.states[i].psi, x))^2 for x in xs], xlabel = \"x\", ylabel = \"p(x)\", legend = :false, \n",
    "    xlim = (0,1), ylim = (0,1))\n",
    "    plot!([x0 + p / m * (lambda / n * i) * hbar], seriestype = :vline, linestyle = :dash, \n",
    "        linecolor= :black, linealpha= 0.8)\n",
    "end every 10"
   ]
  },
  {
   "cell_type": "markdown",
   "metadata": {},
   "source": [
    "### Convergence tests"
   ]
  },
  {
   "cell_type": "markdown",
   "metadata": {},
   "source": [
    "## Barrier in a box"
   ]
  },
  {
   "cell_type": "markdown",
   "metadata": {},
   "source": [
    "### Convergence tests"
   ]
  },
  {
   "cell_type": "markdown",
   "metadata": {},
   "source": [
    "## Comparison with Suzuki-Trotter solver"
   ]
  },
  {
   "cell_type": "code",
   "execution_count": null,
   "metadata": {},
   "outputs": [],
   "source": []
  }
 ],
 "metadata": {
  "kernelspec": {
   "display_name": "Julia 1.0.0",
   "language": "julia",
   "name": "julia-1.0"
  },
  "language_info": {
   "file_extension": ".jl",
   "mimetype": "application/julia",
   "name": "julia",
   "version": "1.0.0"
  }
 },
 "nbformat": 4,
 "nbformat_minor": 2
}
