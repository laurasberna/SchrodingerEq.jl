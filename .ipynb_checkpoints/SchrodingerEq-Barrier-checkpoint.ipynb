{
 "cells": [
  {
   "cell_type": "markdown",
   "metadata": {},
   "source": [
    "# SchrodingerEq.jl\n",
    "\n",
    "A project for the Computational Physics UW course (module III), by Laura Sberna."
   ]
  },
  {
   "cell_type": "markdown",
   "metadata": {},
   "source": [
    "We upload the necessary packages and set some parameters:"
   ]
  },
  {
   "cell_type": "code",
   "execution_count": 1,
   "metadata": {},
   "outputs": [],
   "source": [
    "using LinearAlgebra\n",
    "using Plots"
   ]
  },
  {
   "cell_type": "code",
   "execution_count": 2,
   "metadata": {},
   "outputs": [
    {
     "data": {
      "text/plain": [
       "0.0"
      ]
     },
     "execution_count": 2,
     "metadata": {},
     "output_type": "execute_result"
    }
   ],
   "source": [
    "m = 16.\n",
    "hbar = 1.\n",
    "t0 = 0."
   ]
  },
  {
   "cell_type": "markdown",
   "metadata": {},
   "source": [
    "## PLC Functions\n",
    "\n",
    "I use the Piecewise Linear Continuous functions discussed in lecture (numer, link to github). "
   ]
  },
  {
   "cell_type": "code",
   "execution_count": 3,
   "metadata": {},
   "outputs": [],
   "source": [
    "struct PLCFun{T,U}\n",
    "    points::Vector{U}\n",
    "end"
   ]
  },
  {
   "cell_type": "code",
   "execution_count": 4,
   "metadata": {},
   "outputs": [],
   "source": [
    "function Base. *(a::U, f::PLCFun{T,U})::PLCFun{T,U} where {T,U}\n",
    " PLCFun{T,U}(a .* f.points)\n",
    "end\n",
    "\n",
    "function Base. +(g::PLCFun{T,U}, f::PLCFun{T,U})::PLCFun{T,U} where {T,U}\n",
    "    @assert length(f.points) == length(g.points) ## gives error message if not satisfied\n",
    " PLCFun{T,U}(g.points .+ f.points)\n",
    "end"
   ]
  },
  {
   "cell_type": "code",
   "execution_count": 5,
   "metadata": {},
   "outputs": [
    {
     "data": {
      "text/plain": [
       "xcoord (generic function with 1 method)"
      ]
     },
     "execution_count": 5,
     "metadata": {},
     "output_type": "execute_result"
    }
   ],
   "source": [
    "function xcoord(::Type{T}, nlines::Int, i::Int)::T where {T,U}\n",
    "    dx = 1 / nlines\n",
    "    @assert 1 <= i <= nlines+1\n",
    "    x = (i-1) * dx\n",
    "    x\n",
    "end"
   ]
  },
  {
   "cell_type": "code",
   "execution_count": 6,
   "metadata": {},
   "outputs": [
    {
     "data": {
      "text/plain": [
       "lineindex (generic function with 1 method)"
      ]
     },
     "execution_count": 6,
     "metadata": {},
     "output_type": "execute_result"
    }
   ],
   "source": [
    "function lineindex(f::PLCFun{T,U}, x::T)::Int where {T,U}\n",
    "    @assert 0 <= x <= 1\n",
    "    nlines=length(f.points)-1\n",
    "    dx = 1 / nlines\n",
    "    i = floor(Int, x / dx) + 1\n",
    "    i = max(1,i)\n",
    "    i = min(nlines, i)\n",
    "    i\n",
    "end"
   ]
  },
  {
   "cell_type": "code",
   "execution_count": 7,
   "metadata": {},
   "outputs": [
    {
     "data": {
      "text/plain": [
       "samplePLC (generic function with 1 method)"
      ]
     },
     "execution_count": 7,
     "metadata": {},
     "output_type": "execute_result"
    }
   ],
   "source": [
    "function samplePLC(::Type{T}, ::Type{U}, nlines::Int, f::Function)::PLCFun{T,U} where {T,U}\n",
    "    ys = U[f(xcoord(T, nlines, i)) for i in 1:nlines+1]\n",
    "    PLCFun{T,U}(ys)\n",
    "end"
   ]
  },
  {
   "cell_type": "code",
   "execution_count": 8,
   "metadata": {},
   "outputs": [
    {
     "data": {
      "text/plain": [
       "linterp (generic function with 1 method)"
      ]
     },
     "execution_count": 8,
     "metadata": {},
     "output_type": "execute_result"
    }
   ],
   "source": [
    "function linterp(x1::T, y1::U, x2::T, y2::U, x::T)::U where {T,U}\n",
    "    y1 * (x - x2) / (x1 - x2) + y2 * (x - x1) / (x2 - x1)\n",
    "end"
   ]
  },
  {
   "cell_type": "code",
   "execution_count": 9,
   "metadata": {},
   "outputs": [
    {
     "data": {
      "text/plain": [
       "evaluate (generic function with 1 method)"
      ]
     },
     "execution_count": 9,
     "metadata": {},
     "output_type": "execute_result"
    }
   ],
   "source": [
    "function evaluate(f::PLCFun{T,U}, x::T)::U where {T,U}\n",
    "    @assert 0 <= x <= 1\n",
    "    nlines=length(f.points)-1\n",
    "    i = lineindex(f, x)\n",
    "    x1=xcoord(T, nlines, i)\n",
    "    x2=xcoord(T, nlines, i+1)\n",
    "    y1=f.points[i]\n",
    "    y2=f.points[i+1]\n",
    "    y = linterp(x1, y1, x2, y2, x)\n",
    "    y\n",
    "end"
   ]
  },
  {
   "cell_type": "markdown",
   "metadata": {},
   "source": [
    "The second order central finite diferrence scheme for the second order derivative is obtained as follows. We write the Taylor expansions\n",
    "\\begin{align}\n",
    "f(x_{j-1})&=f(x_j)-\\Delta x f'(x_j) + \\frac{\\Delta x^2}{2} f''(x_j) + O(\\Delta x ^3)\\\\ \n",
    "f(x_{j})&=f(x_j) \\\\\n",
    "f(x_{j+1})&=f(x_j)+\\Delta x f'(x_j) + \\frac{\\Delta x^2}{2} f''(x_j) + O(\\Delta x ^3) \\\\ \n",
    "\\end{align}\n",
    "from which\n",
    "\\begin{equation}\n",
    "f''(x_j) = \\frac{f(x_{j+1}) -2f(x_{j}) + f(x_{j-1})}{\\Delta x^2} + O(\\Delta x ^3) \n",
    "\\end{equation}\n",
    "We also put the system in a box: at the endpoints, we use the left or right scheme and set $f(boundary)=0$:\n",
    "\\begin{align}\n",
    "f''(x_j) &= \\frac{ f(x_{j+2})-2 f(x_{j+1}) }{\\Delta x^2} + O(\\Delta x ^3)  \\ \\ \\ (left \\ boundary) \\\\\n",
    "f''(x_j) &= \\frac{f(x_{j-2})-2 f(x_{j-1}) }{\\Delta x^2} + O(\\Delta x ^3)  \\ \\ \\ (right \\  boundary)\n",
    "\\end{align}"
   ]
  },
  {
   "cell_type": "code",
   "execution_count": 10,
   "metadata": {},
   "outputs": [
    {
     "data": {
      "text/plain": [
       "derivSecondCenter (generic function with 1 method)"
      ]
     },
     "execution_count": 10,
     "metadata": {},
     "output_type": "execute_result"
    }
   ],
   "source": [
    "function derivSecondCenter(f::PLCFun{T,U})::PLCFun{T,U} where {T,U} \n",
    "    nlines=length(f.points)-1\n",
    "    dx = 1 / nlines\n",
    "    ys=U[(f.points[3] - 2*f.points[2] + f.points[1]) /(dx^2) ;[(f.points[i+1] - 2*f.points[i] + f.points[i-1]) /(dx^2) for i in 2:nlines]; (f.points[end-2] - 2*f.points[end-1] + f.points[end]) /(dx^2)]\n",
    "    PLCFun{T,U}(ys)\n",
    "end"
   ]
  },
  {
   "cell_type": "code",
   "execution_count": 11,
   "metadata": {},
   "outputs": [
    {
     "data": {
      "text/plain": [
       "(0.8658783625071171, 0.32716319804950605)"
      ]
     },
     "execution_count": 11,
     "metadata": {},
     "output_type": "execute_result"
    }
   ],
   "source": [
    "fsin = samplePLC(Float64, Float64, 100, sinpi) # test\n",
    "evaluate(fsin, 0.3333), sin(0.3333)"
   ]
  },
  {
   "cell_type": "code",
   "execution_count": 12,
   "metadata": {},
   "outputs": [
    {
     "data": {
      "image/svg+xml": [
       "<?xml version=\"1.0\" encoding=\"utf-8\"?>\n",
       "<svg xmlns=\"http://www.w3.org/2000/svg\" xmlns:xlink=\"http://www.w3.org/1999/xlink\" width=\"600\" height=\"400\" viewBox=\"0 0 2400 1600\">\n",
       "<defs>\n",
       "  <clipPath id=\"clip4100\">\n",
       "    <rect x=\"0\" y=\"0\" width=\"2000\" height=\"2000\"/>\n",
       "  </clipPath>\n",
       "</defs>\n",
       "<defs>\n",
       "  <clipPath id=\"clip4101\">\n",
       "    <rect x=\"0\" y=\"0\" width=\"2400\" height=\"1600\"/>\n",
       "  </clipPath>\n",
       "</defs>\n",
       "<polygon clip-path=\"url(#clip4101)\" points=\"\n",
       "0,1600 2400,1600 2400,0 0,0 \n",
       "  \" fill=\"#ffffff\" fill-rule=\"evenodd\" fill-opacity=\"1\"/>\n",
       "<defs>\n",
       "  <clipPath id=\"clip4102\">\n",
       "    <rect x=\"480\" y=\"0\" width=\"1681\" height=\"1600\"/>\n",
       "  </clipPath>\n",
       "</defs>\n",
       "<polygon clip-path=\"url(#clip4101)\" points=\"\n",
       "188.156,1503.47 2321.26,1503.47 2321.26,47.2441 188.156,47.2441 \n",
       "  \" fill=\"#ffffff\" fill-rule=\"evenodd\" fill-opacity=\"1\"/>\n",
       "<defs>\n",
       "  <clipPath id=\"clip4103\">\n",
       "    <rect x=\"188\" y=\"47\" width=\"2134\" height=\"1457\"/>\n",
       "  </clipPath>\n",
       "</defs>\n",
       "<polyline clip-path=\"url(#clip4103)\" style=\"stroke:#000000; stroke-width:2; stroke-opacity:0.1; fill:none\" points=\"\n",
       "  248.527,1503.47 248.527,47.2441 \n",
       "  \"/>\n",
       "<polyline clip-path=\"url(#clip4103)\" style=\"stroke:#000000; stroke-width:2; stroke-opacity:0.1; fill:none\" points=\"\n",
       "  751.618,1503.47 751.618,47.2441 \n",
       "  \"/>\n",
       "<polyline clip-path=\"url(#clip4103)\" style=\"stroke:#000000; stroke-width:2; stroke-opacity:0.1; fill:none\" points=\"\n",
       "  1254.71,1503.47 1254.71,47.2441 \n",
       "  \"/>\n",
       "<polyline clip-path=\"url(#clip4103)\" style=\"stroke:#000000; stroke-width:2; stroke-opacity:0.1; fill:none\" points=\"\n",
       "  1757.8,1503.47 1757.8,47.2441 \n",
       "  \"/>\n",
       "<polyline clip-path=\"url(#clip4103)\" style=\"stroke:#000000; stroke-width:2; stroke-opacity:0.1; fill:none\" points=\"\n",
       "  2260.89,1503.47 2260.89,47.2441 \n",
       "  \"/>\n",
       "<polyline clip-path=\"url(#clip4103)\" style=\"stroke:#000000; stroke-width:2; stroke-opacity:0.1; fill:none\" points=\"\n",
       "  188.156,1462.26 2321.26,1462.26 \n",
       "  \"/>\n",
       "<polyline clip-path=\"url(#clip4103)\" style=\"stroke:#000000; stroke-width:2; stroke-opacity:0.1; fill:none\" points=\"\n",
       "  188.156,1118.77 2321.26,1118.77 \n",
       "  \"/>\n",
       "<polyline clip-path=\"url(#clip4103)\" style=\"stroke:#000000; stroke-width:2; stroke-opacity:0.1; fill:none\" points=\"\n",
       "  188.156,775.273 2321.26,775.273 \n",
       "  \"/>\n",
       "<polyline clip-path=\"url(#clip4103)\" style=\"stroke:#000000; stroke-width:2; stroke-opacity:0.1; fill:none\" points=\"\n",
       "  188.156,431.779 2321.26,431.779 \n",
       "  \"/>\n",
       "<polyline clip-path=\"url(#clip4103)\" style=\"stroke:#000000; stroke-width:2; stroke-opacity:0.1; fill:none\" points=\"\n",
       "  188.156,88.2852 2321.26,88.2852 \n",
       "  \"/>\n",
       "<polyline clip-path=\"url(#clip4101)\" style=\"stroke:#000000; stroke-width:4; stroke-opacity:1; fill:none\" points=\"\n",
       "  188.156,1503.47 2321.26,1503.47 \n",
       "  \"/>\n",
       "<polyline clip-path=\"url(#clip4101)\" style=\"stroke:#000000; stroke-width:4; stroke-opacity:1; fill:none\" points=\"\n",
       "  188.156,1503.47 188.156,47.2441 \n",
       "  \"/>\n",
       "<polyline clip-path=\"url(#clip4101)\" style=\"stroke:#000000; stroke-width:4; stroke-opacity:1; fill:none\" points=\"\n",
       "  248.527,1503.47 248.527,1481.63 \n",
       "  \"/>\n",
       "<polyline clip-path=\"url(#clip4101)\" style=\"stroke:#000000; stroke-width:4; stroke-opacity:1; fill:none\" points=\"\n",
       "  751.618,1503.47 751.618,1481.63 \n",
       "  \"/>\n",
       "<polyline clip-path=\"url(#clip4101)\" style=\"stroke:#000000; stroke-width:4; stroke-opacity:1; fill:none\" points=\"\n",
       "  1254.71,1503.47 1254.71,1481.63 \n",
       "  \"/>\n",
       "<polyline clip-path=\"url(#clip4101)\" style=\"stroke:#000000; stroke-width:4; stroke-opacity:1; fill:none\" points=\"\n",
       "  1757.8,1503.47 1757.8,1481.63 \n",
       "  \"/>\n",
       "<polyline clip-path=\"url(#clip4101)\" style=\"stroke:#000000; stroke-width:4; stroke-opacity:1; fill:none\" points=\"\n",
       "  2260.89,1503.47 2260.89,1481.63 \n",
       "  \"/>\n",
       "<polyline clip-path=\"url(#clip4101)\" style=\"stroke:#000000; stroke-width:4; stroke-opacity:1; fill:none\" points=\"\n",
       "  188.156,1462.26 220.153,1462.26 \n",
       "  \"/>\n",
       "<polyline clip-path=\"url(#clip4101)\" style=\"stroke:#000000; stroke-width:4; stroke-opacity:1; fill:none\" points=\"\n",
       "  188.156,1118.77 220.153,1118.77 \n",
       "  \"/>\n",
       "<polyline clip-path=\"url(#clip4101)\" style=\"stroke:#000000; stroke-width:4; stroke-opacity:1; fill:none\" points=\"\n",
       "  188.156,775.273 220.153,775.273 \n",
       "  \"/>\n",
       "<polyline clip-path=\"url(#clip4101)\" style=\"stroke:#000000; stroke-width:4; stroke-opacity:1; fill:none\" points=\"\n",
       "  188.156,431.779 220.153,431.779 \n",
       "  \"/>\n",
       "<polyline clip-path=\"url(#clip4101)\" style=\"stroke:#000000; stroke-width:4; stroke-opacity:1; fill:none\" points=\"\n",
       "  188.156,88.2852 220.153,88.2852 \n",
       "  \"/>\n",
       "<g clip-path=\"url(#clip4101)\">\n",
       "<text style=\"fill:#000000; fill-opacity:1; font-family:Arial,Helvetica Neue,Helvetica,sans-serif; font-size:48px; text-anchor:middle;\" transform=\"rotate(0, 248.527, 1557.47)\" x=\"248.527\" y=\"1557.47\">0.00</text>\n",
       "</g>\n",
       "<g clip-path=\"url(#clip4101)\">\n",
       "<text style=\"fill:#000000; fill-opacity:1; font-family:Arial,Helvetica Neue,Helvetica,sans-serif; font-size:48px; text-anchor:middle;\" transform=\"rotate(0, 751.618, 1557.47)\" x=\"751.618\" y=\"1557.47\">0.25</text>\n",
       "</g>\n",
       "<g clip-path=\"url(#clip4101)\">\n",
       "<text style=\"fill:#000000; fill-opacity:1; font-family:Arial,Helvetica Neue,Helvetica,sans-serif; font-size:48px; text-anchor:middle;\" transform=\"rotate(0, 1254.71, 1557.47)\" x=\"1254.71\" y=\"1557.47\">0.50</text>\n",
       "</g>\n",
       "<g clip-path=\"url(#clip4101)\">\n",
       "<text style=\"fill:#000000; fill-opacity:1; font-family:Arial,Helvetica Neue,Helvetica,sans-serif; font-size:48px; text-anchor:middle;\" transform=\"rotate(0, 1757.8, 1557.47)\" x=\"1757.8\" y=\"1557.47\">0.75</text>\n",
       "</g>\n",
       "<g clip-path=\"url(#clip4101)\">\n",
       "<text style=\"fill:#000000; fill-opacity:1; font-family:Arial,Helvetica Neue,Helvetica,sans-serif; font-size:48px; text-anchor:middle;\" transform=\"rotate(0, 2260.89, 1557.47)\" x=\"2260.89\" y=\"1557.47\">1.00</text>\n",
       "</g>\n",
       "<g clip-path=\"url(#clip4101)\">\n",
       "<text style=\"fill:#000000; fill-opacity:1; font-family:Arial,Helvetica Neue,Helvetica,sans-serif; font-size:48px; text-anchor:end;\" transform=\"rotate(0, 164.156, 1479.76)\" x=\"164.156\" y=\"1479.76\">0.00</text>\n",
       "</g>\n",
       "<g clip-path=\"url(#clip4101)\">\n",
       "<text style=\"fill:#000000; fill-opacity:1; font-family:Arial,Helvetica Neue,Helvetica,sans-serif; font-size:48px; text-anchor:end;\" transform=\"rotate(0, 164.156, 1136.27)\" x=\"164.156\" y=\"1136.27\">0.25</text>\n",
       "</g>\n",
       "<g clip-path=\"url(#clip4101)\">\n",
       "<text style=\"fill:#000000; fill-opacity:1; font-family:Arial,Helvetica Neue,Helvetica,sans-serif; font-size:48px; text-anchor:end;\" transform=\"rotate(0, 164.156, 792.773)\" x=\"164.156\" y=\"792.773\">0.50</text>\n",
       "</g>\n",
       "<g clip-path=\"url(#clip4101)\">\n",
       "<text style=\"fill:#000000; fill-opacity:1; font-family:Arial,Helvetica Neue,Helvetica,sans-serif; font-size:48px; text-anchor:end;\" transform=\"rotate(0, 164.156, 449.279)\" x=\"164.156\" y=\"449.279\">0.75</text>\n",
       "</g>\n",
       "<g clip-path=\"url(#clip4101)\">\n",
       "<text style=\"fill:#000000; fill-opacity:1; font-family:Arial,Helvetica Neue,Helvetica,sans-serif; font-size:48px; text-anchor:end;\" transform=\"rotate(0, 164.156, 105.785)\" x=\"164.156\" y=\"105.785\">1.00</text>\n",
       "</g>\n",
       "<polyline clip-path=\"url(#clip4103)\" style=\"stroke:#009af9; stroke-width:4; stroke-opacity:1; fill:none\" points=\"\n",
       "  248.527,1462.26 268.854,1418.67 289.181,1375.12 309.508,1331.66 329.835,1288.33 350.162,1245.17 370.489,1202.23 390.815,1159.56 411.142,1117.19 431.469,1075.17 \n",
       "  451.796,1033.53 472.123,992.333 492.45,951.606 512.777,911.392 533.104,871.733 553.431,832.669 573.757,794.238 594.084,756.481 614.411,719.433 634.738,683.134 \n",
       "  655.065,647.62 675.392,612.925 695.719,579.086 716.046,546.136 736.373,514.109 756.699,483.036 777.026,452.95 797.353,423.879 817.68,395.854 838.007,368.903 \n",
       "  858.334,343.053 878.661,318.33 898.988,294.759 919.314,272.363 939.641,251.165 959.968,231.187 980.295,212.449 1000.62,194.969 1020.95,178.764 1041.28,163.853 \n",
       "  1061.6,150.248 1081.93,137.965 1102.26,127.015 1122.58,117.41 1142.91,109.159 1163.24,102.27 1183.56,96.751 1203.89,92.6067 1224.22,89.8415 1244.54,88.4582 \n",
       "  1264.87,88.4582 1285.2,89.8415 1305.53,92.6067 1325.85,96.751 1346.18,102.27 1366.51,109.159 1386.83,117.41 1407.16,127.015 1427.49,137.965 1447.81,150.248 \n",
       "  1468.14,163.853 1488.47,178.764 1508.79,194.969 1529.12,212.449 1549.45,231.187 1569.77,251.165 1590.1,272.363 1610.43,294.759 1630.76,318.33 1651.08,343.053 \n",
       "  1671.41,368.903 1691.74,395.854 1712.06,423.879 1732.39,452.95 1752.72,483.036 1773.04,514.109 1793.37,546.136 1813.7,579.086 1834.02,612.925 1854.35,647.62 \n",
       "  1874.68,683.134 1895.01,719.433 1915.33,756.481 1935.66,794.238 1955.99,832.669 1976.31,871.733 1996.64,911.392 2016.97,951.606 2037.29,992.333 2057.62,1033.53 \n",
       "  2077.95,1075.17 2098.27,1117.19 2118.6,1159.56 2138.93,1202.23 2159.25,1245.17 2179.58,1288.33 2199.91,1331.66 2220.24,1375.12 2240.56,1418.67 2260.89,1462.26 \n",
       "  \n",
       "  \"/>\n",
       "<polyline clip-path=\"url(#clip4103)\" style=\"stroke:#e26f46; stroke-width:4; stroke-opacity:1; fill:none\" points=\"\n",
       "  248.527,1462.26 268.854,1418.67 289.181,1375.12 309.508,1331.66 329.835,1288.33 350.162,1245.18 370.489,1202.24 390.815,1159.57 411.142,1117.2 431.469,1075.18 \n",
       "  451.796,1033.55 472.123,992.357 492.45,951.633 512.777,911.424 533.104,871.769 553.431,832.709 573.757,794.284 594.084,756.531 614.411,719.489 634.738,683.195 \n",
       "  655.065,647.685 675.392,612.996 695.719,579.162 716.046,546.218 736.373,514.195 756.699,483.128 777.026,453.047 797.353,423.981 817.68,395.962 838.007,369.016 \n",
       "  858.334,343.17 878.661,318.452 898.988,294.885 919.314,272.494 939.641,251.3 959.968,231.326 980.295,212.592 1000.62,195.115 1020.95,178.914 1041.28,164.006 \n",
       "  1061.6,150.404 1081.93,138.124 1102.26,127.176 1122.58,117.573 1142.91,109.324 1163.24,102.437 1183.56,96.9187 1203.89,92.7752 1224.22,90.0106 1244.54,88.6276 \n",
       "  1264.87,88.6276 1285.2,90.0106 1305.53,92.7752 1325.85,96.9187 1346.18,102.437 1366.51,109.324 1386.83,117.573 1407.16,127.176 1427.49,138.124 1447.81,150.404 \n",
       "  1468.14,164.006 1488.47,178.914 1508.79,195.115 1529.12,212.592 1549.45,231.326 1569.77,251.3 1590.1,272.494 1610.43,294.885 1630.76,318.452 1651.08,343.17 \n",
       "  1671.41,369.016 1691.74,395.962 1712.06,423.981 1732.39,453.047 1752.72,483.128 1773.04,514.195 1793.37,546.218 1813.7,579.162 1834.02,612.996 1854.35,647.685 \n",
       "  1874.68,683.195 1895.01,719.489 1915.33,756.531 1935.66,794.284 1955.99,832.709 1976.31,871.769 1996.64,911.424 2016.97,951.633 2037.29,992.357 2057.62,1033.55 \n",
       "  2077.95,1075.18 2098.27,1117.2 2118.6,1159.57 2138.93,1202.24 2159.25,1245.18 2179.58,1288.33 2199.91,1331.66 2220.24,1375.12 2240.56,1418.67 2260.89,1462.26 \n",
       "  \n",
       "  \"/>\n",
       "<polygon clip-path=\"url(#clip4101)\" points=\"\n",
       "1958.43,312.204 2249.26,312.204 2249.26,130.764 1958.43,130.764 \n",
       "  \" fill=\"#ffffff\" fill-rule=\"evenodd\" fill-opacity=\"1\"/>\n",
       "<polyline clip-path=\"url(#clip4101)\" style=\"stroke:#000000; stroke-width:4; stroke-opacity:1; fill:none\" points=\"\n",
       "  1958.43,312.204 2249.26,312.204 2249.26,130.764 1958.43,130.764 1958.43,312.204 \n",
       "  \"/>\n",
       "<polyline clip-path=\"url(#clip4101)\" style=\"stroke:#009af9; stroke-width:4; stroke-opacity:1; fill:none\" points=\"\n",
       "  1982.43,191.244 2126.43,191.244 \n",
       "  \"/>\n",
       "<g clip-path=\"url(#clip4101)\">\n",
       "<text style=\"fill:#000000; fill-opacity:1; font-family:Arial,Helvetica Neue,Helvetica,sans-serif; font-size:48px; text-anchor:start;\" transform=\"rotate(0, 2150.43, 208.744)\" x=\"2150.43\" y=\"208.744\">y1</text>\n",
       "</g>\n",
       "<polyline clip-path=\"url(#clip4101)\" style=\"stroke:#e26f46; stroke-width:4; stroke-opacity:1; fill:none\" points=\"\n",
       "  1982.43,251.724 2126.43,251.724 \n",
       "  \"/>\n",
       "<g clip-path=\"url(#clip4101)\">\n",
       "<text style=\"fill:#000000; fill-opacity:1; font-family:Arial,Helvetica Neue,Helvetica,sans-serif; font-size:48px; text-anchor:start;\" transform=\"rotate(0, 2150.43, 269.224)\" x=\"2150.43\" y=\"269.224\">y2</text>\n",
       "</g>\n",
       "</svg>\n"
      ]
     },
     "execution_count": 12,
     "metadata": {},
     "output_type": "execute_result"
    }
   ],
   "source": [
    "xs = collect(range(0, stop=1, length=100))\n",
    "plot(xs, sinpi.(xs))\n",
    "plot!(xs, [evaluate(fsin, x) for x in xs])"
   ]
  },
  {
   "cell_type": "markdown",
   "metadata": {},
   "source": [
    "## The Schroedinger equation\n",
    "\n",
    "Implicit methods for parabolic equations require very small time steps. For this reason it is better to implement higher order time integrators than Euler, like Runge-Kutta 2 or 4."
   ]
  },
  {
   "cell_type": "code",
   "execution_count": 13,
   "metadata": {},
   "outputs": [],
   "source": [
    "struct WaveFunction{T, U}\n",
    "    time::T\n",
    "    psi::PLCFun{T,U}\n",
    "end"
   ]
  },
  {
   "cell_type": "code",
   "execution_count": 14,
   "metadata": {},
   "outputs": [],
   "source": [
    "function Base. *(a::U, f::WaveFunction{T, U})::WaveFunction{T, U} where {T,U}\n",
    " WaveFunction{T, U}(f.time, a * f.psi)\n",
    "end\n",
    "\n",
    "function Base. *(v::PLCFun{T,Float64}, f::PLCFun{T,U})::PLCFun{T,U} where {T,U}\n",
    "    @assert length(v.points)==length(f.points)\n",
    "    PLCFun{T,U}(v.points .* f.points)\n",
    "end\n",
    "\n",
    "function Base. +(g::WaveFunction{T, U}, f::WaveFunction{T, U})::WaveFunction{T, U} where {T,U}\n",
    "    @assert abs(f.time - g.time) <= 100*eps(T)\n",
    " WaveFunction{T, U}(f.time, g.psi + f.psi)\n",
    "end"
   ]
  },
  {
   "cell_type": "code",
   "execution_count": 15,
   "metadata": {},
   "outputs": [
    {
     "data": {
      "text/plain": [
       "gaussian (generic function with 1 method)"
      ]
     },
     "execution_count": 15,
     "metadata": {},
     "output_type": "execute_result"
    }
   ],
   "source": [
    "function gaussian(x::T, x0::T, sigmax::T, p::T)::Complex{Float64} where {T}\n",
    "    1 / sqrt(sqrt(pi * sigmax^2)) * exp( - (x-x0)^2 / ( 2 * sigmax^2 ) + im * p * (x-x0))\n",
    "end"
   ]
  },
  {
   "cell_type": "code",
   "execution_count": 16,
   "metadata": {},
   "outputs": [
    {
     "data": {
      "text/plain": [
       "initialGaussian (generic function with 1 method)"
      ]
     },
     "execution_count": 16,
     "metadata": {},
     "output_type": "execute_result"
    }
   ],
   "source": [
    "function initialGaussian(nlines::Int, x0::Float64, sigmax::Float64, p::Float64)::WaveFunction{Float64, Complex{Float64}}\n",
    "    t = 0\n",
    "    y = samplePLC(Float64, Complex{Float64}, nlines, x -> gaussian(x,x0,sigmax,p))\n",
    "    WaveFunction{Float64, Complex{Float64}}(t,y)\n",
    "end"
   ]
  },
  {
   "cell_type": "code",
   "execution_count": 17,
   "metadata": {},
   "outputs": [
    {
     "data": {
      "text/plain": [
       "potential (generic function with 1 method)"
      ]
     },
     "execution_count": 17,
     "metadata": {},
     "output_type": "execute_result"
    }
   ],
   "source": [
    "function potential(nlines::Int)::PLCFun{Float64,Float64}\n",
    "    samplePLC(Float64, Float64, nlines,V)\n",
    "end"
   ]
  },
  {
   "cell_type": "code",
   "execution_count": 18,
   "metadata": {},
   "outputs": [
    {
     "data": {
      "text/plain": [
       "rhsSchroedinger (generic function with 1 method)"
      ]
     },
     "execution_count": 18,
     "metadata": {},
     "output_type": "execute_result"
    }
   ],
   "source": [
    "function rhsSchroedinger(s::WaveFunction{T, U})::WaveFunction{T, U} where {T,U}\n",
    "    t = s.time\n",
    "    psi = s.psi\n",
    "    nlines = length(psi.points) - 1\n",
    "    psixx = (- im / hbar) * ((- hbar^2 / ( 2*m) + im * 0.) * derivSecondCenter(psi) + potential(nlines) * psi)\n",
    "    psit = PLCFun{T,U}(U[0;[psixx.points[i] for i in 2:nlines]; 0])\n",
    "    WaveFunction{T, U}(t, psit)\n",
    "end"
   ]
  },
  {
   "cell_type": "code",
   "execution_count": 19,
   "metadata": {},
   "outputs": [
    {
     "data": {
      "text/plain": [
       "euler (generic function with 1 method)"
      ]
     },
     "execution_count": 19,
     "metadata": {},
     "output_type": "execute_result"
    }
   ],
   "source": [
    "function euler(rhs::Function, dt::T,\n",
    "               s0::WaveFunction{T, U})::WaveFunction{T, U} where {T,U}\n",
    "    r0 = rhs(s0)\n",
    "    s1 = s0 + (dt + im * 0.)  * r0\n",
    "    WaveFunction{T, U}(r0.time + dt, s1.psi)\n",
    "end"
   ]
  },
  {
   "cell_type": "code",
   "execution_count": 20,
   "metadata": {},
   "outputs": [
    {
     "data": {
      "text/plain": [
       "RK2 (generic function with 1 method)"
      ]
     },
     "execution_count": 20,
     "metadata": {},
     "output_type": "execute_result"
    }
   ],
   "source": [
    "function RK2(rhs::Function, dt::T,\n",
    "               s0::WaveFunction{T, U})::WaveFunction{T, U} where {T,U}\n",
    "    r0 = rhs(s0)\n",
    "    smiddle = s0 + (dt / 2 + im * 0.)  * r0\n",
    "    rmiddle = rhs(smiddle)\n",
    "    s1 = s0 + (dt + im * 0.)  * rmiddle\n",
    "    WaveFunction{T, U}(r0.time + dt, s1.psi)\n",
    "end"
   ]
  },
  {
   "cell_type": "code",
   "execution_count": 21,
   "metadata": {},
   "outputs": [
    {
     "data": {
      "text/plain": [
       "RK4 (generic function with 1 method)"
      ]
     },
     "execution_count": 21,
     "metadata": {},
     "output_type": "execute_result"
    }
   ],
   "source": [
    "function RK4(rhs::Function, dt::T,\n",
    "               s0::WaveFunction{T, U})::WaveFunction{T, U} where {T,U}\n",
    "    k1 = rhs(s0)\n",
    "    k2 = rhs(s0 + (dt / 2 + im * 0.)  * k1)\n",
    "    k3 = rhs(s0 + (dt / 2 + im * 0.)  * k2)\n",
    "    k4 = rhs(s0 + (dt  + im * 0.)  * k3)\n",
    "    s1 = s0 + (dt / 6 + im * 0.)  * (k1 + (2. + im * 0.) *k2 + (2. + im * 0.) *k3 + k4)\n",
    "    WaveFunction{T, U}(s0.time + dt, s1.psi)\n",
    "end"
   ]
  },
  {
   "cell_type": "code",
   "execution_count": 22,
   "metadata": {},
   "outputs": [],
   "source": [
    "struct solution{T,U}\n",
    "    dt::T\n",
    "    dx::T\n",
    "    states::Vector{WaveFunction{T, U}}\n",
    "end"
   ]
  },
  {
   "cell_type": "code",
   "execution_count": 23,
   "metadata": {},
   "outputs": [
    {
     "data": {
      "text/plain": [
       "solveSchrodinger (generic function with 1 method)"
      ]
     },
     "execution_count": 23,
     "metadata": {},
     "output_type": "execute_result"
    }
   ],
   "source": [
    "function solveSchrodinger(tmax::T, nlines::Int, lambda::T, x0::T, sigmax::T, p::T) where {T}\n",
    "    s=initialGaussian(nlines, x0, sigmax, p)\n",
    "    dx= 1/nlines\n",
    "    dt=lambda * dx\n",
    "    nsteps= round(Int, tmax / dt)\n",
    "    sol = solution{T,Complex{T}}(dt, dx, WaveFunction{T, Complex{T}}[])\n",
    "    push!(sol.states, s)\n",
    "    \n",
    "    for step in 1:nsteps\n",
    "        s = RK4(rhsSchroedinger, dt, s)\n",
    "        push!(sol.states, s)\n",
    "    end\n",
    "    return sol\n",
    "end"
   ]
  },
  {
   "cell_type": "code",
   "execution_count": 24,
   "metadata": {},
   "outputs": [
    {
     "data": {
      "text/plain": [
       "refine (generic function with 1 method)"
      ]
     },
     "execution_count": 24,
     "metadata": {},
     "output_type": "execute_result"
    }
   ],
   "source": [
    "function refine(u::PLCFun{T,U})::PLCFun{T,U} where {T,U}\n",
    "    nlines = length(u.points) - 1\n",
    "    dx = 1 / nlines\n",
    "    eval = [evaluate(u, xcoord(T, 2 * nlines, i)) for i in 1:2*nlines+1]\n",
    "    PLCFun{T,U}(eval)\n",
    "end"
   ]
  },
  {
   "cell_type": "code",
   "execution_count": 25,
   "metadata": {},
   "outputs": [
    {
     "data": {
      "text/plain": [
       "totprob (generic function with 1 method)"
      ]
     },
     "execution_count": 25,
     "metadata": {},
     "output_type": "execute_result"
    }
   ],
   "source": [
    "function totprob(u::PLCFun{T,U}, dx::T)::T where {T,U}\n",
    "    dx*sum(abs.(u.points) .^2)\n",
    "end"
   ]
  },
  {
   "cell_type": "markdown",
   "metadata": {},
   "source": [
    "## Barrier in a box"
   ]
  },
  {
   "cell_type": "code",
   "execution_count": 26,
   "metadata": {},
   "outputs": [
    {
     "data": {
      "text/plain": [
       "V (generic function with 1 method)"
      ]
     },
     "execution_count": 26,
     "metadata": {},
     "output_type": "execute_result"
    }
   ],
   "source": [
    "function V(x::T)::Float64 where {T}\n",
    "    if x<0.45 || x>0.55 return 0. \n",
    "        else return 50.\n",
    "    end\n",
    "end"
   ]
  },
  {
   "cell_type": "code",
   "execution_count": 27,
   "metadata": {},
   "outputs": [],
   "source": [
    "x0 = 0.2\n",
    "sigmax = 0.05\n",
    "p = 32.\n",
    "n = 500\n",
    "T = 0.25\n",
    "lambda = 0.01  \n",
    "xs = collect(range(0, stop=1, length=n))\n",
    "sol1 = solveSchrodinger(T, n, lambda, x0, sigmax, p);"
   ]
  },
  {
   "cell_type": "code",
   "execution_count": 28,
   "metadata": {},
   "outputs": [
    {
     "data": {
      "text/plain": [
       "32.0"
      ]
     },
     "execution_count": 28,
     "metadata": {},
     "output_type": "execute_result"
    }
   ],
   "source": [
    "p^2/(2*m)"
   ]
  },
  {
   "cell_type": "code",
   "execution_count": 29,
   "metadata": {},
   "outputs": [
    {
     "data": {
      "text/plain": [
       "psianalyticsol (generic function with 1 method)"
      ]
     },
     "execution_count": 29,
     "metadata": {},
     "output_type": "execute_result"
    }
   ],
   "source": [
    "ts = [i for i in 0:(lambda / n):T]\n",
    "psianalyticsol(x,t) = 1 /pi^(1/4) / sqrt(sigmax + im*hbar*t /(m*sigmax)) * exp(- im * t*p^2 / (2*m) + im * p * (x-x0) - (x -x0 - hbar*p*t/m)^2/(2*(sigmax^2 + im*hbar*t / m)) )"
   ]
  },
  {
   "cell_type": "code",
   "execution_count": 30,
   "metadata": {},
   "outputs": [
    {
     "data": {
      "image/svg+xml": [
       "<?xml version=\"1.0\" encoding=\"utf-8\"?>\n",
       "<svg xmlns=\"http://www.w3.org/2000/svg\" xmlns:xlink=\"http://www.w3.org/1999/xlink\" width=\"600\" height=\"400\" viewBox=\"0 0 2400 1600\">\n",
       "<defs>\n",
       "  <clipPath id=\"clip4300\">\n",
       "    <rect x=\"0\" y=\"0\" width=\"2000\" height=\"2000\"/>\n",
       "  </clipPath>\n",
       "</defs>\n",
       "<defs>\n",
       "  <clipPath id=\"clip4301\">\n",
       "    <rect x=\"0\" y=\"0\" width=\"2400\" height=\"1600\"/>\n",
       "  </clipPath>\n",
       "</defs>\n",
       "<polygon clip-path=\"url(#clip4301)\" points=\"\n",
       "0,1600 2400,1600 2400,0 0,0 \n",
       "  \" fill=\"#ffffff\" fill-rule=\"evenodd\" fill-opacity=\"1\"/>\n",
       "<defs>\n",
       "  <clipPath id=\"clip4302\">\n",
       "    <rect x=\"480\" y=\"0\" width=\"1681\" height=\"1600\"/>\n",
       "  </clipPath>\n",
       "</defs>\n",
       "<polygon clip-path=\"url(#clip4301)\" points=\"\n",
       "184.243,1440.48 2321.26,1440.48 2321.26,47.2441 184.243,47.2441 \n",
       "  \" fill=\"#ffffff\" fill-rule=\"evenodd\" fill-opacity=\"1\"/>\n",
       "<defs>\n",
       "  <clipPath id=\"clip4303\">\n",
       "    <rect x=\"184\" y=\"47\" width=\"2138\" height=\"1394\"/>\n",
       "  </clipPath>\n",
       "</defs>\n",
       "<polyline clip-path=\"url(#clip4303)\" style=\"stroke:#000000; stroke-width:2; stroke-opacity:0.1; fill:none\" points=\"\n",
       "  244.724,1440.48 244.724,47.2441 \n",
       "  \"/>\n",
       "<polyline clip-path=\"url(#clip4303)\" style=\"stroke:#000000; stroke-width:2; stroke-opacity:0.1; fill:none\" points=\"\n",
       "  748.738,1440.48 748.738,47.2441 \n",
       "  \"/>\n",
       "<polyline clip-path=\"url(#clip4303)\" style=\"stroke:#000000; stroke-width:2; stroke-opacity:0.1; fill:none\" points=\"\n",
       "  1252.75,1440.48 1252.75,47.2441 \n",
       "  \"/>\n",
       "<polyline clip-path=\"url(#clip4303)\" style=\"stroke:#000000; stroke-width:2; stroke-opacity:0.1; fill:none\" points=\"\n",
       "  1756.76,1440.48 1756.76,47.2441 \n",
       "  \"/>\n",
       "<polyline clip-path=\"url(#clip4303)\" style=\"stroke:#000000; stroke-width:2; stroke-opacity:0.1; fill:none\" points=\"\n",
       "  2260.78,1440.48 2260.78,47.2441 \n",
       "  \"/>\n",
       "<polyline clip-path=\"url(#clip4303)\" style=\"stroke:#000000; stroke-width:2; stroke-opacity:0.1; fill:none\" points=\"\n",
       "  184.243,1440.48 2321.26,1440.48 \n",
       "  \"/>\n",
       "<polyline clip-path=\"url(#clip4303)\" style=\"stroke:#000000; stroke-width:2; stroke-opacity:0.1; fill:none\" points=\"\n",
       "  184.243,1241.45 2321.26,1241.45 \n",
       "  \"/>\n",
       "<polyline clip-path=\"url(#clip4303)\" style=\"stroke:#000000; stroke-width:2; stroke-opacity:0.1; fill:none\" points=\"\n",
       "  184.243,1042.41 2321.26,1042.41 \n",
       "  \"/>\n",
       "<polyline clip-path=\"url(#clip4303)\" style=\"stroke:#000000; stroke-width:2; stroke-opacity:0.1; fill:none\" points=\"\n",
       "  184.243,843.38 2321.26,843.38 \n",
       "  \"/>\n",
       "<polyline clip-path=\"url(#clip4303)\" style=\"stroke:#000000; stroke-width:2; stroke-opacity:0.1; fill:none\" points=\"\n",
       "  184.243,644.346 2321.26,644.346 \n",
       "  \"/>\n",
       "<polyline clip-path=\"url(#clip4303)\" style=\"stroke:#000000; stroke-width:2; stroke-opacity:0.1; fill:none\" points=\"\n",
       "  184.243,445.312 2321.26,445.312 \n",
       "  \"/>\n",
       "<polyline clip-path=\"url(#clip4303)\" style=\"stroke:#000000; stroke-width:2; stroke-opacity:0.1; fill:none\" points=\"\n",
       "  184.243,246.278 2321.26,246.278 \n",
       "  \"/>\n",
       "<polyline clip-path=\"url(#clip4303)\" style=\"stroke:#000000; stroke-width:2; stroke-opacity:0.1; fill:none\" points=\"\n",
       "  184.243,47.2441 2321.26,47.2441 \n",
       "  \"/>\n",
       "<polyline clip-path=\"url(#clip4301)\" style=\"stroke:#000000; stroke-width:4; stroke-opacity:1; fill:none\" points=\"\n",
       "  184.243,1440.48 2321.26,1440.48 \n",
       "  \"/>\n",
       "<polyline clip-path=\"url(#clip4301)\" style=\"stroke:#000000; stroke-width:4; stroke-opacity:1; fill:none\" points=\"\n",
       "  184.243,1440.48 184.243,47.2441 \n",
       "  \"/>\n",
       "<polyline clip-path=\"url(#clip4301)\" style=\"stroke:#000000; stroke-width:4; stroke-opacity:1; fill:none\" points=\"\n",
       "  244.724,1440.48 244.724,1419.58 \n",
       "  \"/>\n",
       "<polyline clip-path=\"url(#clip4301)\" style=\"stroke:#000000; stroke-width:4; stroke-opacity:1; fill:none\" points=\"\n",
       "  748.738,1440.48 748.738,1419.58 \n",
       "  \"/>\n",
       "<polyline clip-path=\"url(#clip4301)\" style=\"stroke:#000000; stroke-width:4; stroke-opacity:1; fill:none\" points=\"\n",
       "  1252.75,1440.48 1252.75,1419.58 \n",
       "  \"/>\n",
       "<polyline clip-path=\"url(#clip4301)\" style=\"stroke:#000000; stroke-width:4; stroke-opacity:1; fill:none\" points=\"\n",
       "  1756.76,1440.48 1756.76,1419.58 \n",
       "  \"/>\n",
       "<polyline clip-path=\"url(#clip4301)\" style=\"stroke:#000000; stroke-width:4; stroke-opacity:1; fill:none\" points=\"\n",
       "  2260.78,1440.48 2260.78,1419.58 \n",
       "  \"/>\n",
       "<polyline clip-path=\"url(#clip4301)\" style=\"stroke:#000000; stroke-width:4; stroke-opacity:1; fill:none\" points=\"\n",
       "  184.243,1440.48 216.298,1440.48 \n",
       "  \"/>\n",
       "<polyline clip-path=\"url(#clip4301)\" style=\"stroke:#000000; stroke-width:4; stroke-opacity:1; fill:none\" points=\"\n",
       "  184.243,1241.45 216.298,1241.45 \n",
       "  \"/>\n",
       "<polyline clip-path=\"url(#clip4301)\" style=\"stroke:#000000; stroke-width:4; stroke-opacity:1; fill:none\" points=\"\n",
       "  184.243,1042.41 216.298,1042.41 \n",
       "  \"/>\n",
       "<polyline clip-path=\"url(#clip4301)\" style=\"stroke:#000000; stroke-width:4; stroke-opacity:1; fill:none\" points=\"\n",
       "  184.243,843.38 216.298,843.38 \n",
       "  \"/>\n",
       "<polyline clip-path=\"url(#clip4301)\" style=\"stroke:#000000; stroke-width:4; stroke-opacity:1; fill:none\" points=\"\n",
       "  184.243,644.346 216.298,644.346 \n",
       "  \"/>\n",
       "<polyline clip-path=\"url(#clip4301)\" style=\"stroke:#000000; stroke-width:4; stroke-opacity:1; fill:none\" points=\"\n",
       "  184.243,445.312 216.298,445.312 \n",
       "  \"/>\n",
       "<polyline clip-path=\"url(#clip4301)\" style=\"stroke:#000000; stroke-width:4; stroke-opacity:1; fill:none\" points=\"\n",
       "  184.243,246.278 216.298,246.278 \n",
       "  \"/>\n",
       "<polyline clip-path=\"url(#clip4301)\" style=\"stroke:#000000; stroke-width:4; stroke-opacity:1; fill:none\" points=\"\n",
       "  184.243,47.2441 216.298,47.2441 \n",
       "  \"/>\n",
       "<g clip-path=\"url(#clip4301)\">\n",
       "<text style=\"fill:#000000; fill-opacity:1; font-family:Arial,Helvetica Neue,Helvetica,sans-serif; font-size:48px; text-anchor:middle;\" transform=\"rotate(0, 244.724, 1494.48)\" x=\"244.724\" y=\"1494.48\">0.00</text>\n",
       "</g>\n",
       "<g clip-path=\"url(#clip4301)\">\n",
       "<text style=\"fill:#000000; fill-opacity:1; font-family:Arial,Helvetica Neue,Helvetica,sans-serif; font-size:48px; text-anchor:middle;\" transform=\"rotate(0, 748.738, 1494.48)\" x=\"748.738\" y=\"1494.48\">0.25</text>\n",
       "</g>\n",
       "<g clip-path=\"url(#clip4301)\">\n",
       "<text style=\"fill:#000000; fill-opacity:1; font-family:Arial,Helvetica Neue,Helvetica,sans-serif; font-size:48px; text-anchor:middle;\" transform=\"rotate(0, 1252.75, 1494.48)\" x=\"1252.75\" y=\"1494.48\">0.50</text>\n",
       "</g>\n",
       "<g clip-path=\"url(#clip4301)\">\n",
       "<text style=\"fill:#000000; fill-opacity:1; font-family:Arial,Helvetica Neue,Helvetica,sans-serif; font-size:48px; text-anchor:middle;\" transform=\"rotate(0, 1756.76, 1494.48)\" x=\"1756.76\" y=\"1494.48\">0.75</text>\n",
       "</g>\n",
       "<g clip-path=\"url(#clip4301)\">\n",
       "<text style=\"fill:#000000; fill-opacity:1; font-family:Arial,Helvetica Neue,Helvetica,sans-serif; font-size:48px; text-anchor:middle;\" transform=\"rotate(0, 2260.78, 1494.48)\" x=\"2260.78\" y=\"1494.48\">1.00</text>\n",
       "</g>\n",
       "<g clip-path=\"url(#clip4301)\">\n",
       "<text style=\"fill:#000000; fill-opacity:1; font-family:Arial,Helvetica Neue,Helvetica,sans-serif; font-size:48px; text-anchor:end;\" transform=\"rotate(0, 160.243, 1457.98)\" x=\"160.243\" y=\"1457.98\">0</text>\n",
       "</g>\n",
       "<g clip-path=\"url(#clip4301)\">\n",
       "<text style=\"fill:#000000; fill-opacity:1; font-family:Arial,Helvetica Neue,Helvetica,sans-serif; font-size:48px; text-anchor:end;\" transform=\"rotate(0, 160.243, 1258.95)\" x=\"160.243\" y=\"1258.95\">1</text>\n",
       "</g>\n",
       "<g clip-path=\"url(#clip4301)\">\n",
       "<text style=\"fill:#000000; fill-opacity:1; font-family:Arial,Helvetica Neue,Helvetica,sans-serif; font-size:48px; text-anchor:end;\" transform=\"rotate(0, 160.243, 1059.91)\" x=\"160.243\" y=\"1059.91\">2</text>\n",
       "</g>\n",
       "<g clip-path=\"url(#clip4301)\">\n",
       "<text style=\"fill:#000000; fill-opacity:1; font-family:Arial,Helvetica Neue,Helvetica,sans-serif; font-size:48px; text-anchor:end;\" transform=\"rotate(0, 160.243, 860.88)\" x=\"160.243\" y=\"860.88\">3</text>\n",
       "</g>\n",
       "<g clip-path=\"url(#clip4301)\">\n",
       "<text style=\"fill:#000000; fill-opacity:1; font-family:Arial,Helvetica Neue,Helvetica,sans-serif; font-size:48px; text-anchor:end;\" transform=\"rotate(0, 160.243, 661.846)\" x=\"160.243\" y=\"661.846\">4</text>\n",
       "</g>\n",
       "<g clip-path=\"url(#clip4301)\">\n",
       "<text style=\"fill:#000000; fill-opacity:1; font-family:Arial,Helvetica Neue,Helvetica,sans-serif; font-size:48px; text-anchor:end;\" transform=\"rotate(0, 160.243, 462.812)\" x=\"160.243\" y=\"462.812\">5</text>\n",
       "</g>\n",
       "<g clip-path=\"url(#clip4301)\">\n",
       "<text style=\"fill:#000000; fill-opacity:1; font-family:Arial,Helvetica Neue,Helvetica,sans-serif; font-size:48px; text-anchor:end;\" transform=\"rotate(0, 160.243, 263.778)\" x=\"160.243\" y=\"263.778\">6</text>\n",
       "</g>\n",
       "<g clip-path=\"url(#clip4301)\">\n",
       "<text style=\"fill:#000000; fill-opacity:1; font-family:Arial,Helvetica Neue,Helvetica,sans-serif; font-size:48px; text-anchor:end;\" transform=\"rotate(0, 160.243, 64.7441)\" x=\"160.243\" y=\"64.7441\">7</text>\n",
       "</g>\n",
       "<g clip-path=\"url(#clip4301)\">\n",
       "<text style=\"fill:#000000; fill-opacity:1; font-family:Arial,Helvetica Neue,Helvetica,sans-serif; font-size:66px; text-anchor:middle;\" transform=\"rotate(0, 1252.75, 1590.4)\" x=\"1252.75\" y=\"1590.4\">x</text>\n",
       "</g>\n",
       "<g clip-path=\"url(#clip4301)\">\n",
       "<text style=\"fill:#000000; fill-opacity:1; font-family:Arial,Helvetica Neue,Helvetica,sans-serif; font-size:66px; text-anchor:middle;\" transform=\"rotate(-90, 57.6, 743.863)\" x=\"57.6\" y=\"743.863\">p(x)</text>\n",
       "</g>\n",
       "<polyline clip-path=\"url(#clip4303)\" style=\"stroke:#009af9; stroke-width:4; stroke-opacity:1; fill:none\" points=\"\n",
       "  244.724,1437.82 248.764,1437.74 252.805,1437.67 256.845,1437.59 260.885,1437.51 264.925,1437.42 268.965,1437.34 273.006,1437.25 277.046,1437.16 281.086,1437.07 \n",
       "  285.126,1436.97 289.166,1436.88 293.207,1436.78 297.247,1436.68 301.287,1436.57 305.327,1436.47 309.367,1436.36 313.407,1436.25 317.448,1436.13 321.488,1436.01 \n",
       "  325.528,1435.89 329.568,1435.77 333.608,1435.65 337.649,1435.52 341.689,1435.39 345.729,1435.25 349.769,1435.11 353.809,1434.97 357.85,1434.83 361.89,1434.68 \n",
       "  365.93,1434.53 369.97,1434.38 374.01,1434.22 378.05,1434.06 382.091,1433.89 386.131,1433.73 390.171,1433.55 394.211,1433.38 398.251,1433.2 402.292,1433.01 \n",
       "  406.332,1432.83 410.372,1432.63 414.412,1432.44 418.452,1432.24 422.493,1432.03 426.533,1431.82 430.573,1431.61 434.613,1431.39 438.653,1431.17 442.693,1430.94 \n",
       "  446.734,1430.71 450.774,1430.47 454.814,1430.23 458.854,1429.98 462.894,1429.73 466.935,1429.47 470.975,1429.21 475.015,1428.94 479.055,1428.67 483.095,1428.39 \n",
       "  487.136,1428.11 491.176,1427.82 495.216,1427.52 499.256,1427.22 503.296,1426.91 507.337,1426.6 511.377,1426.28 515.417,1425.95 519.457,1425.62 523.497,1425.28 \n",
       "  527.537,1424.94 531.578,1424.59 535.618,1424.23 539.658,1423.86 543.698,1423.49 547.738,1423.11 551.779,1422.73 555.819,1422.34 559.859,1421.94 563.899,1421.53 \n",
       "  567.939,1421.11 571.98,1420.69 576.02,1420.26 580.06,1419.83 584.1,1419.38 588.14,1418.93 592.18,1418.47 596.221,1418 600.261,1417.52 604.301,1417.04 \n",
       "  608.341,1416.54 612.381,1416.04 616.422,1415.53 620.462,1415.01 624.502,1414.48 628.542,1413.95 632.582,1413.4 636.623,1412.84 640.663,1412.28 644.703,1411.71 \n",
       "  648.743,1411.13 652.783,1410.53 656.823,1409.93 660.864,1409.32 664.904,1408.7 668.944,1408.07 672.984,1407.43 677.024,1406.78 681.065,1406.12 685.105,1405.45 \n",
       "  689.145,1404.77 693.185,1404.08 697.225,1403.38 701.266,1402.67 705.306,1401.95 709.346,1401.22 713.386,1400.47 717.426,1399.72 721.466,1398.95 725.507,1398.18 \n",
       "  729.547,1397.39 733.587,1396.59 737.627,1395.78 741.667,1394.96 745.708,1394.13 749.748,1393.29 753.788,1392.43 757.828,1391.57 761.868,1390.69 765.909,1389.8 \n",
       "  769.949,1388.9 773.989,1387.99 778.029,1387.06 782.069,1386.12 786.11,1385.17 790.15,1384.21 794.19,1383.24 798.23,1382.25 802.27,1381.26 806.31,1380.25 \n",
       "  810.351,1379.23 814.391,1378.19 818.431,1377.14 822.471,1376.09 826.511,1375.01 830.552,1373.93 834.592,1372.83 838.632,1371.72 842.672,1370.6 846.712,1369.47 \n",
       "  850.753,1368.32 854.793,1367.16 858.833,1365.99 862.873,1364.8 866.913,1363.61 870.953,1362.4 874.994,1361.17 879.034,1359.94 883.074,1358.69 887.114,1357.43 \n",
       "  891.154,1356.15 895.195,1354.87 899.235,1353.57 903.275,1352.25 907.315,1350.93 911.355,1349.59 915.396,1348.24 919.436,1346.88 923.476,1345.51 927.516,1344.12 \n",
       "  931.556,1342.72 935.596,1341.31 939.637,1339.88 943.677,1338.45 947.717,1337 951.757,1335.54 955.797,1334.07 959.838,1332.58 963.878,1331.08 967.918,1329.57 \n",
       "  971.958,1328.05 975.998,1326.52 980.039,1324.98 984.079,1323.42 988.119,1321.86 992.159,1320.28 996.199,1318.69 1000.24,1317.09 1004.28,1315.48 1008.32,1313.85 \n",
       "  1012.36,1312.22 1016.4,1310.58 1020.44,1308.92 1024.48,1307.26 1028.52,1305.58 1032.56,1303.9 1036.6,1302.2 1040.64,1300.5 1044.68,1298.78 1048.72,1297.06 \n",
       "  1052.76,1295.32 1056.8,1293.58 1060.84,1291.83 1064.88,1290.07 1068.92,1288.3 1072.96,1286.52 1077,1284.74 1081.04,1282.94 1085.08,1281.14 1089.12,1279.33 \n",
       "  1093.16,1277.52 1097.2,1275.69 1101.24,1273.86 1105.28,1272.02 1109.32,1270.18 1113.36,1268.33 1117.4,1266.47 1121.45,1264.61 1125.49,1262.74 1129.53,1260.86 \n",
       "  1133.57,1258.98 1137.61,1257.1 1141.65,1255.21 1145.69,1253.32 1149.73,1251.42 1153.77,1249.52 1157.81,1247.61 1161.85,1245.7 1165.89,1243.79 1169.93,1241.88 \n",
       "  1173.97,1239.96 1178.01,1238.04 1182.05,1236.12 1186.09,1234.19 1190.13,1232.27 1194.17,1230.34 1198.21,1228.42 1202.25,1226.49 1206.29,1224.56 1210.33,1222.64 \n",
       "  1214.37,1220.71 1218.41,1218.78 1222.45,1216.86 1226.49,1214.94 1230.53,1213.01 1234.57,1211.09 1238.61,1209.18 1242.65,1207.26 1246.69,1205.35 1250.73,1203.44 \n",
       "  1254.77,1201.54 1258.81,1199.64 1262.85,1197.74 1266.89,1195.85 1270.93,1193.96 1274.97,1192.08 1279.01,1190.2 1283.05,1188.33 1287.09,1186.47 1291.13,1184.61 \n",
       "  1295.17,1182.77 1299.21,1180.92 1303.25,1179.09 1307.29,1177.26 1311.33,1175.45 1315.37,1173.64 1319.41,1171.84 1323.45,1170.05 1327.49,1168.27 1331.53,1166.5 \n",
       "  1335.58,1164.74 1339.62,1162.99 1343.66,1161.26 1347.7,1159.53 1351.74,1157.82 1355.78,1156.12 1359.82,1154.43 1363.86,1152.75 1367.9,1151.09 1371.94,1149.44 \n",
       "  1375.98,1147.81 1380.02,1146.19 1384.06,1144.59 1388.1,1143 1392.14,1141.42 1396.18,1139.87 1400.22,1138.32 1404.26,1136.8 1408.3,1135.29 1412.34,1133.8 \n",
       "  1416.38,1132.32 1420.42,1130.87 1424.46,1129.43 1428.5,1128.01 1432.54,1126.61 1436.58,1125.22 1440.62,1123.86 1444.66,1122.52 1448.7,1121.19 1452.74,1119.89 \n",
       "  1456.78,1118.61 1460.82,1117.34 1464.86,1116.1 1468.9,1114.88 1472.94,1113.69 1476.98,1112.51 1481.02,1111.36 1485.06,1110.22 1489.1,1109.11 1493.14,1108.03 \n",
       "  1497.18,1106.97 1501.22,1105.93 1505.26,1104.91 1509.3,1103.92 1513.34,1102.95 1517.38,1102.01 1521.42,1101.09 1525.46,1100.2 1529.5,1099.33 1533.54,1098.48 \n",
       "  1537.58,1097.66 1541.62,1096.87 1545.66,1096.11 1549.71,1095.36 1553.75,1094.65 1557.79,1093.96 1561.83,1093.3 1565.87,1092.66 1569.91,1092.05 1573.95,1091.47 \n",
       "  1577.99,1090.92 1582.03,1090.39 1586.07,1089.89 1590.11,1089.42 1594.15,1088.97 1598.19,1088.56 1602.23,1088.17 1606.27,1087.8 1610.31,1087.47 1614.35,1087.16 \n",
       "  1618.39,1086.89 1622.43,1086.64 1626.47,1086.42 1630.51,1086.22 1634.55,1086.06 1638.59,1085.92 1642.63,1085.81 1646.67,1085.73 1650.71,1085.68 1654.75,1085.66 \n",
       "  1658.79,1085.67 1662.83,1085.7 1666.87,1085.76 1670.91,1085.85 1674.95,1085.97 1678.99,1086.12 1683.03,1086.3 1687.07,1086.5 1691.11,1086.73 1695.15,1086.99 \n",
       "  1699.19,1087.28 1703.23,1087.6 1707.27,1087.95 1711.31,1088.32 1715.35,1088.72 1719.39,1089.15 1723.43,1089.6 1727.47,1090.09 1731.51,1090.6 1735.55,1091.14 \n",
       "  1739.59,1091.7 1743.63,1092.3 1747.67,1092.91 1751.71,1093.56 1755.75,1094.23 1759.79,1094.93 1763.84,1095.66 1767.88,1096.41 1771.92,1097.19 1775.96,1097.99 \n",
       "  1780,1098.82 1784.04,1099.67 1788.08,1100.55 1792.12,1101.45 1796.16,1102.38 1800.2,1103.34 1804.24,1104.31 1808.28,1105.31 1812.32,1106.34 1816.36,1107.39 \n",
       "  1820.4,1108.46 1824.44,1109.56 1828.48,1110.67 1832.52,1111.81 1836.56,1112.98 1840.6,1114.16 1844.64,1115.37 1848.68,1116.6 1852.72,1117.85 1856.76,1119.12 \n",
       "  1860.8,1120.41 1864.84,1121.72 1868.88,1123.05 1872.92,1124.4 1876.96,1125.77 1881,1127.16 1885.04,1128.57 1889.08,1130 1893.12,1131.45 1897.16,1132.91 \n",
       "  1901.2,1134.39 1905.24,1135.89 1909.28,1137.41 1913.32,1138.94 1917.36,1140.49 1921.4,1142.05 1925.44,1143.63 1929.48,1145.23 1933.52,1146.84 1937.56,1148.46 \n",
       "  1941.6,1150.1 1945.64,1151.75 1949.68,1153.42 1953.72,1155.1 1957.76,1156.8 1961.8,1158.5 1965.84,1160.22 1969.88,1161.95 1973.92,1163.69 1977.97,1165.44 \n",
       "  1982.01,1167.21 1986.05,1168.98 1990.09,1170.76 1994.13,1172.56 1998.17,1174.36 2002.21,1176.17 2006.25,1177.99 2010.29,1179.82 2014.33,1181.66 2018.37,1183.5 \n",
       "  2022.41,1185.36 2026.45,1187.22 2030.49,1189.08 2034.53,1190.95 2038.57,1192.83 2042.61,1194.71 2046.65,1196.6 2050.69,1198.5 2054.73,1200.4 2058.77,1202.3 \n",
       "  2062.81,1204.2 2066.85,1206.11 2070.89,1208.03 2074.93,1209.94 2078.97,1211.86 2083.01,1213.78 2087.05,1215.7 2091.09,1217.63 2095.13,1219.55 2099.17,1221.48 \n",
       "  2103.21,1223.41 2107.25,1225.33 2111.29,1227.26 2115.33,1229.19 2119.37,1231.11 2123.41,1233.04 2127.45,1234.96 2131.49,1236.89 2135.53,1238.81 2139.57,1240.73 \n",
       "  2143.61,1242.64 2147.65,1244.56 2151.69,1246.47 2155.73,1248.37 2159.77,1250.28 2163.81,1252.18 2167.85,1254.07 2171.89,1255.97 2175.93,1257.85 2179.97,1259.74 \n",
       "  2184.01,1261.61 2188.05,1263.49 2192.1,1265.35 2196.14,1267.21 2200.18,1269.07 2204.22,1270.92 2208.26,1272.76 2212.3,1274.59 2216.34,1276.42 2220.38,1278.24 \n",
       "  2224.42,1280.06 2228.46,1281.86 2232.5,1283.66 2236.54,1285.45 2240.58,1287.24 2244.62,1289.01 2248.66,1290.78 2252.7,1292.53 2256.74,1294.28 2260.78,1296.02 \n",
       "  \n",
       "  \"/>\n",
       "<polyline clip-path=\"url(#clip4303)\" style=\"stroke:#e26f46; stroke-width:4; stroke-opacity:1; fill:none\" stroke-dasharray=\"16, 10\" points=\"\n",
       "  244.724,1440.48 248.764,1439.68 252.805,1437.36 256.845,1433.59 260.885,1428.48 264.925,1422.19 268.965,1414.91 273.006,1406.85 277.046,1398.26 281.086,1389.4 \n",
       "  285.126,1380.53 289.166,1371.91 293.207,1363.8 297.247,1356.43 301.287,1350 305.327,1344.71 309.367,1340.68 313.407,1338.01 317.448,1336.78 321.488,1336.97 \n",
       "  325.528,1338.56 329.568,1341.47 333.608,1345.57 337.649,1350.71 341.689,1356.69 345.729,1363.29 349.769,1370.29 353.809,1377.43 357.85,1384.46 361.89,1391.13 \n",
       "  365.93,1397.22 369.97,1402.51 374.01,1406.81 378.05,1409.97 382.091,1411.87 386.131,1412.43 390.171,1411.63 394.211,1409.48 398.251,1406.04 402.292,1401.4 \n",
       "  406.332,1395.72 410.372,1389.17 414.412,1381.96 418.452,1374.33 422.493,1366.52 426.533,1358.81 430.573,1351.45 434.613,1344.71 438.653,1338.81 442.693,1333.99 \n",
       "  446.734,1330.42 450.774,1328.24 454.814,1327.57 458.854,1328.45 462.894,1330.89 466.935,1334.84 470.975,1340.19 475.015,1346.8 479.055,1354.47 483.095,1362.98 \n",
       "  487.136,1372.06 491.176,1381.42 495.216,1390.77 499.256,1399.79 503.296,1408.2 507.337,1415.7 511.377,1422.04 515.417,1427 519.457,1430.39 523.497,1432.07 \n",
       "  527.537,1431.97 531.578,1430.04 535.618,1426.31 539.658,1420.85 543.698,1413.78 547.738,1405.27 551.779,1395.52 555.819,1384.75 559.859,1373.22 563.899,1361.19 \n",
       "  567.939,1348.9 571.98,1336.62 576.02,1324.56 580.06,1312.92 584.1,1301.86 588.14,1291.48 592.18,1281.86 596.221,1272.99 600.261,1264.85 604.301,1257.34 \n",
       "  608.341,1250.32 612.381,1243.6 616.422,1236.98 620.462,1230.22 624.502,1223.05 628.542,1215.23 632.582,1206.5 636.623,1196.64 640.663,1185.45 644.703,1172.77 \n",
       "  648.743,1158.5 652.783,1142.58 656.823,1125.02 660.864,1105.89 664.904,1085.33 668.944,1063.52 672.984,1040.73 677.024,1017.24 681.065,993.39 685.105,969.555 \n",
       "  689.145,946.115 693.185,923.463 697.225,901.984 701.266,882.048 705.306,863.998 709.346,848.136 713.386,834.719 717.426,823.952 721.466,815.983 725.507,810.898 \n",
       "  729.547,808.723 733.587,809.426 737.627,812.916 741.667,819.05 745.708,827.642 749.748,838.467 753.788,851.273 757.828,865.787 761.868,881.724 765.909,898.794 \n",
       "  769.949,916.714 773.989,935.214 778.029,954.042 782.069,972.971 786.11,991.801 790.15,1010.37 794.19,1028.53 798.23,1046.18 802.27,1063.23 806.31,1079.65 \n",
       "  810.351,1095.39 814.391,1110.45 818.431,1124.81 822.471,1138.47 826.511,1151.45 830.552,1163.74 834.592,1175.31 838.632,1186.15 842.672,1196.2 846.712,1205.39 \n",
       "  850.753,1213.64 854.793,1220.81 858.833,1226.79 862.873,1231.41 866.913,1234.5 870.953,1235.9 874.994,1235.41 879.034,1232.86 883.074,1228.06 887.114,1220.88 \n",
       "  891.154,1211.15 895.195,1198.79 899.235,1183.7 903.275,1165.85 907.315,1145.24 911.355,1121.9 915.396,1095.94 919.436,1067.47 923.476,1036.66 927.516,1003.73 \n",
       "  931.556,968.923 935.596,932.522 939.637,894.834 943.677,856.19 947.717,816.938 951.757,777.437 955.797,738.053 959.838,699.15 963.878,661.09 967.918,624.221 \n",
       "  971.958,588.88 975.998,555.384 980.039,524.029 984.079,495.085 988.119,468.797 992.159,445.377 996.199,425.01 1000.24,407.847 1004.28,394.009 1008.32,383.585 \n",
       "  1012.36,376.632 1016.4,373.175 1020.44,373.214 1024.48,376.719 1028.52,383.634 1032.56,393.88 1036.6,407.353 1040.64,423.925 1044.68,443.452 1048.72,465.769 \n",
       "  1052.76,490.696 1056.8,518.04 1060.84,547.596 1064.88,579.148 1068.92,612.466 1072.96,647.316 1077,683.456 1081.04,720.639 1085.08,758.616 1089.12,797.136 \n",
       "  1093.16,835.951 1097.2,874.817 1101.24,913.499 1105.28,951.768 1109.32,989.411 1113.36,1026.23 1117.4,1062.03 1121.45,1096.67 1125.49,1129.98 1129.53,1161.86 \n",
       "  1133.57,1192.2 1137.61,1220.93 1141.65,1247.97 1145.69,1273.29 1149.73,1296.86 1153.77,1317.94 1157.81,1335.91 1161.85,1351.24 1165.89,1364.33 1169.93,1375.53 \n",
       "  1173.97,1385.11 1178.01,1393.33 1182.05,1400.4 1186.09,1406.5 1190.13,1411.77 1194.17,1416.35 1198.21,1420.32 1202.25,1423.76 1206.29,1426.76 1210.33,1429.35 \n",
       "  1214.37,1431.59 1218.41,1433.5 1222.45,1435.11 1226.49,1436.45 1230.53,1437.53 1234.57,1438.38 1238.61,1439.02 1242.65,1439.46 1246.69,1439.71 1250.73,1439.81 \n",
       "  1254.77,1439.77 1258.81,1439.61 1262.85,1439.36 1266.89,1439.04 1270.93,1438.66 1274.97,1438.26 1279.01,1437.86 1283.05,1437.48 1287.09,1437.13 1291.13,1436.83 \n",
       "  1295.17,1436.61 1299.21,1436.46 1303.25,1436.39 1307.29,1436.42 1311.33,1436.53 1315.37,1436.74 1319.41,1437.03 1323.45,1437.38 1327.49,1437.8 1331.53,1438.25 \n",
       "  1335.58,1438.71 1339.62,1439.17 1343.66,1439.6 1347.7,1439.98 1351.74,1440.26 1355.78,1440.44 1359.82,1440.48 1363.86,1440.37 1367.9,1440.08 1371.94,1439.63 \n",
       "  1375.98,1439.02 1380.02,1438.26 1384.06,1437.4 1388.1,1436.47 1392.14,1435.52 1396.18,1434.62 1400.22,1433.81 1404.26,1433.16 1408.3,1432.7 1412.34,1432.48 \n",
       "  1416.38,1432.52 1420.42,1432.82 1424.46,1433.36 1428.5,1434.12 1432.54,1435.02 1436.58,1436 1440.62,1436.97 1444.66,1437.83 1448.7,1438.48 1452.74,1438.83 \n",
       "  1456.78,1438.79 1460.82,1438.29 1464.86,1437.28 1468.9,1435.75 1472.94,1433.71 1476.98,1431.22 1481.02,1428.34 1485.06,1425.19 1489.1,1421.9 1493.14,1418.63 \n",
       "  1497.18,1415.51 1501.22,1412.73 1505.26,1410.41 1509.3,1408.7 1513.34,1407.68 1517.38,1407.41 1521.42,1407.91 1525.46,1409.15 1529.5,1411.06 1533.54,1413.51 \n",
       "  1537.58,1416.34 1541.62,1419.35 1545.66,1422.32 1549.71,1425.02 1553.75,1427.23 1557.79,1428.72 1561.83,1429.32 1565.87,1428.87 1569.91,1427.27 1573.95,1424.49 \n",
       "  1577.99,1420.55 1582.03,1415.54 1586.07,1409.6 1590.11,1402.95 1594.15,1395.84 1598.19,1388.57 1602.23,1381.45 1606.27,1374.81 1610.31,1368.96 1614.35,1364.18 \n",
       "  1618.39,1360.72 1622.43,1358.76 1626.47,1358.4 1630.51,1359.67 1634.55,1362.52 1638.59,1366.79 1642.63,1372.26 1646.67,1378.62 1650.71,1385.51 1654.75,1392.51 \n",
       "  1658.79,1399.21 1662.83,1405.14 1666.87,1409.9 1670.91,1413.11 1674.95,1414.45 1678.99,1413.71 1683.03,1410.74 1687.07,1405.53 1691.11,1398.18 1695.15,1388.9 \n",
       "  1699.19,1378 1703.23,1365.91 1707.27,1353.12 1711.31,1340.18 1715.35,1327.66 1719.39,1316.16 1723.43,1306.21 1727.47,1298.32 1731.51,1292.88 1735.55,1290.18 \n",
       "  1739.59,1290.39 1743.63,1293.53 1747.67,1299.47 1751.71,1307.93 1755.75,1318.51 1759.79,1330.67 1763.84,1343.77 1767.88,1357.13 1771.92,1370.01 1775.96,1381.68 \n",
       "  1780,1391.45 1784.04,1398.71 1788.08,1402.94 1792.12,1403.79 1796.16,1401.03 1800.2,1394.65 1804.24,1384.79 1808.28,1371.77 1812.32,1356.1 1816.36,1338.4 \n",
       "  1820.4,1319.45 1824.44,1300.08 1828.48,1281.18 1832.52,1263.64 1836.56,1248.28 1840.6,1235.87 1844.64,1227.04 1848.68,1222.26 1852.72,1221.8 1856.76,1225.74 \n",
       "  1860.8,1233.95 1864.84,1246.09 1868.88,1261.59 1872.92,1279.74 1876.96,1299.68 1881,1320.43 1885.04,1340.96 1889.08,1360.24 1893.12,1377.26 1897.16,1391.1 \n",
       "  1901.2,1401.01 1905.24,1406.38 1909.28,1406.81 1913.32,1402.15 1917.36,1392.49 1921.4,1378.15 1925.44,1359.7 1929.48,1337.9 1933.52,1313.7 1937.56,1288.18 \n",
       "  1941.6,1262.5 1945.64,1237.85 1949.68,1215.39 1953.72,1196.21 1957.76,1181.25 1961.8,1171.25 1965.84,1166.76 1969.88,1168.03 1973.92,1175.09 1977.97,1187.66 \n",
       "  1982.01,1205.21 1986.05,1226.95 1990.09,1251.9 1994.13,1278.88 1998.17,1306.65 2002.21,1333.86 2006.25,1359.21 2010.29,1381.44 2014.33,1399.46 2018.37,1412.32 \n",
       "  2022.41,1419.35 2026.45,1420.1 2030.49,1414.46 2034.53,1402.6 2038.57,1384.96 2042.61,1362.32 2046.65,1335.65 2050.69,1306.15 2054.73,1275.15 2058.77,1244.09 \n",
       "  2062.81,1214.4 2066.85,1187.48 2070.89,1164.6 2074.93,1146.87 2078.97,1135.14 2083.01,1130.02 2087.05,1131.79 2091.09,1140.42 2095.13,1155.56 2099.17,1176.54 \n",
       "  2103.21,1202.44 2107.25,1232.07 2111.29,1264.07 2115.33,1296.96 2119.37,1329.22 2123.41,1359.32 2127.45,1385.85 2131.49,1407.54 2135.53,1423.34 2139.57,1432.48 \n",
       "  2143.61,1434.49 2147.65,1429.21 2151.69,1416.85 2155.73,1397.95 2159.77,1373.32 2163.81,1344.09 2167.85,1311.58 2171.89,1277.27 2175.93,1242.74 2179.97,1209.59 \n",
       "  2184.01,1179.35 2188.05,1153.43 2192.1,1133.05 2196.14,1119.16 2200.18,1112.43 2204.22,1113.19 2208.26,1121.42 2212.3,1136.76 2216.34,1158.53 2220.38,1185.72 \n",
       "  2224.42,1217.09 2228.46,1251.19 2232.5,1286.46 2236.54,1321.27 2240.58,1353.99 2244.62,1383.13 2248.66,1407.32 2252.7,1425.46 2256.74,1436.68 2260.78,1440.48 \n",
       "  \n",
       "  \"/>\n",
       "</svg>\n"
      ]
     },
     "execution_count": 30,
     "metadata": {},
     "output_type": "execute_result"
    }
   ],
   "source": [
    "plot(xs,[abs(psianalyticsol(x,T))^2 for x in xs], ylim=(0,7))\n",
    "plot!(xs, [abs(evaluate(sol1.states[end].psi, x))^2 for x in xs], \n",
    "    xlabel = \"x\", ylabel = \"p(x)\", legend = :false, linestyle = :dash)"
   ]
  },
  {
   "cell_type": "code",
   "execution_count": 42,
   "metadata": {},
   "outputs": [
    {
     "name": "stderr",
     "output_type": "stream",
     "text": [
      "┌ Info: Saved animation to \n",
      "│   fn = /Users/laurasberna/JuliaProjects/DifferentialEquationsModule.jl/SchrodingerEq.jl/tmp.gif\n",
      "└ @ Plots /Users/laurasberna/.julia/packages/Plots/rmogG/src/animation.jl:90\n"
     ]
    },
    {
     "data": {
      "text/html": [
       "<img src=\"tmp.gif?0.5754650614470254>\" />"
      ],
      "text/plain": [
       "Plots.AnimatedGif(\"/Users/laurasberna/JuliaProjects/DifferentialEquationsModule.jl/SchrodingerEq.jl/tmp.gif\")"
      ]
     },
     "execution_count": 42,
     "metadata": {},
     "output_type": "execute_result"
    }
   ],
   "source": [
    "xs = collect(range(0, stop=1, length=Int64(n/4)))\n",
    "@gif for i=1:length(sol1.states)\n",
    "    plot(xs, [abs(evaluate(sol1.states[i].psi, x))^2 for x in xs], xlabel = \"x\", ylabel = \"p(x)\", legend = :false, \n",
    "    xlim = (0,1), ylim = (0,9))\n",
    "    plot!([x0 + p / m * (lambda / n * i) * hbar], seriestype = :vline, linestyle = :dash, \n",
    "        linecolor= :black, linealpha= 0.8)\n",
    "    plot!(xs,[abs(psianalyticsol(x,i*lambda/n))^2 for x in xs], linestyle= :dash, linealpha= 0.6)\n",
    "    plot!([0.5], seriestype = :vline, \n",
    "    linealpha=0.3, xlim=(0,1), line = (:red, 50))\n",
    "    end every 200"
   ]
  },
  {
   "cell_type": "markdown",
   "metadata": {},
   "source": [
    "### Convergence tests"
   ]
  },
  {
   "cell_type": "markdown",
   "metadata": {},
   "source": [
    "## Comparison with Suzuki-Trotter solver"
   ]
  },
  {
   "cell_type": "code",
   "execution_count": null,
   "metadata": {},
   "outputs": [],
   "source": []
  }
 ],
 "metadata": {
  "kernelspec": {
   "display_name": "Julia 1.0.0",
   "language": "julia",
   "name": "julia-1.0"
  },
  "language_info": {
   "file_extension": ".jl",
   "mimetype": "application/julia",
   "name": "julia",
   "version": "1.0.0"
  }
 },
 "nbformat": 4,
 "nbformat_minor": 2
}
